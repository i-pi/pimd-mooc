{
 "cells": [
  {
   "cell_type": "markdown",
   "metadata": {},
   "source": [
    "<p style=\"font-size:32px; font-weight: bolder; text-align: center\"> Ring Polymer Molecular Dynamics </p>"
   ]
  },
  {
   "cell_type": "markdown",
   "metadata": {},
   "source": [
    "<p style=\"font-size:16px; font-weight: bold; text-align: center\"> Author: Venkat Kapil [vk380@cam.ac.uk]</p>"
   ]
  },
  {
   "cell_type": "markdown",
   "metadata": {},
   "source": [
    "### "
   ]
  },
  {
   "cell_type": "markdown",
   "metadata": {},
   "source": [
    "This notebook provides a hands-on counterpart to the \"Ring polymer molecular dynamics\" lecture for the MOOC \"Path Integrals in Atomistic Modeling\". \n",
    "\n",
    "The different sections in this notebook match the parts this lecture is divided into:\n",
    "\n",
    "1. RPMD 2\n",
    "2. RPMD 3 \n",
    "3. RPMD 4 \n",
    "\n",
    "<p style=\"color:blue; font-weight:bold\"> Questions in blue invite you to reflect on the results you are obtaining. If you are doing these notebooks as part of a course, there might be questions to answer relative to those parts. </p>"
   ]
  },
  {
   "cell_type": "code",
   "execution_count": null,
   "metadata": {},
   "outputs": [],
   "source": [
    "import numpy as np\n",
    "import matplotlib.pyplot as plt\n",
    "import ase, ase.io\n",
    "import chemiscope\n",
    "import pimdmooc\n",
    "pimdmooc.add_ipi_paths()"
   ]
  },
  {
   "cell_type": "code",
   "execution_count": null,
   "metadata": {},
   "outputs": [],
   "source": [
    "plt.rcParams.update({\n",
    "    \"text.usetex\": True,\n",
    "    \"font.family\": \"sans-serif\",\n",
    "    \"font.sans-serif\": [\"Helvetica\"]})\n",
    "# for Palatino and other serif fonts use:\n",
    "plt.rcParams.update({\n",
    "    \"text.usetex\": True,\n",
    "    \"font.family\": \"serif\",\n",
    "    \"font.serif\": [\"Palatino\"],\n",
    "})\n",
    "# It's also possible to use the reduced notation by directly setting font.family:\n",
    "plt.rcParams.update({\n",
    "  \"text.usetex\": False,\n",
    "  \"font.family\": \"Helvetica\"\n",
    "})"
   ]
  },
  {
   "cell_type": "markdown",
   "metadata": {},
   "source": [
    "# EXERCISE 1: Quantum time correlation functions"
   ]
  },
  {
   "cell_type": "markdown",
   "metadata": {},
   "source": [
    "We consider a (classical) harmonic oscillator with frequency $\\omega$ and unit mass, in the constant-temperature ensemble at inverse temperature $\\beta$. "
   ]
  },
  {
   "cell_type": "markdown",
   "metadata": {},
   "source": [
    "## Standard quantum time correlation function"
   ]
  },
  {
   "cell_type": "markdown",
   "metadata": {},
   "source": [
    "The standard quantum time auto-correlation function of the position operator is given as"
   ]
  },
  {
   "cell_type": "markdown",
   "metadata": {},
   "source": [
    "$C^{\\text{std}}_{\\hat{q}\\hat{q}}(t) = Z^{-1} \\sum_{i} e^{-\\beta E_{i}} \\sum_{j} e^{ -i(E_{i} - E_{j}) t / \\hbar} ~ <i| \\hat{q} | j> ~ < j | \\hat{q} | i >$"
   ]
  },
  {
   "cell_type": "markdown",
   "metadata": {},
   "source": [
    "where \n",
    "- $E_i$ is the energy of the i-th eigenstate of the system\n",
    "- $<i|\\hat{q}|j>$ is the ij-th matrix element of the position operator\n",
    "- $Z$ is the quantum canonical partition function\n",
    "\n",
    "Let us define functions for some of these for a simple harmonic oscillator [in reduced  units]!"
   ]
  },
  {
   "cell_type": "code",
   "execution_count": null,
   "metadata": {},
   "outputs": [],
   "source": [
    "m = 1\n",
    "hbar = 1\n",
    "beta = 1"
   ]
  },
  {
   "cell_type": "code",
   "execution_count": null,
   "metadata": {},
   "outputs": [],
   "source": [
    "def Ei(i, omega=1, return_zero=False):\n",
    "    \"\"\"\n",
    "    Return the energy of the i-th eigen state of the simple harmonic oscillator.\n",
    "    \"\"\"\n",
    "    \n",
    "    if return_zero:\n",
    "        return (i + 1/2) * hbar * omega \n",
    "    else:\n",
    "        return (i) * hbar * omega \n",
    "    \n",
    "    \n",
    "def qij(i, j, omega=1):\n",
    "    \"\"\"\n",
    "    Return the expection value of <i| q |j> where q is the position operator and \n",
    "    |i>, |j> correspond to the i-th and j-th eigenstate of the sinple harmonic oscillator.\n",
    "    Invoking ladder operators, the position  operator is written as\n",
    "    \n",
    "    q = \\sqrt[ h / (2 m w) ] (a + a†) \n",
    "    \n",
    "    Thus, \n",
    "    \n",
    "    qij = \\sqrt[ h / (2 m w) ] (<i | a | j> + <i | a† | j>)\n",
    "    \n",
    "    with\n",
    "    \n",
    "    <i | a | j> = sqrt[j] delta(i, j-1)\n",
    "    <i | a† | j> = sqrt[j+1] delta(i, j+1)\n",
    "    \n",
    "    \"\"\"\n",
    "    \n",
    "    if i == j - 1:\n",
    "        return np.sqrt(hbar / (2 * m * omega)) * np.sqrt(j) \n",
    "    elif i == j + 1:\n",
    "        return np.sqrt(hbar / (2 * m * omega)) * np.sqrt(j + 1) \n",
    "    else: \n",
    "        return 0"
   ]
  },
  {
   "cell_type": "markdown",
   "metadata": {},
   "source": [
    "<p style=\"color:blue; font-weight:bold\"> You may have learnt in your undergrad QM course that the position operator can be expressed in terms of ladder operators. These ladder operators essentially \"upgrade\" or \"downgrade\" the eigenstate by one, i.e. $\\left(|i\\rangle \\to |i \\pm 1\\rangle\\right)$.  By virtue of this property, can you verify which matrix elements of the position operator will be zero? </p>."
   ]
  },
  {
   "cell_type": "code",
   "execution_count": null,
   "metadata": {},
   "outputs": [],
   "source": [
    "# Try here. \n",
    "# Hint: estimate  qij(i, j, omega=1) for i = j, i = j +/- 1, i = j +/- 2 , ....., and look for a pattern :) "
   ]
  },
  {
   "cell_type": "markdown",
   "metadata": {},
   "source": [
    "Let us now define a function that evaluates the standard time correlation function by summping up matrix elements up to the i-th eigenstate."
   ]
  },
  {
   "cell_type": "code",
   "execution_count": null,
   "metadata": {},
   "outputs": [],
   "source": [
    "def Cqq_std(t, omega=1, i_max=100):\n",
    "    \"\"\"\n",
    "    Calculates the standard quantum time correlation function of a simple harmonic oscillator \n",
    "    by considering the first i_max eigenstates.\n",
    "    \"\"\"\n",
    "    \n",
    "    rc = 0\n",
    "    rz = 0\n",
    "        \n",
    "    for i in range(i_max + 1):\n",
    "        \n",
    "        sumj = 0\n",
    "        for j in range(0, i + 2): \n",
    "            sumj += np.exp(-1j * (Ei(i, omega) - Ei(j, omega)) * t / hbar) * qij(i,j) * qij(j,i)\n",
    "            \n",
    "        rc += sumj * np.exp (-beta * Ei(i, omega))\n",
    "        rz += np.exp (-beta * Ei(i, omega))\n",
    "\n",
    "    \n",
    "    if i_max > 0:\n",
    "        return rc / rz\n",
    "    else:\n",
    "        return t * 0"
   ]
  },
  {
   "cell_type": "markdown",
   "metadata": {},
   "source": [
    "## Let us calculate the standard time correlation function!"
   ]
  },
  {
   "cell_type": "markdown",
   "metadata": {},
   "source": [
    "Here is a small snippet that plots the real and imaginary parts of the standard time correlation function for $t \\in [0, 10]$ with an overconservative value of the highest eigenstate. "
   ]
  },
  {
   "cell_type": "code",
   "execution_count": null,
   "metadata": {},
   "outputs": [],
   "source": [
    "t = np.linspace(0,10, 100)\n",
    "i_max = 100\n",
    "\n",
    "plt.title('Real part of the std quantum TCF')\n",
    "plt.xlabel('time [a.u.]')\n",
    "plt.ylabel('Re($C^{\\mathrm{std}}_{qq}$) [a.u.]')\n",
    "plt.plot(t, np.real(Cqq_std(t, 1, i_max)), label= 'up to state ' +  str(i_max), ls='--')\n",
    "plt.legend()\n",
    "plt.show()\n",
    "\n",
    "\n",
    "plt.title('Imaginary part of the std quantum TCF')\n",
    "plt.xlabel('time [a.u.]')\n",
    "plt.ylabel('Im($C^{\\mathrm{std}}_{qq}$) [a.u.]')\n",
    "plt.plot(t, np.imag(Cqq_std(t, 1, i_max)), label= 'up to state ' +  str(i_max), ls='--')\n",
    "plt.show()"
   ]
  },
  {
   "cell_type": "markdown",
   "metadata": {},
   "source": [
    "<p style=\"color:blue; font-weight:bold\"> Can you check the number of eigenstates needed to \"visibly\" converge the real and imaginary terms? Plot the converged real and imaginary parts for $t \\in [-100, 100]$. Can you also check if the real and imaginary parts of the standard quantum TCF are odd or even functions? </p>"
   ]
  },
  {
   "cell_type": "code",
   "execution_count": null,
   "metadata": {},
   "outputs": [],
   "source": [
    "# try here. \n",
    "# Hint: extend the range of time and plot the real and imaginary parts of the standard TCF as a function of the number of eigenstates."
   ]
  },
  {
   "cell_type": "markdown",
   "metadata": {},
   "source": [
    "## Kubo-transformed time correlation function"
   ]
  },
  {
   "cell_type": "markdown",
   "metadata": {},
   "source": [
    "The Kubo-transformed quantum time auto-correlation function of the position operator is given as"
   ]
  },
  {
   "cell_type": "markdown",
   "metadata": {},
   "source": [
    "$C^{\\text{kubo}}_{\\hat{q}\\hat{q}}(t) = (Z \\beta)^{-1} \\int_{0}^{\\beta} d\\lambda  \\sum_{i} e^{-(\\beta - \\lambda) E_i} \n",
    "   (\\sum_{j} exp^{-\\lambda E_j} \\exp^{ -i(E_i - E_j) t / \\hbar} ~ <i| \\hat{q} | j> ~ < j | \\hat{q} | i >)$\n",
    "\n",
    "which can also be written as\n",
    "\n",
    "$C^{\\text{kubo}}_{\\hat{q}\\hat{q}}(t) = Z^{-1} \\sum_{i} e^{-\\beta E_i} \\sum_{j} e^{ -i(E_i - E_j) t / \\hbar}  ~ <i| \\hat{q} | j> ~ < j | \\hat{q} | i > \n",
    "              \\frac{\\int_{0}^{\\beta} d\\lambda  e^{-\\lambda (E_j-E_i)}}{\\int_{0}^{\\beta} d\\lambda} $\n",
    "\n"
   ]
  },
  {
   "cell_type": "markdown",
   "metadata": {},
   "source": [
    "Let us reuse the functions to study the convergence of the Kubo-transformated position auto-correlation function. \n",
    "Note that we will need to converge w.r.t the granuality of the integration over imaginary time (beta) and over the maximum occupied eigenstate. To begin, we can assume the two to be independent parameters."
   ]
  },
  {
   "cell_type": "code",
   "execution_count": null,
   "metadata": {},
   "outputs": [],
   "source": [
    "def Cqq_kubo(t, omega=1, i_max=100, lgrid=1000):\n",
    "    \"\"\"\n",
    "    Calculates the standard quantum time correlation function of a simple harmonic oscillator \n",
    "    by considering the first i_max eigenstates.\n",
    "    \"\"\"\n",
    "    \n",
    "    rcqq = 0\n",
    "    rz = 0\n",
    "    \n",
    "    lgrid = np.linspace(0, beta, lgrid)\n",
    "    \n",
    "    for i in range(i_max + 1):\n",
    "                \n",
    "        for j in range(i + 2): \n",
    "            \n",
    "            lterm = np.sum(np.exp(-lgrid * (Ei(j) - Ei(i)))) * (lgrid[1] - lgrid[0]) / beta\n",
    "            rcqq += lterm * np.exp (-(beta) * Ei(i)) * np.exp(-1j * (Ei(i) - Ei(j)) * t / hbar) * qij(i,j) * qij(j,i)\n",
    "            \n",
    "        rz += np.exp (-beta * Ei(i))\n",
    "        \n",
    "    if i_max > 0:\n",
    "        return rcqq / rz\n",
    "    else:\n",
    "        return t * 0"
   ]
  },
  {
   "cell_type": "markdown",
   "metadata": {},
   "source": [
    "This snippet that plots the real and imaginary parts of the kubo-transformed time correlation function for $t \\in [0, 10]$ with an overconservative values of the highest eigenstate and the integration grid over $\\lambda$."
   ]
  },
  {
   "cell_type": "code",
   "execution_count": null,
   "metadata": {},
   "outputs": [],
   "source": [
    "t = np.linspace(0,10, 100)\n",
    "i_max = 100\n",
    "\n",
    "plt.title('Real part of the kubo-transformed quantum TCF')\n",
    "plt.xlabel('time [a.u.]')\n",
    "plt.ylabel('Re($C^{\\mathrm{std}}_{qq}$) [a.u.]')\n",
    "plt.plot(t, np.real(Cqq_kubo(t, 1, i_max)), label= 'up to state ' +  str(i_max), ls='--')\n",
    "plt.legend()\n",
    "plt.ylim(-1.5,1.5)\n",
    "plt.show()\n",
    "\n",
    "\n",
    "plt.title('Imaginary part of the kubo-transformed quantum TCF')\n",
    "plt.xlabel('time [a.u.]')\n",
    "plt.ylabel('Im($C^{\\mathrm{std}}_{qq}$) [a.u.]')\n",
    "plt.plot(t, np.imag(Cqq_kubo(t, 1, i_max)), label= 'up to state ' +  str(i_max), ls='--')\n",
    "plt.ylim(-1.5,1.5)\n",
    "plt.show()\n"
   ]
  },
  {
   "cell_type": "markdown",
   "metadata": {},
   "source": [
    "<p style=\"color:blue; font-weight:bold\"> Can you check the number of eigenstates needed to \"visibly\" converge the real and imaginary terms? Can you check the granuality of the lambda grid needed to \"visibly\" converge the real and imaginary terms? Plot the converged real and imaginary parts for $t \\in [-100, 100]$. Can you also check if the real and imaginary parts of the kubo-transformed quantum TCF are odd or even functions? </p>"
   ]
  },
  {
   "cell_type": "code",
   "execution_count": null,
   "metadata": {},
   "outputs": [],
   "source": [
    "# try here. "
   ]
  },
  {
   "cell_type": "markdown",
   "metadata": {},
   "source": [
    "## Detailed balance relation"
   ]
  },
  {
   "cell_type": "markdown",
   "metadata": {},
   "source": [
    "As you can see for $\\beta$ >> $\\hbar \\omega$ the standard and the kubo-transformed quantum position autocorrelation functions deviate from one another. Let us now verify whether their Fourier transforms are related by the harmonic detail balance correction factor. To ensure that we can verify this relation numerically, we multiply the position autocorrelation by a soft damping function. This ensures that our signal goes to zero and thus its integral can numerically computed by quadrature. In practice this prevents spectral leakage. "
   ]
  },
  {
   "cell_type": "markdown",
   "metadata": {},
   "source": [
    "Here is a snippet that computes the damping function and plots it. "
   ]
  },
  {
   "cell_type": "code",
   "execution_count": null,
   "metadata": {},
   "outputs": [],
   "source": [
    "t = np.linspace(-200,200, 10000)\n",
    "\n",
    "def fdamp(t):\n",
    "    \"\"\"\n",
    "    An even dampling function\n",
    "    \"\"\"\n",
    "    \n",
    "    return np.exp(-(t / 40 / np.pi)**2)\n",
    "\n",
    "plt.xlabel('time [a.u.]')\n",
    "plt.ylabel('damping function')\n",
    "plt.plot(t, fdamp(t), label='')\n",
    "plt.show()"
   ]
  },
  {
   "cell_type": "markdown",
   "metadata": {},
   "source": [
    "And here is a snippet that does basic fourier analysis of a sum of waves of randomly sampled frequencies."
   ]
  },
  {
   "cell_type": "code",
   "execution_count": null,
   "metadata": {},
   "outputs": [],
   "source": [
    "t = np.linspace(-100,100, 10000)\n",
    "plt.title('$C_{qq}$ of a harmonic oscillator\\n [m = 1; hbar = 1; $beta$ = 1; $\\omega$=1]')\n",
    "plt.xlabel('time [a.u.]')\n",
    "plt.ylabel('$C_{qq}$ [a.u.]')\n",
    "plt.plot(t, np.real(Cqq_std(t)), label='std')\n",
    "plt.plot(t, np.real(Cqq_kubo(t)), label='kubo')\n",
    "plt.legend()\n",
    "plt.show()\n"
   ]
  },
  {
   "cell_type": "code",
   "execution_count": null,
   "metadata": {},
   "outputs": [],
   "source": [
    "_nw = 5\n",
    "# samples frequencies in the range 0, 1\n",
    "ws = np.random.rand(_nw)"
   ]
  },
  {
   "cell_type": "code",
   "execution_count": null,
   "metadata": {},
   "outputs": [],
   "source": [
    "t = np.linspace(-200,200, 1000)\n",
    "\n",
    "print (\"This is a sum of waves of these frequencies: \", ws)\n",
    "\n",
    "def wave(t, ws):\n",
    "    \"\"\"\n",
    "    A sum of cosine waves.\n",
    "    \"\"\"\n",
    "    return np.sum(np.cos(np.outer(ws,t)), axis=0)\n",
    "\n",
    "signal = wave(t, ws)\n",
    "plt.title('Signal in time domain')\n",
    "plt.plot(t, signal, label='original')\n",
    "signal = wave(t, ws) * fdamp(t) \n",
    "plt.plot(t, signal, label='damped')\n",
    "plt.legend()\n",
    "plt.show()\n",
    "\n",
    "\n",
    "dt = t[1] - t[0]\n",
    "w = np.linspace(0, 1.1, 10000)\n",
    "ft = np.zeros(w.shape)\n",
    "for i in range(len(w)):\n",
    "    ft[i] = np.real(np.sum(dt * np.exp(-1j * w[i] * t) * signal))\n",
    "    \n",
    "plt.title('Fourier transfors of the signal')\n",
    "plt.plot(w, ft, label='FT')\n",
    "for tmpw in ws:\n",
    "    plt.axvline(x=tmpw, color='k', label=r'ref $\\omega$ = %5.3f' % (tmpw), ls='--')\n",
    "\n",
    "plt.xlabel('$\\omega$ [a.u.]')\n",
    "plt.ylabel('FT($\\omega)$ [a.u.]')\n",
    "plt.legend()\n",
    "plt.show()"
   ]
  },
  {
   "cell_type": "markdown",
   "metadata": {},
   "source": [
    "<p style=\"color:blue; font-weight:bold\"> Let's numerically calculate the left and right hand sides of Eq. 4.11, i.e. compute the Fourier transforms of the standard and Kubo transformed autocorrelation functions and see if their ratio is given by Eq. 4.12. How does this relation depend on the damping function used? </p>"
   ]
  },
  {
   "cell_type": "code",
   "execution_count": null,
   "metadata": {},
   "outputs": [],
   "source": [
    "# try here. \n",
    "# Hint: Compute the FT of the std and kubo-transformed TCFs and compute their ratio."
   ]
  },
  {
   "cell_type": "markdown",
   "metadata": {},
   "source": [
    "# EXERCISE 2: Properties of classical dynamics"
   ]
  },
  {
   "cell_type": "markdown",
   "metadata": {},
   "source": [
    "A harmonic oscillator (in reduced units) samples the following canonical distribution\n",
    "\n",
    "$ P(p) \\propto e^{-\\beta p^2 / 2}$\n",
    "\n",
    "$ P(q) \\propto e^{-\\beta q^2 / 2}$ \n",
    "\n",
    "Let us sample initial configurations from these distibutions. "
   ]
  },
  {
   "cell_type": "code",
   "execution_count": null,
   "metadata": {},
   "outputs": [],
   "source": [
    "n_trajs = 10\n",
    "\n",
    "p0s = []\n",
    "q0s = []\n",
    "\n",
    "for i in range(n_trajs):\n",
    "    p0s.append(np.random.normal())\n",
    "    q0s.append(np.random.normal())"
   ]
  },
  {
   "cell_type": "markdown",
   "metadata": {},
   "source": [
    "Let's also define the force on a harmonic oscillator (needed to perform molecular dynamics)"
   ]
  },
  {
   "cell_type": "code",
   "execution_count": null,
   "metadata": {},
   "outputs": [],
   "source": [
    "def f(q):\n",
    "    \"\"\"\n",
    "    The force acting on a simple harmonic oscillator [in reduced units]\n",
    "    \"\"\"\n",
    "    return -q"
   ]
  },
  {
   "cell_type": "markdown",
   "metadata": {},
   "source": [
    "Here is a simple velocity verlet scheme to perform molecular dynamics. The trajectories are saved in the dictionary `traj_ens`."
   ]
  },
  {
   "cell_type": "code",
   "execution_count": null,
   "metadata": {},
   "outputs": [],
   "source": [
    "traj_ens = {}\n",
    "\n",
    "for j, p0, q0 in zip(range(n_trajs), p0s, q0s):\n",
    "\n",
    "    p = p0\n",
    "    q = q0\n",
    "    dt = 0.01\n",
    "    tmax = 100\n",
    "    steps = int(tmax / dt)\n",
    "    \n",
    "    traj_ens[j] = {}\n",
    "\n",
    "    plist = []\n",
    "    qlist = []\n",
    "    flist = []\n",
    "    \n",
    "    for i in range(steps):\n",
    "\n",
    "        p = p + (f(q)) * dt / 2\n",
    "        q = q + p * dt\n",
    "        p = p + (f(q)) * dt / 2\n",
    "\n",
    "        plist.append(p)\n",
    "        qlist.append(q)\n",
    "        flist.append(f(q))\n",
    "\n",
    "\n",
    "    traj_ens[j]['plist'] = plist\n",
    "    traj_ens[j]['qlist'] = qlist\n",
    "    traj_ens[j]['flist'] = flist\n",
    "    "
   ]
  },
  {
   "cell_type": "markdown",
   "metadata": {},
   "source": [
    "## Conservation of phase-space volume"
   ]
  },
  {
   "cell_type": "markdown",
   "metadata": {},
   "source": [
    "We note that the velocity-Verlet scheme can be summarized as follows:\n",
    "\n",
    "$q(t + dt) = q(t) + p(t)~dt  + \\frac{1}{2}~f(q(t))~dt^2$\n",
    "\n",
    "$p(t + dt) = p(t) + \\frac{1}{2} \\left(f(q(t)) + f(q(t + dt))\\right)~dt$\n",
    "\n",
    "The Jacobian of the transformation of the phase-space vector from time $t$ to $t + dt$\n",
    "can be calculated as\n",
    "\n",
    "$J = \\begin{vmatrix}\n",
    "\\frac{\\partial p(t + dt)}{\\partial p(t)} & \\frac{\\partial p(t + dt)}{\\partial q(t)} \\\\\n",
    "\\frac{\\partial q(t + dt)}{\\partial p(t)} & \\frac{\\partial q(t + dt)}{\\partial q(t)}\n",
    "\\end{vmatrix} = \\begin{vmatrix}\n",
    "1 & \\frac{1}{2} f'(q(t))~dt \\\\\n",
    "dt & 1 + \\frac{1}{2} f'(q(t))~dt^2\n",
    "\\end{vmatrix}$\n",
    "\n",
    "Clearly, the determinant is 1, hence the dynamics conserves the differential volume of the phase-space vector. "
   ]
  },
  {
   "cell_type": "markdown",
   "metadata": {},
   "source": [
    "We can, however, verify the conservation of volume numerically in the following way. Let us visualize the positions as a function of time for the sampled trajectories"
   ]
  },
  {
   "cell_type": "code",
   "execution_count": null,
   "metadata": {},
   "outputs": [],
   "source": [
    "plt.title('Trajectories with different offsets')\n",
    "plt.legend()\n",
    "for i in range(n_trajs):\n",
    "    qlist = traj_ens[i]['qlist']\n",
    "    dq = np.asarray(qlist)\n",
    "    plt.plot(range(len(qlist)), dq, lw=1.0, ls='-', label='traj ' + str(i))\n",
    "    plt.xlabel('step')\n",
    "    plt.ylabel('q [a.u.]')\n",
    "    plt.show()\n",
    "\n",
    "\n"
   ]
  },
  {
   "cell_type": "markdown",
   "metadata": {},
   "source": [
    "Let us also visualize the phase-space vector a function of time"
   ]
  },
  {
   "cell_type": "code",
   "execution_count": null,
   "metadata": {},
   "outputs": [],
   "source": [
    "plt.title('Trajectories')\n",
    "\n",
    "for i in range(n_trajs):\n",
    "    qlist = traj_ens[i]['qlist']\n",
    "    plist = traj_ens[i]['plist']\n",
    "    dq = np.asarray(qlist)\n",
    "    plt.plot(qlist, plist, lw=1.0, ls='--', label='traj ' + str(i))\n",
    "    plt.xlabel('step')\n",
    "    plt.ylabel('q [a.u.]')\n",
    "\n",
    "plt.legend()"
   ]
  },
  {
   "cell_type": "markdown",
   "metadata": {},
   "source": [
    "Considering the phase-space vector to be a parametric curve (with respect to time), conservation of the phase-space volume can be numerically checked by calculating the arc length $\\delta p^2 + \\delta q^2$. Note that the change in position and momentum can be calculates using "
   ]
  },
  {
   "cell_type": "markdown",
   "metadata": {},
   "source": [
    "$\\delta q(t) = q(t + dt) - q(t) = p(t)~dt  + \\frac{1}{2}~f(q(t))~dt^2$\n",
    "\n",
    "$\\delta p(t) = p(t + dt) - p(t) = \\frac{1}{2} \\left(f(q(t)) + f(q(t + dt))\\right)~dt$"
   ]
  },
  {
   "cell_type": "markdown",
   "metadata": {},
   "source": [
    "Can you verify if the arc length of the phase space vector is conserved during the dynamics?"
   ]
  },
  {
   "cell_type": "markdown",
   "metadata": {},
   "source": [
    "<p style=\"color:blue; font-weight:bold\"> Verify if the arc length of the phase space vector is conserved during the dynamics by plotting $\\delta q(t) / dt$, $\\delta q(t)  / dt$, and $\\sqrt{\\delta p^2(t) + \\delta q^2(t)} / dt$ ? Is the arc length per timestep exactly zero? How does it depend on the timestep? </p>"
   ]
  },
  {
   "cell_type": "code",
   "execution_count": null,
   "metadata": {},
   "outputs": [],
   "source": [
    "plt.title('???')\n",
    "\n",
    "for i in range(n_trajs):\n",
    "    qlist = traj_ens[i]['qlist']\n",
    "    plist = traj_ens[i]['plist']\n",
    "    flist = traj_ens[i]['flist']\n",
    "        \n",
    "    p = np.asarray(plist)\n",
    "    f = np.asarray(flist)\n",
    "    q = np.asarray(qlist)\n",
    "    \n",
    "    # compute here\n",
    "    # plot here\n",
    "    \n",
    "    plt.xlabel('step')\n",
    "    plt.ylabel('??? [a.u.]')\n",
    "    plt.xlim(0, int(len(qlist) * 1.3))\n",
    "\n",
    "\n",
    "plt.show()"
   ]
  },
  {
   "cell_type": "markdown",
   "metadata": {},
   "source": [
    "## Conservation of the Boltzmann distribution"
   ]
  },
  {
   "cell_type": "markdown",
   "metadata": {},
   "source": [
    "Here is a function that calculates the boltzmann weight associates with a point in phase space for a harmonic oscillator."
   ]
  },
  {
   "cell_type": "code",
   "execution_count": null,
   "metadata": {},
   "outputs": [],
   "source": [
    "def boltzweight(p, q, beta):\n",
    "    \"\"\"\n",
    "    Returns the classical botzmann weight for a microstate defined by p, q\n",
    "    \"\"\"\n",
    "    \n",
    "    return np.exp(-beta * (ps**2 / 2 + qs**2 / 2)) "
   ]
  },
  {
   "cell_type": "markdown",
   "metadata": {},
   "source": [
    "<p style=\"color:blue; font-weight:bold\"> Can you use this function to verify if the Boltzmann weight is conserved along a trajectory? You can plot the Boltzmann weight as a function of time for all the trajectories? How does it depend on the timestep? </p>"
   ]
  },
  {
   "cell_type": "code",
   "execution_count": null,
   "metadata": {},
   "outputs": [],
   "source": [
    "for j in range(n_trajs):\n",
    "    ps = np.asarray(traj_ens[j]['plist'])\n",
    "    qs = np.asarray(traj_ens[j]['qlist'])\n",
    "    \n",
    "    # plot here\n",
    "    \n",
    "    plt.yscale('log')\n",
    "    plt.xlabel('step')\n",
    "    plt.ylabel('Exp[-$E / (k_B T)$]')"
   ]
  },
  {
   "cell_type": "markdown",
   "metadata": {},
   "source": [
    "## Time reversibility"
   ]
  },
  {
   "cell_type": "markdown",
   "metadata": {},
   "source": [
    "To verify time reversibility let's select the negative of the final momenta and the final positions of the previously sampled trajectories as initial conditions and perform molecular dynamics. "
   ]
  },
  {
   "cell_type": "code",
   "execution_count": null,
   "metadata": {},
   "outputs": [],
   "source": [
    "inv_traj_ens = {}\n",
    "\n",
    "for j in range(n_trajs):\n",
    "\n",
    "    p = -traj_ens[j]['plist'][-1]\n",
    "    q = traj_ens[j]['qlist'][-1]\n",
    "    \n",
    "    inv_traj_ens[j] = {}\n",
    "\n",
    "    plist = []\n",
    "    qlist = []\n",
    "    flist = []\n",
    "    \n",
    "    for i in range(steps):\n",
    "\n",
    "        p = p + (f(q)) * dt / 2\n",
    "        q = q + p * dt\n",
    "        p = p + (f(q)) * dt / 2\n",
    "\n",
    "        plist.append(p)\n",
    "        qlist.append(q)\n",
    "        flist.append(f(q))\n",
    "\n",
    "\n",
    "    inv_traj_ens[j]['plist'] = plist\n",
    "    inv_traj_ens[j]['qlist'] = qlist\n",
    "    inv_traj_ens[j]['flist'] = flist\n",
    "    "
   ]
  },
  {
   "cell_type": "markdown",
   "metadata": {},
   "source": [
    "<p style=\"color:blue; font-weight:bold\"> To visualize time reversibility can you simultaneously plot the trajectory and the reverse of one initialized using the negative final momentum and the final position? Which of these properties suggest that ring polymer molecular dynamics could be used to approximate the Kubo-transformed TCF </p>"
   ]
  },
  {
   "cell_type": "code",
   "execution_count": null,
   "metadata": {},
   "outputs": [],
   "source": [
    "plt.plot(traj_ens[j]['qlist'])\n",
    "plt.plot(inv_traj_ens[j]['qlist'][::-1], ls='--')"
   ]
  },
  {
   "cell_type": "markdown",
   "metadata": {},
   "source": [
    "# EXERCISE 3: Quantum dynamics applied to realistic systems"
   ]
  },
  {
   "cell_type": "markdown",
   "metadata": {},
   "source": [
    "## The vibrational spectrum of a molecule of H$_{2}$O"
   ]
  },
  {
   "cell_type": "markdown",
   "metadata": {},
   "source": [
    "In this exercise we will study a simple system that most of you must have been familiar with in your day-to-day lives -- a water molecule. You all may have also heard that there are three types of chracteristic collective motion in a molecule of water: symmetric and asymmetric stretching and a bending mode. Let us calculate the vibrational spectrum of water and check the efficiency of path-integral methods for its estimation."
   ]
  },
  {
   "cell_type": "markdown",
   "metadata": {},
   "source": [
    "We will first go to the appropriate folder, create a separate working directory, copy the input_template.xml file and and edit it. You will need to open a terminal and execute\n",
    "\n",
    "```\n",
    "$ cd pimd-mooc/3-rpmd\n",
    "$ mkdir T-300K\n",
    "$ cd T-300K\n",
    "$ mkdir P.001\n",
    "$ cd P.001\n",
    "$ cp ../../template_trpmd.xml input.xml\n",
    "```"
   ]
  },
  {
   "cell_type": "markdown",
   "metadata": {},
   "source": [
    "Set the number of beads `nbeads` to 1 and the temperature to 300 K. These settings will correspond to a standard classical molec ular dyanmics run with a weak thermostat and will give us the classical vibrational density of states. To run this simulation"
   ]
  },
  {
   "cell_type": "markdown",
   "metadata": {},
   "source": [
    "```\n",
    "$ i-pi input.xml > log.i-pi &\n",
    "$ sleep 10\n",
    "$ i-pi-driver -u -h h2o-molecule -m qtip4pf & \n",
    "```"
   ]
  },
  {
   "cell_type": "markdown",
   "metadata": {},
   "source": [
    "In the meantime, create directories \n",
    "\n",
    "```\n",
    "P.002 P.004 P.008 P.016 P.032 P.064 P.128\n",
    "```\n",
    "\n",
    "Copy the input.xml file from the root directory of exercise 3 to the inidividual directories and set the number of beads to 2, 4, 8, 16, 32, 64 and 128, and the temperature to 300 K, in the respective dirctories. Run these simulations (and remember to change the address of the UNIX socket ;))"
   ]
  },
  {
   "cell_type": "markdown",
   "metadata": {},
   "source": [
    "To calculate the vibrational density of states run the following script\n",
    "\n",
    "```\n",
    "$ cd P.001\n",
    "$ i-pi-getacf -ifile simulation.vc.xyz -mlag 1024 -ftpad 3072 -ftwin cosine-hanning -dt \"0.25 femtosecond\" -oprefix vv\n",
    "$ cd ..\n",
    "```\n",
    "\n",
    "This will create files \n",
    "\n",
    "```\n",
    "vv_acf.data and vv_facf.data\n",
    "```\n",
    "\n",
    "with the normalized velocity autocorrelation function and the the vibrational densitiy of states, respectively. Try the same for all the directories and study the convergence of the vibrational density of states with the number of beads."
   ]
  },
  {
   "cell_type": "code",
   "execution_count": null,
   "metadata": {},
   "outputs": [],
   "source": [
    "plt.title('The vibrational density of states\\n of a water molecule at 300 K')\n",
    "plt.xlim(900, 4500)\n",
    "plt.ylim(-0.00001, 0.0002)\n",
    "plt.xlabel(r'$\\omega [cm^{-1}]$')\n",
    "plt.ylabel(r'C$_{vv}$ [a.u.]')\n",
    "plt.grid()\n",
    "P = 1    \n",
    "w, cvv, cvv_err = np.loadtxt('3-rpmd/T-300K/P.' + str(P).zfill(3) + '/vv_facf.data').T\n",
    "w = w * 219474 # converts the frequency from atomic units to invcm\n",
    "plt.plot(w, cvv, alpha =1.0, ls = '--', lw=0.5, c='k')\n",
    "plt.errorbar(w, cvv, cvv_err, barsabove=True, label='P = ' + str(P), alpha =0.5)\n",
    "plt.legend(ncol=3)"
   ]
  },
  {
   "cell_type": "markdown",
   "metadata": {},
   "source": [
    "<p style=\"color:blue; font-weight:bold\"> Can you converge the vibrational density of states of water with respect to the number of replicas? With what P are you able to visibly converge the vibrational spectrum? How is value different for the stretching and bending bands? </p>"
   ]
  },
  {
   "cell_type": "code",
   "execution_count": null,
   "metadata": {},
   "outputs": [],
   "source": [
    "# Try here."
   ]
  },
  {
   "cell_type": "markdown",
   "metadata": {},
   "source": [
    "Now having studied the covergence for a water molecule, can you also calculate the vibrational density fo states for liquid water at 300 K? Compare the two spectra and try to rationalize the difference in the stretching band. "
   ]
  },
  {
   "cell_type": "markdown",
   "metadata": {},
   "source": [
    "Replace ?? with the number of beads that should give a converged spectrum\n",
    "\n",
    "```\n",
    "$ mkdir T-300K-bulk\n",
    "$ cd T-300K\n",
    "$ mkdir P.0??\n",
    "$ cd P.0??\n",
    "$ cp ../../template_trpmd.xml input.xml\n",
    "```"
   ]
  },
  {
   "cell_type": "markdown",
   "metadata": {},
   "source": [
    "<p style=\"color:blue; font-weight:bold\"> Can you study the number of beads needed to converge vibrational spectrum of liquid water at 300 K? Is the convergenece behaviour different from the single molecule? Is there change in the vibrational frequencies of the different stretching and bending modes with respect to the single molecule? Can you explain this difference? </p>"
   ]
  },
  {
   "cell_type": "code",
   "execution_count": null,
   "metadata": {},
   "outputs": [],
   "source": [
    "# Try here."
   ]
  }
 ],
 "metadata": {
  "kernelspec": {
   "display_name": "Python 3 (ipykernel)",
   "language": "python",
   "name": "python3"
  },
  "language_info": {
   "codemirror_mode": {
    "name": "ipython",
    "version": 3
   },
   "file_extension": ".py",
   "mimetype": "text/x-python",
   "name": "python",
   "nbconvert_exporter": "python",
   "pygments_lexer": "ipython3",
   "version": "3.8.5"
  },
  "toc": {
   "base_numbering": 1,
   "nav_menu": {},
   "number_sections": true,
   "sideBar": true,
   "skip_h1_title": false,
   "title_cell": "Table of Contents",
   "title_sidebar": "Contents",
   "toc_cell": false,
   "toc_position": {
    "height": "calc(100% - 180px)",
    "left": "10px",
    "top": "150px",
    "width": "397px"
   },
   "toc_section_display": true,
   "toc_window_display": true
  }
 },
 "nbformat": 4,
 "nbformat_minor": 4
}
