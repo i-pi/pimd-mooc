{
 "cells": [
  {
   "cell_type": "markdown",
   "metadata": {},
   "source": [
    "<p style=\"font-size:32px; font-weight: bolder; text-align: center\"> Ring Polymer Molecular Dynamics </p>"
   ]
  },
  {
   "cell_type": "markdown",
   "metadata": {},
   "source": [
    "This notebook provides a hands-on counterpart to the \"Ring polymer molecular dynamics\" lecture for the MOOC \"Path Integrals in Atomistic Modeling\". \n",
    "\n",
    "The different sections in this notebook match the parts this lecture is divided into:\n",
    "\n",
    "1. RPMD 2\n",
    "2. RPMD 3 \n",
    "3. RPMD 4 \n",
    "\n",
    "<p style=\"color:blue; font-weight:bold\"> Questions in blue invite you to reflect on the results you are obtaining. If you are doin </p>"
   ]
  },
  {
   "cell_type": "code",
   "execution_count": null,
   "metadata": {},
   "outputs": [],
   "source": [
    "import numpy as np\n",
    "import matplotlib.pyplot as plt\n",
    "import ase, ase.io\n",
    "import chemiscope\n",
    "import pimdmooc\n",
    "pimdmooc.add_ipi_paths()"
   ]
  },
  {
   "cell_type": "code",
   "execution_count": null,
   "metadata": {},
   "outputs": [],
   "source": [
    "plt.rcParams.update({\n",
    "    \"text.usetex\": True,\n",
    "    \"font.family\": \"sans-serif\",\n",
    "    \"font.sans-serif\": [\"Helvetica\"]})\n",
    "# for Palatino and other serif fonts use:\n",
    "plt.rcParams.update({\n",
    "    \"text.usetex\": True,\n",
    "    \"font.family\": \"serif\",\n",
    "    \"font.serif\": [\"Palatino\"],\n",
    "})\n",
    "# It's also possible to use the reduced notation by directly setting font.family:\n",
    "plt.rcParams.update({\n",
    "  \"text.usetex\": False,\n",
    "  \"font.family\": \"Helvetica\"\n",
    "})"
   ]
  },
  {
   "cell_type": "markdown",
   "metadata": {},
   "source": [
    "# EXERCISE 1: Quantum time correlation functions"
   ]
  },
  {
   "cell_type": "markdown",
   "metadata": {},
   "source": [
    "We consider a (classical) harmonic oscillator with frequency $\\omega$ and unit mass, in the constant-temperature ensemble at inverse temperature $\\beta$. "
   ]
  },
  {
   "cell_type": "markdown",
   "metadata": {},
   "source": [
    "## Standard quantum time correlation function"
   ]
  },
  {
   "cell_type": "markdown",
   "metadata": {},
   "source": [
    "The standard quantum time auto-correlation function of the position operator is given as"
   ]
  },
  {
   "cell_type": "markdown",
   "metadata": {},
   "source": [
    "$C^{\\text{std}}_{\\hat{q}\\hat{q}} = Z^{-1} \\sum_{i} e^{-\\beta E_{i}} \\sum_{j} e^{ -i(E_{i} - E_{j}) t / \\hbar} ~ <i| \\hat{q} | j> ~ < j | \\hat{q} | i >$"
   ]
  },
  {
   "cell_type": "markdown",
   "metadata": {},
   "source": [
    "where \n",
    "- $E_i$ is the energy of the i-th eigenstate of the system\n",
    "- $\\langle i|\\hat{q}|j\\rangle$ is the ij-th matrix element of the operator q i.e. <i | q| j>\n",
    "- $<j|\\hat{q}|i>$ is the ji-th matrix element of the operator q i.e. <j | q| i>\n",
    "- $Z$ is the canonical partition function\n",
    "\n",
    "Let us define functions for some of these for a simple harmonic oscillator [reduced  units]!"
   ]
  },
  {
   "cell_type": "code",
   "execution_count": null,
   "metadata": {},
   "outputs": [],
   "source": [
    "m = 1\n",
    "hbar = 1\n",
    "beta = 1"
   ]
  },
  {
   "cell_type": "code",
   "execution_count": null,
   "metadata": {},
   "outputs": [],
   "source": [
    "def Ei(i, omega=1, return_zero=False):\n",
    "    \"\"\"\n",
    "    Return the energy of the i-th eigen state of the simple harmonic oscillator.\n",
    "    \"\"\"\n",
    "    \n",
    "    if return_zero:\n",
    "        return (i + 1/2) * hbar * omega \n",
    "    else:\n",
    "        return (i) * hbar * omega \n",
    "    \n",
    "    \n",
    "def qij(i, j, omega=1):\n",
    "    \"\"\"\n",
    "    Return the expection value of <i| q |j> where q is the position operator and \n",
    "    |i>, |j> correspond to the i-th and j-th eigenstate of the sinple harmonic oscillator.\n",
    "    Invoking ladder operators, the position  operator is written as\n",
    "    \n",
    "    q = \\sqrt[ h / (2 m w) ] (a + a†) \n",
    "    \n",
    "    Thus, \n",
    "    \n",
    "    qij = \\sqrt[ h / (2 m w) ] (<i | a | j> + <i | a† | j>)\n",
    "    \n",
    "    with\n",
    "    \n",
    "    <i | a | j> = sqrt[j] delta(i, j-1)\n",
    "    <i | a† | j> = sqrt[j+1] delta(i, j+1)\n",
    "    \n",
    "    \"\"\"\n",
    "    \n",
    "    if i == j - 1:\n",
    "        return np.sqrt(hbar / (2 * m * omega)) * np.sqrt(j) \n",
    "    elif i == j + 1:\n",
    "        return np.sqrt(hbar / (2 * m * omega)) * np.sqrt(j + 1) \n",
    "    else: \n",
    "        return 0"
   ]
  },
  {
   "cell_type": "markdown",
   "metadata": {},
   "source": [
    "Let us now define a function that evaluates the standard time correlation function by summing up matrix elements up to the i-th eigenstate!"
   ]
  },
  {
   "cell_type": "code",
   "execution_count": null,
   "metadata": {},
   "outputs": [],
   "source": [
    "def Cqq_std(t, omega=1, i_max=20):\n",
    "    \"\"\"\n",
    "    Calculates the standard quantum time correlation function of a simple harmonic oscillator \n",
    "    by considering the first i_max eigenstates.\n",
    "    \"\"\"\n",
    "    \n",
    "    rc = 0\n",
    "    rz = 0\n",
    "        \n",
    "    for i in range(i_max + 1):\n",
    "        \n",
    "        sumj = 0\n",
    "        for j in range(0, i + 2): \n",
    "            sumj += np.exp(-1j * (Ei(i) - Ei(j)) * t / hbar) * qij(i,j) * qij(j,i)\n",
    "            \n",
    "        rc += sumj * np.exp (-beta * Ei(i))\n",
    "        rz += np.exp (-beta * Ei(i))\n",
    "\n",
    "    \n",
    "    if i_max > 0:\n",
    "        return rc / rz\n",
    "    else:\n",
    "        return t * 0"
   ]
  },
  {
   "cell_type": "markdown",
   "metadata": {},
   "source": [
    "# Let us first converge the standard time correlation function w.r.t the number of eigenstates!"
   ]
  },
  {
   "cell_type": "code",
   "execution_count": null,
   "metadata": {},
   "outputs": [],
   "source": [
    "t = np.linspace(-10,10, 100)\n",
    "i_max = 10\n",
    "\n",
    "plt.title('Convergence of Re' + r'($C^{\\mathrm{std}}_{qq}$)' + ' with the number of eigenstates')\n",
    "plt.xlabel('time [a.u.]')\n",
    "plt.ylabel('Re($C^{\\mathrm{std}}_{qq}$) [a.u.]')\n",
    "for i in range(2, i_max, 2):\n",
    "    plt.plot(t, np.real(Cqq_std(t, 1, i)), label= 'up to ' +  str(i) + '-th state', ls='--')\n",
    "plt.legend()\n",
    "plt.show()\n",
    "\n",
    "\n",
    "plt.title('Convergence of Im($C_{qq}$) with the number of eigenstates')\n",
    "plt.xlabel('time [a.u.]')\n",
    "plt.ylabel('Im($C^{\\mathrm{std}}_{qq}$) [a.u.]')\n",
    "for i in range(2, i_max, 2):\n",
    "    plt.plot(t, np.imag(Cqq_std(t, 1, i)), label= 'up to ' +  str(i) + '-th state', ls='--')\n",
    "plt.legend()\n",
    "plt.show()\n",
    "\n"
   ]
  },
  {
   "cell_type": "markdown",
   "metadata": {},
   "source": [
    "Can you now plot the \"convered\" position autcorrelation function of a simple harmonic oscillator?"
   ]
  },
  {
   "cell_type": "code",
   "execution_count": null,
   "metadata": {},
   "outputs": [],
   "source": [
    "t = np.linspace(-10,10, 100)\n",
    "plt.title(r'Converged $C_{qq}$ of a harmonic oscillator at $\\beta$ = %5.2e' % (beta))\n",
    "plt.xlabel('time [a.u.]')\n",
    "plt.ylabel('$C^{\\mathrm{std}}_{qq}$ [a.u.]')\n",
    "plt.plot(t, np.real(Cqq_std(t)), label='Real', marker='o')\n",
    "plt.plot(t, np.imag(Cqq_std(t)), label='Imaginary', marker='o')\n",
    "plt.legend()\n",
    "plt.show()"
   ]
  },
  {
   "cell_type": "markdown",
   "metadata": {},
   "source": [
    "## Kubo-transformed time correlation function"
   ]
  },
  {
   "cell_type": "markdown",
   "metadata": {},
   "source": [
    "The Kubo-transformed quantum time auto-correlation function of the position operator is given as"
   ]
  },
  {
   "cell_type": "markdown",
   "metadata": {},
   "source": [
    "$C^{\\text{kubo}}_{\\hat{q}\\hat{q}} = (Z \\beta)^{-1} \\int_{0}^{\\beta} d\\lambda  \\sum_{i} e^{-(\\beta - \\lambda) E_i} \n",
    "   (\\sum_{j} exp^{-\\lambda E_j} \\exp^{ -i(E_i - E_j) t / \\hbar} ~ <i| \\hat{q} | j> ~ < j | \\hat{q} | i >)$\n",
    "\n",
    "which can also be written as\n",
    "\n",
    "$\\bar{C}_qq = Z^{-1} \\sum_{i} e^{-\\beta E_i} \\sum_{j} e^{ -i(E_i - E_j) t / \\hbar}  ~ <i| \\hat{q} | j> ~ < j | \\hat{q} | i > \n",
    "              \\frac{\\int_{0}^{\\beta} d\\lambda  e^{-\\lambda (E_j-E_i)}}{\\int_{0}^{\\beta} d\\lambda} $\n",
    "\n"
   ]
  },
  {
   "cell_type": "markdown",
   "metadata": {},
   "source": [
    "Let us reuse the functions to study the convergence of the Kubo-transformated position auto-correlation function. \n",
    "Note that we will need to converge w.r.t the granuality of the integration over imaginary time (beta) and over the maximum occupied eigenstate. To begin, we can assume the two to be independent parameters."
   ]
  },
  {
   "cell_type": "code",
   "execution_count": null,
   "metadata": {},
   "outputs": [],
   "source": [
    "def Cqq_kubo(t, omega=1, i_max=20, lgrid=1000):\n",
    "    \"\"\"\n",
    "    Calculates the standard quantum time correlation function of a simple harmonic oscillator \n",
    "    by considering the first i_max eigenstates.\n",
    "    \"\"\"\n",
    "    \n",
    "    rcqq = 0\n",
    "    rz = 0\n",
    "    \n",
    "    lgrid = np.linspace(0, beta, lgrid)\n",
    "    \n",
    "    for i in range(i_max + 1):\n",
    "                \n",
    "        for j in range(i + 2): \n",
    "            \n",
    "            lterm = np.sum(np.exp(-lgrid * (Ei(j) - Ei(i)))) * (lgrid[1] - lgrid[0]) / beta\n",
    "            rcqq += lterm * np.exp (-(beta) * Ei(i)) * np.exp(-1j * (Ei(i) - Ei(j)) * t / hbar) * qij(i,j) * qij(j,i)\n",
    "            \n",
    "        rz += np.exp (-beta * Ei(i))\n",
    "        \n",
    "    if i_max > 0:\n",
    "        return rcqq / rz\n",
    "    else:\n",
    "        return t * 0"
   ]
  },
  {
   "cell_type": "markdown",
   "metadata": {},
   "source": [
    "Let's look at the convergence w.r.t the number of occupied eigenstates. You will notice that the imaginary part of the Kubo transformed time correlation function will go to zero (as it should ;))."
   ]
  },
  {
   "cell_type": "code",
   "execution_count": null,
   "metadata": {},
   "outputs": [],
   "source": [
    "t = np.linspace(0,20, 1000)\n",
    "i_max =10\n",
    "\n",
    "plt.title('Convergence of Re(${C}_{qq}$) with the number of eigenstates')\n",
    "plt.xlabel('time [a.u.]')\n",
    "#plt.ylabel('Re($C_{qq}$) [a.u.]')\n",
    "for i in range(2, i_max, 2):\n",
    "    plt.plot(t, np.real(Cqq_kubo(t, 1, i)), label= 'up to ' +  str(i) + '-th state', ls='--')\n",
    "plt.legend()\n",
    "plt.show()\n",
    "\n",
    "\n",
    "plt.title('Convergence of Im($C_{qq}$) with the number of eigenstates')\n",
    "plt.xlabel('time [a.u.]')\n",
    "plt.ylabel('Im($C_{qq}$) [a.u.]')\n",
    "for i in range(2, i_max, 2):\n",
    "    plt.plot(t, np.imag(Cqq_kubo(t, 1, i)), label= 'up to ' +  str(i) + '-th state', ls='--')\n",
    "plt.legend()\n",
    "plt.show()\n",
    "\n"
   ]
  },
  {
   "cell_type": "code",
   "execution_count": null,
   "metadata": {},
   "outputs": [],
   "source": [
    "lgrid = np.logspace(1,5, 5)\n",
    "i_max =20\n",
    "\n",
    "plt.title('Convergence of Re(${C}_{qq}$) with the quadrature of the $\\lambda$ integral')\n",
    "plt.xlabel('time [a.u.]')\n",
    "for l in lgrid:\n",
    "    l = int(l)\n",
    "    plt.plot(t, np.real(Cqq_kubo(t, 1, i_max, l)), label= 'up to ' +  str(l), ls='--')\n",
    "plt.legend()\n",
    "plt.show()\n"
   ]
  },
  {
   "cell_type": "markdown",
   "metadata": {},
   "source": [
    "Lets simultaneously plot the converged real and imaginary components of the Kubo transformed time correlation function!"
   ]
  },
  {
   "cell_type": "code",
   "execution_count": null,
   "metadata": {},
   "outputs": [],
   "source": [
    "t = np.linspace(-10,10, 100)\n",
    "plt.title('Converged $C_{qq}$ of a harmonic oscillator\\n [m = 1; hbar = 1; $beta$ = 1; $\\omega$=1]')\n",
    "plt.xlabel('time [a.u.]')\n",
    "plt.ylabel('$C_{qq}$ [a.u.]')\n",
    "plt.plot(t, np.real(Cqq_kubo(t)), label='Real', marker='o')\n",
    "plt.plot(t, np.imag(Cqq_kubo(t)), label='Imaginary', marker='o')\n",
    "plt.legend()\n",
    "plt.show()"
   ]
  },
  {
   "cell_type": "markdown",
   "metadata": {},
   "source": [
    "## Detailed balance relation"
   ]
  },
  {
   "cell_type": "markdown",
   "metadata": {},
   "source": [
    "As you can see for $\\beta$ >> $\\hbar \\omega$ the standard and the kubo-transformed quantum position autocorrelation functions deviate from one another. Let us now verify whether their Fourier transforms are related by the harmonic detail balance correction factor."
   ]
  },
  {
   "cell_type": "code",
   "execution_count": null,
   "metadata": {},
   "outputs": [],
   "source": [
    "t = np.linspace(-100,100, 10000)\n",
    "plt.title('$C_{qq}$ of a harmonic oscillator\\n [m = 1; hbar = 1; $beta$ = 1; $\\omega$=1]')\n",
    "plt.xlabel('time [a.u.]')\n",
    "plt.ylabel('$C_{qq}$ [a.u.]')\n",
    "plt.plot(t, np.real(Cqq_std(t)), label='std')\n",
    "plt.plot(t, np.real(Cqq_kubo(t)), label='kubo')\n",
    "plt.legend()\n",
    "plt.show()\n"
   ]
  },
  {
   "cell_type": "markdown",
   "metadata": {},
   "source": [
    "To ensure that we can verify this relation numerically, we multiply the position autocorrelation by a soft damping function. This ensures that our signal goes to zero and thus its integral can numerically computed by quadrature. In practice this prevents spectral leakage. "
   ]
  },
  {
   "cell_type": "code",
   "execution_count": null,
   "metadata": {},
   "outputs": [],
   "source": [
    "t = np.linspace(-200,200, 10000)\n",
    "\n",
    "fdamp = np.exp(-(t / 20 / np.pi)**2)\n",
    "\n",
    "\n",
    "plt.title('Damped $C_{qq}$ of a harmonic oscillator\\n [m = 1; hbar = 1; $beta$ = 1; $\\omega$=1]')\n",
    "plt.xlabel('time [a.u.]')\n",
    "plt.ylabel('$C_{qq}$ [a.u.]')\n",
    "plt.plot(t, np.real(Cqq_std(t) * fdamp), label='std')\n",
    "plt.plot(t, np.real(Cqq_kubo(t) * fdamp), label='kubo')\n",
    "plt.legend()\n",
    "plt.show()\n"
   ]
  },
  {
   "cell_type": "markdown",
   "metadata": {},
   "source": [
    "Let's numerically calculate the left and right hand sides of Eq. 4.11, i.e. compute the Fourier transforms of the standard and Kubo transformed autocorrelation functions and see if their ratio is given by Eq. 4.12."
   ]
  },
  {
   "cell_type": "code",
   "execution_count": null,
   "metadata": {},
   "outputs": [],
   "source": [
    "# frequency grid \n",
    "w = np.linspace(0, 3, 300)\n",
    "\n",
    "# time grid\n",
    "t = np.linspace(-200,200, 10000)\n",
    "dt = t[1] - t[0]\n",
    "\n",
    "# damping function to prevent spectral leakage\n",
    "fdamp = np.exp(-(t / 20 / np.pi)**2)\n",
    "\n",
    "# calculates the Fourier transform of the std quantum time correlation function\n",
    "cqq_std = Cqq_std(t) * fdamp\n",
    "kqq_std = np.zeros(w.shape)\n",
    "for i in range(len(w)):\n",
    "    kqq_std[i] = np.real(np.sum(dt * np.exp(-1j * w[i] * t) * cqq_std))\n",
    "\n",
    "# the harmonic detail balance correction factor\n",
    "dbcf = np.zeros(w.shape)\n",
    "dbcf[1:]  = (1 - np.exp ( - beta * hbar * w[1:])) / ( beta * hbar * w[1:])\n",
    "\n",
    "kqq_times_dbcf = kqq_std * dbcf\n",
    "\n",
    "# calculates the Fourier transform of the jubo-transformed quantum time correlation function\n",
    "cqq_kubo = Cqq_kubo(t) * fdamp\n",
    "kqq_kubo = np.zeros(w.shape)\n",
    "for i in range(len(w)):\n",
    "    kqq_kubo[i] = np.real(np.sum(dt * np.exp(-1j * w[i] * t) * cqq_kubo))\n",
    "\n",
    "    \n",
    "plt.title('Comparison of the Fourier transfors of the \\n standard and kubo-transformed autocorrelation functions')\n",
    "plt.plot(w, kqq_std, label='std')\n",
    "plt.plot(w, kqq_kubo, label='kubo')\n",
    "plt.xlabel('$\\omega$ [a.u.]')\n",
    "plt.ylabel('Kqq($\\omega)$ [a.u.]')\n",
    "plt.legend()\n",
    "plt.show()\n",
    "\n",
    "\n",
    "plt.title('Verification of the detail balance relation')\n",
    "plt.plot(w, kqq_kubo, label='kubo')\n",
    "plt.plot(w, kqq_times_dbcf, label='std x harmonic detailed balance factor', ls='--')\n",
    "plt.xlabel('$\\omega$ [a.u.]')\n",
    "plt.ylabel('Kqq($\\omega)$ [a.u.]')\n",
    "plt.legend()\n",
    "plt.show()"
   ]
  },
  {
   "cell_type": "markdown",
   "metadata": {},
   "source": [
    "# EXERCISE 2: Properties of classical dynamics"
   ]
  },
  {
   "cell_type": "markdown",
   "metadata": {},
   "source": [
    "A harmonic oscillator (in reduced units) samples the following canonical distribution\n",
    "\n",
    "$ P(p) \\propto e^{-\\beta p^2 / 2}$\n",
    "\n",
    "$ P(q) \\propto e^{-\\beta q^2 / 2}$ \n",
    "\n",
    "Let us sample initial configurations from these distibutions. "
   ]
  },
  {
   "cell_type": "code",
   "execution_count": null,
   "metadata": {},
   "outputs": [],
   "source": [
    "n_trajs = 10\n",
    "\n",
    "p0s = []\n",
    "q0s = []\n",
    "\n",
    "for i in range(n_trajs):\n",
    "    p0s.append(np.random.normal())\n",
    "    q0s.append(np.random.normal())"
   ]
  },
  {
   "cell_type": "markdown",
   "metadata": {},
   "source": [
    "Let's also define the force on a harmonic oscillator (needed to perform molecular dynamics)"
   ]
  },
  {
   "cell_type": "code",
   "execution_count": null,
   "metadata": {},
   "outputs": [],
   "source": [
    "def f(q):\n",
    "    \"\"\"\n",
    "    The force acting on a simple harmonic oscillator [in reduced units]\n",
    "    \"\"\"\n",
    "    return -q"
   ]
  },
  {
   "cell_type": "markdown",
   "metadata": {},
   "source": [
    "Here is a simple velocity verlet scheme to perform molecular dynamics. The trajectories are saved in the dictionary `traj_ens`."
   ]
  },
  {
   "cell_type": "code",
   "execution_count": null,
   "metadata": {},
   "outputs": [],
   "source": [
    "traj_ens = {}\n",
    "\n",
    "for j, p0, q0 in zip(range(n_trajs), p0s, q0s):\n",
    "\n",
    "    p = p0\n",
    "    q = q0\n",
    "    dt = 0.01\n",
    "    tmax = 100\n",
    "    steps = int(tmax / dt)\n",
    "    \n",
    "    traj_ens[j] = {}\n",
    "\n",
    "    plist = []\n",
    "    qlist = []\n",
    "    flist = []\n",
    "    \n",
    "    for i in range(steps):\n",
    "\n",
    "        p = p + (f(q)) * dt / 2\n",
    "        q = q + p * dt\n",
    "        p = p + (f(q)) * dt / 2\n",
    "\n",
    "        plist.append(p)\n",
    "        qlist.append(q)\n",
    "        flist.append(f(q))\n",
    "\n",
    "\n",
    "    traj_ens[j]['plist'] = plist\n",
    "    traj_ens[j]['qlist'] = qlist\n",
    "    traj_ens[j]['flist'] = flist\n",
    "    "
   ]
  },
  {
   "cell_type": "markdown",
   "metadata": {},
   "source": [
    "## Conservation of phase-space volume"
   ]
  },
  {
   "cell_type": "markdown",
   "metadata": {},
   "source": [
    "We note that the velocity-Verlet scheme can be summarized as follows:\n",
    "\n",
    "$q(t + dt) = q(t) + p(t)~dt  + \\frac{1}{2}~f(q(t))~dt^2$\n",
    "\n",
    "$p(t + dt) = p(t) + \\frac{1}{2} \\left(f(q(t)) + f(q(t + dt))\\right)~dt$\n",
    "\n",
    "The Jacobian of the transformation of the phase-space vector from time $t$ to $t + dt$\n",
    "can be calculated as\n",
    "\n",
    "$J =  |\\frac{\\partial p(t + dt)}{\\partial p(t)}  \\frac{\\partial p(t + dt)}{\\partial q(t)} |$\n",
    "\n",
    "$~~~~~~~  |\\frac{\\partial q(t + dt)}{\\partial p(t)}  \\frac{\\partial q(t + dt)}{\\partial q(t)} |$\n",
    "\n",
    "$|~1 \\quad \\frac{1}{2} f'(q(t))~dt |$\n",
    "\n",
    "$|dt \\quad  1 + \\frac{1}{2} f'(q(t))~dt^2 |$\n",
    "\n",
    "Clearly, the determinant is 1, hence the dynamics conserves the differential volume of the phase-space vector. We can, however, verify the conservation of volume numerically in the following way."
   ]
  },
  {
   "cell_type": "markdown",
   "metadata": {},
   "source": [
    "Let us visualize the positions as a function of time for the sampled trajectories"
   ]
  },
  {
   "cell_type": "code",
   "execution_count": null,
   "metadata": {},
   "outputs": [],
   "source": [
    "plt.title('Trajectories with different offsets')\n",
    "\n",
    "for i in range(n_trajs):\n",
    "    qlist = traj_ens[i]['qlist']\n",
    "    dq = np.asarray(qlist)\n",
    "    plt.plot(range(len(qlist))[i * int(len(qlist) / 20):], dq[i * int(len(qlist) / 20):], lw=1.0, ls='-', label='traj ' + str(i))\n",
    "    plt.xlabel('step')\n",
    "    plt.ylabel('q [a.u.]')\n",
    "\n",
    "plt.xlim(0, int(len(qlist) * 1.3))\n",
    "plt.legend()\n",
    "plt.show()"
   ]
  },
  {
   "cell_type": "markdown",
   "metadata": {},
   "source": [
    "Let us also visualize the phase-space vector a function of time"
   ]
  },
  {
   "cell_type": "code",
   "execution_count": null,
   "metadata": {},
   "outputs": [],
   "source": [
    "plt.title('Trajectories')\n",
    "\n",
    "for i in range(n_trajs):\n",
    "    qlist = traj_ens[i]['qlist']\n",
    "    plist = traj_ens[i]['plist']\n",
    "    dq = np.asarray(qlist)\n",
    "    plt.plot(qlist, plist, lw=1.0, ls='--', label='traj ' + str(i))\n",
    "    plt.xlabel('step')\n",
    "    plt.ylabel('q [a.u.]')\n",
    "\n",
    "plt.legend()"
   ]
  },
  {
   "cell_type": "markdown",
   "metadata": {},
   "source": [
    "Considering the phase-space vector to be a parametric curve (with respect to time), conservation of the phase-space volume can be numerically checked by calculating the arc length $\\delta p^2 + \\delta q^2$"
   ]
  },
  {
   "cell_type": "code",
   "execution_count": null,
   "metadata": {},
   "outputs": [],
   "source": [
    "plt.title('Trajectories')\n",
    "\n",
    "for i in range(n_trajs):\n",
    "    qlist = traj_ens[i]['qlist']\n",
    "    plist = traj_ens[i]['plist']\n",
    "    flist = traj_ens[i]['flist']\n",
    "        \n",
    "    dq = np.asarray(plist) * dt\n",
    "    dp = np.asarray(flist) * dt\n",
    "        \n",
    "    dq = np.asarray(plist[1:-1]) * dt + np.asarray(flist[1:-1]) * dt**2\n",
    "    dp = 0.5 * (np.asarray(flist[1:-1]) + np.asarray(flist[2:])) * dt\n",
    "    plt.plot(np.sqrt(dp**2 + dq**2) / dt, lw=1.0, ls='--', label='traj ' + str(i))\n",
    "    plt.xlabel('step')\n",
    "    plt.ylabel('q [a.u.]')\n",
    "    plt.xlim(0, int(len(qlist) * 1.3))\n",
    "\n",
    "\n",
    "plt.legend()\n",
    "plt.show()"
   ]
  },
  {
   "cell_type": "markdown",
   "metadata": {},
   "source": [
    "## Conservation of the Boltzmann distribution"
   ]
  },
  {
   "cell_type": "markdown",
   "metadata": {},
   "source": [
    "To verify the conservation of the Boltzmann distribution let us calculate the time evolution of the Boltzmann weight $e^{-\\beta E}$ where $E$ is the total energy."
   ]
  },
  {
   "cell_type": "code",
   "execution_count": null,
   "metadata": {},
   "outputs": [],
   "source": [
    "for j in range(n_trajs):\n",
    "    ps = np.asarray(traj_ens[j]['plist'])\n",
    "    qs = np.asarray(traj_ens[j]['qlist'])\n",
    "    plt.plot(np.exp(-beta * (ps**2 / 2 + qs**2 / 2)))\n",
    "    plt.yscale('log')\n",
    "    plt.xlabel('step')\n",
    "    plt.ylabel('Exp[-$E / (k_B T)$]')"
   ]
  },
  {
   "cell_type": "markdown",
   "metadata": {},
   "source": [
    "## Time reversibility"
   ]
  },
  {
   "cell_type": "markdown",
   "metadata": {},
   "source": [
    "To verify time reversibility let's select the negative of the final momenta and the final positions of the previously sampled trajectories as initial conditions and perform molecular dynamics. "
   ]
  },
  {
   "cell_type": "code",
   "execution_count": null,
   "metadata": {},
   "outputs": [],
   "source": [
    "inv_traj_ens = {}\n",
    "\n",
    "for j in range(n_trajs):\n",
    "\n",
    "    p = -traj_ens[j]['plist'][-1]\n",
    "    q = traj_ens[j]['qlist'][-1]\n",
    "    \n",
    "    inv_traj_ens[j] = {}\n",
    "\n",
    "    plist = []\n",
    "    qlist = []\n",
    "    flist = []\n",
    "    \n",
    "    for i in range(steps):\n",
    "\n",
    "        p = p + (f(q)) * dt / 2\n",
    "        q = q + p * dt\n",
    "        p = p + (f(q)) * dt / 2\n",
    "\n",
    "        plist.append(p)\n",
    "        qlist.append(q)\n",
    "        flist.append(f(q))\n",
    "\n",
    "\n",
    "    inv_traj_ens[j]['plist'] = plist\n",
    "    inv_traj_ens[j]['qlist'] = qlist\n",
    "    inv_traj_ens[j]['flist'] = flist\n",
    "    "
   ]
  },
  {
   "cell_type": "markdown",
   "metadata": {},
   "source": [
    "To visualize time reversibility let us simultaneously plot the trajectory and the reverse of one initialized using the negative final momentum and the final position"
   ]
  },
  {
   "cell_type": "code",
   "execution_count": null,
   "metadata": {},
   "outputs": [],
   "source": [
    "plt.plot(traj_ens[j]['qlist'])\n",
    "plt.plot(inv_traj_ens[j]['qlist'][::-1], ls='--')"
   ]
  },
  {
   "cell_type": "raw",
   "metadata": {},
   "source": [
    "# EXERCISE 3: Quantum dynamics applied to realistic systems"
   ]
  },
  {
   "cell_type": "markdown",
   "metadata": {},
   "source": [
    "## The vibrational spectrum of a molecule of H$_{2}$O"
   ]
  },
  {
   "cell_type": "markdown",
   "metadata": {},
   "source": [
    "In this exercise we will study a simple system that most of you must have been familiar with in your day-to-day lives -- a water molecule. You all may have also heard that there are three types of chracteristic collective motion in a molecule of water: symmetric and asymmetric stretching and a bending mode. Let us calculate the vibrational spectrum of water and check the efficiency of path-integral methods for its estimation."
   ]
  },
  {
   "cell_type": "markdown",
   "metadata": {},
   "source": [
    "PLACEHOLDER FIGURE"
   ]
  },
  {
   "cell_type": "markdown",
   "metadata": {},
   "source": [
    "We will first go to the appropriate folder, create a separate working directory, copy the input_template.xml file and and edit it. You will need to open a terminal and execute\n",
    "\n",
    "```\n",
    "$ cd pimd-mooc/3-trpmd\n",
    "$ mkdir T-300K\n",
    "$ cd T-300K\n",
    "$ mkdir P.001\n",
    "$ cd P.001\n",
    "$ cp ../../template_trpmd.xml input.xml\n",
    "```"
   ]
  },
  {
   "cell_type": "markdown",
   "metadata": {},
   "source": [
    "Set the number of beads `nbeads` to 1 and the temperature to 300 K. These settings will correspond to a standard classical molec ular dyanmics run with a weak thermostat and will give us the classical vibrational density of states. To run this simulation"
   ]
  },
  {
   "cell_type": "markdown",
   "metadata": {},
   "source": [
    "```\n",
    "$ i-pi input.xml > log.i-pi &\n",
    "$ sleep 10\n",
    "$ i-pi-driver -u -h h2o-molecule -m qtip4pf & \n",
    "```"
   ]
  },
  {
   "cell_type": "markdown",
   "metadata": {},
   "source": [
    "In the meantime, create directories \n",
    "\n",
    "```\n",
    "P.002 P.004 P.008 P.016 P.032 P.064 P.128\n",
    "```\n",
    "\n",
    "Copy the input.xml file from the root directory of exercise 3 to the inidividual directories and set the number of beads to 2, 4, 8, 16, 32, 64 and 128, and the temperature to 300 K, in the respective dirctories. Run these simulations (and remember to change the address of the UNIX socket ;))"
   ]
  },
  {
   "cell_type": "markdown",
   "metadata": {},
   "source": [
    "To calculate the vibrational density of states run the following script\n",
    "\n",
    "```\n",
    "$ cd P.001\n",
    "$ i-pi-getacf -ifile simulation.vc.xyz -mlag 1024 -ftpad 3072 -ftwin cosine-hanning -dt \"0.25 femtosecond\" -oprefix vv\n",
    "$ cd ..\n",
    "```\n",
    "\n",
    "This will create files \n",
    "\n",
    "```\n",
    "vv_acf.data and vv_facf.data\n",
    "```\n",
    "\n",
    "with the normalized velocity autocorrelation function and the the vibrational densitiy of states, respectively. Try the same for all the directories and study the convergence of the vibrational density of states with the number of beads."
   ]
  },
  {
   "cell_type": "code",
   "execution_count": null,
   "metadata": {},
   "outputs": [],
   "source": [
    "Ps = [1, 2, 4, 8, 16, 32]\n",
    "\n",
    "plt.title('Convergence of the vibrational density of states\\n of a water molecule at 300 K')\n",
    "plt.xlim(500, 5000)\n",
    "plt.ylim(-0.0002, 0.0006)\n",
    "plt.xlabel(r'$\\omega [cm^{-1}]$')\n",
    "plt.ylabel(r'C_{vv} [a.u.]')\n",
    "plt.grid()\n",
    "for i, P in enumerate(Ps):\n",
    "    \n",
    "    w, cvv, cvv_err = np.loadtxt('3-rpmd/T-300K/P.' + str(P).zfill(3) + '/vv_facf.data').T\n",
    "    cvv += 0.00005 * i\n",
    "    w = w * 219474 # converts the frequency from atomic units to invcm\n",
    "    plt.plot(w, cvv, alpha =1.0, ls = '--', lw=0.5, c='k')\n",
    "    plt.errorbar(w, cvv, cvv_err, barsabove=True, label='P = ' + str(P), alpha =0.5)\n",
    "plt.legend(ncol=3)"
   ]
  },
  {
   "cell_type": "markdown",
   "metadata": {},
   "source": [
    "Can you identify the vibrational modes? Now having studied the covergence for a water molecule, can you also calculate the vibrational density fo states for liquid water at 300 K? Compare the two spectra and try to rationalize the difference in the stretching band. "
   ]
  },
  {
   "cell_type": "markdown",
   "metadata": {},
   "source": [
    "Replace ?? with the number of beads that should give a converged spectrum\n",
    "\n",
    "```\n",
    "$ mkdir T-300K-bulk\n",
    "$ cd T-300K\n",
    "$ mkdir P.0??\n",
    "$ cd P.0??\n",
    "$ cp ../../template_trpmd.xml input.xml\n",
    "```"
   ]
  },
  {
   "cell_type": "code",
   "execution_count": null,
   "metadata": {},
   "outputs": [],
   "source": [
    "plt.title('Vibrational density of states of water')\n",
    "plt.xlim(50, 5000)\n",
    "plt.ylim(0.0, 0.0002)\n",
    "plt.xlabel(r'$\\omega [cm^{-1}]$')\n",
    "plt.ylabel(r'$C_{vv}$ [a.u.]')\n",
    "plt.grid()\n",
    "\n",
    "w, cvv, cvv_err = np.loadtxt('3-rpmd/T-300K/P.016/vv_facf.data').T\n",
    "w = w * 219474 # converts the frequency from atomic units to invcm\n",
    "plt.plot(w, cvv, alpha =1.0, ls = '--', lw=0.5, c='k')\n",
    "plt.errorbar(w, cvv, cvv_err, barsabove=True, label='gas phase', alpha =0.5)\n",
    "\n",
    "w, cvv, cvv_err = np.loadtxt('3-rpmd/T-300K-bulk/P.016/vv_facf.data').T\n",
    "w = w * 219474 # converts the frequency from atomic units to invcm\n",
    "plt.plot(w, cvv, alpha =1.0, ls = '--', lw=0.5, c='k')\n",
    "plt.errorbar(w, cvv, cvv_err, barsabove=True, label='liquid phase', alpha =0.5)\n",
    "\n",
    "\n",
    "\n",
    "plt.legend(ncol=3)"
   ]
  },
  {
   "cell_type": "code",
   "execution_count": null,
   "metadata": {},
   "outputs": [],
   "source": []
  }
 ],
 "metadata": {
  "kernelspec": {
   "display_name": "Python 3",
   "language": "python",
   "name": "python3"
  },
  "language_info": {
   "codemirror_mode": {
    "name": "ipython",
    "version": 3
   },
   "file_extension": ".py",
   "mimetype": "text/x-python",
   "name": "python",
   "nbconvert_exporter": "python",
   "pygments_lexer": "ipython3",
   "version": "3.8.10"
  },
  "toc": {
   "base_numbering": 1,
   "nav_menu": {},
   "number_sections": true,
   "sideBar": true,
   "skip_h1_title": false,
   "title_cell": "Table of Contents",
   "title_sidebar": "Contents",
   "toc_cell": false,
   "toc_position": {
    "height": "calc(100% - 180px)",
    "left": "10px",
    "top": "150px",
    "width": "397px"
   },
   "toc_section_display": true,
   "toc_window_display": true
  }
 },
 "nbformat": 4,
 "nbformat_minor": 4
}
