{
 "cells": [
  {
   "cell_type": "markdown",
   "metadata": {},
   "source": [
    "<p style=\"font-size:32px; font-weight: bolder; text-align: center\"> Colored-noise methods </p>"
   ]
  },
  {
   "cell_type": "markdown",
   "metadata": {},
   "source": [
    "This notebook provides a hands-on counterpart to the \"Colored-noise methods\" lecture for the MOOC \"Path Integrals in Atomistic Modeling\". If you haven't done so already, check the [getting started](0-getting_started.ipynb) notebook to make sure that the software infrastructure is up and running. \n",
    "\n",
    "The different sections in this notebook match the parts this lecture is divided into:\n",
    "\n",
    "1. [Generalized Langevin Equations](#gle)\n",
    "2. [Equilibrium GLE sampling](#equilibrium)\n",
    "3. [Non-Equilibrium GLE sanpling](#non-equilibrium)\n",
    "4. [Combining GLE and PIMD](#pi-gle)\n",
    "5. [Dynamical properties](#dynamics)\n",
    "\n",
    "_NB: you should run these sections in order, as the later ones re-use some of the data and the definitions from the earlier ones. If you cannot do the full notebook in a single session, re-running the full notebook should take less than a minute, as long as you leave the outputs of the external i-PI calculations in place._"
   ]
  },
  {
   "cell_type": "code",
   "execution_count": null,
   "metadata": {},
   "outputs": [],
   "source": [
    "import numpy as np\n",
    "import scipy as sp\n",
    "import matplotlib.pyplot as plt\n",
    "import ase, ase.io\n",
    "from ase.ga.utilities import get_rdf\n",
    "import chemiscope\n",
    "import pimdmooc\n",
    "pimdmooc.add_ipi_paths()"
   ]
  },
  {
   "cell_type": "markdown",
   "metadata": {},
   "source": [
    "<a id=\"gle\"> </a>"
   ]
  },
  {
   "cell_type": "markdown",
   "metadata": {},
   "source": [
    "# Generalized Langevin Equations "
   ]
  },
  {
   "cell_type": "markdown",
   "metadata": {},
   "source": [
    "This section provides a brief demonstration of the possibility of computing properties of a generalized Langevin equation written in the extended-phase-space form, as a function of the drift matrix $\\mathbf{A}_p$ and the diffusion matrix $\\mathbf{B}_p$ (the latter being usually fixed by a fluctuation-dissipation relation."
   ]
  },
  {
   "cell_type": "markdown",
   "metadata": {},
   "source": [
    "A matrix $\\mathbf{M}_p$ coupling physical momentum $p$ and extended momenta $\\mathbf{s}$ can be written down as a combination of blocks, following the convention\n",
    "\n",
    "$$\n",
    "\\begin{array}{c|cc}\n",
    "      &    p   &   \\mathbf{s} \\\\ \\hline\n",
    "   p  & m_{pp} &  \\mathbf{m}_p^T \\\\\n",
    "\\mathbf{s} & \\bar{\\mathbf{m}}_p &  \\mathbf{M}\\\\\n",
    "\\end{array}\n",
    "$$"
   ]
  },
  {
   "cell_type": "code",
   "execution_count": null,
   "metadata": {},
   "outputs": [],
   "source": [
    "# this splits up a Mp matrix into the four blocks describing interactions between p and s\n",
    "def gle_split(Mp):\n",
    "    \"\"\" Splits a matrix in the various blocks \"\"\"\n",
    "    return Mp[:1,:1], Mp[:1, 1:], Mp[1:, :1], Mp[1:,1:]"
   ]
  },
  {
   "cell_type": "markdown",
   "metadata": {},
   "source": [
    "The simplest property that can be computed from the GLE matrices are the memory kernels of the associated non-Markovian formulation. The friction kernel reads\n",
    "\n",
    "$$\n",
    "K(t) = a_{pp} \\delta(t) - \\mathbf{a}_p^T e^{-t \\mathbf{A}} \\bar{\\mathbf{a}}_p\n",
    "$$\n",
    "\n",
    "and its Fourier transform \n",
    "\n",
    "$$\n",
    "K(\\omega) = 2 a_{pp} -2 \\mathbf{a}_p^T \\frac{\\mathbf{A}}{\\mathbf{A}^2+\\omega^2} \\bar{\\mathbf{a}}_p\n",
    "$$"
   ]
  },
  {
   "cell_type": "code",
   "execution_count": null,
   "metadata": {},
   "outputs": [],
   "source": [
    "def Kt(Ap, t, with_delta=False):\n",
    "    app, ap, bap, A = gle_split(Ap)\n",
    "    return (app[0,0] if with_delta and t==0 else 0) - (ap@sp.linalg.expm(-A*t)@bap)[0,0]\n",
    "\n",
    "def Kw(Ap, w):\n",
    "    app, ap, bap, A = gle_split(Ap)\n",
    "    return (2*app  - 2*(ap@A)@np.linalg.solve(A@A+np.eye(len(A))*w**2,bap))[0,0]"
   ]
  },
  {
   "cell_type": "markdown",
   "metadata": {},
   "source": [
    "## Memory kernels"
   ]
  },
  {
   "cell_type": "markdown",
   "metadata": {},
   "source": [
    "Different analytical forms of memory kernel can be obtained with appropriate parameterizations of the drift matrix. The ones given below yield $K(t)$ that are exponential, $K(t)=\\gamma e^{-t/\\tau}$ or different types of Dirac-$\\delta$-like functions, that give a peaked memory kernel in the frequency domain (the corresponding functional form is rather cumbersome, you can find a thorough discussion [here](https://www.research-collection.ethz.ch/bitstream/handle/20.500.11850/152344/eth-2145-02.pdf)) - the functional form has been slightly modified to give more intuitive link between the parameters and the shape of $K(\\omega)$. In all these cases, the parameter `app`, corresponding to $a_{pp}$, introduces a non-Markovian term in the kernel."
   ]
  },
  {
   "cell_type": "code",
   "execution_count": null,
   "metadata": {},
   "outputs": [],
   "source": [
    "def Ap_exp(gamma, tau, app=0):\n",
    "    \"\"\" Drift matrix for an exponential memory kernel.\n",
    "    gamma: intensity of the friction\n",
    "    tau: time scale of the exponential decay\n",
    "    app: Markovian term\n",
    "    \"\"\"\n",
    "    return np.asarray( [ [app,-np.sqrt(gamma/tau) ], [np.sqrt(gamma/tau), 1/tau ]])\n",
    "def Ap_delta(gamma, omega0, domega, app=0):\n",
    "    \"\"\" Drift matrix for a delta-like memory kernel.  \n",
    "    gamma: intensity of the friction\n",
    "    omega0: frequency-domain center of the K(w) peak\n",
    "    domega: width of the peak\n",
    "    app: Markovian term\n",
    "    \"\"\"\n",
    "    return np.asarray( [ [app, np.sqrt(gamma*domega/2), np.sqrt(gamma*domega/2) ], \n",
    "                         [-np.sqrt(gamma*domega/2),  domega, omega0 ],\n",
    "                         [-np.sqrt(gamma*domega/2), -omega0, domega ]\n",
    "                       ])\n",
    "def Ap_delta_alt(gamma, omega0, domega, app=0):\n",
    "    \"\"\" Drift matrix for a delta-like memory kernel. Alternative form with K(0)=0. \n",
    "    gamma: intensity of the friction\n",
    "    omega0: frequency-domain center of the K(w) peak\n",
    "    domega: width of the peak\n",
    "    app: Markovian term\n",
    "    \"\"\"\n",
    "    return np.asarray( [ [app,np.sqrt(gamma*domega/2), 0 ], \n",
    "                         [-np.sqrt(gamma*domega/2),  domega, omega0 ],\n",
    "                         [0, -omega0, 0 ]\n",
    "                       ])"
   ]
  },
  {
   "cell_type": "markdown",
   "metadata": {},
   "source": [
    "Below you can plot $K(\\omega)$ for the three functional forms above. Play around with the parameters to verify their effect on the shape of the memory kernel spectrum. "
   ]
  },
  {
   "cell_type": "code",
   "execution_count": null,
   "metadata": {},
   "outputs": [],
   "source": [
    "wgrid = np.geomspace(1e-3,1e3,200)\n",
    "fig, ax = plt.subplots(1,1,figsize=(5,3), constrained_layout=True)\n",
    "# defaults: Ap_delta_alt(1, 1, 1, 1e-8)\n",
    "ax.loglog(wgrid, [Kw(Ap_delta_alt(1, 1, 0.1, 1e-8), w) for w in wgrid], 'r-' )  \n",
    "# defaults: Ap_delta(1, 0.1, 0.01, 1e-8)\n",
    "ax.loglog(wgrid, [Kw(Ap_delta(1, 0.1, 0.01, 1e-8), w) for w in wgrid], 'b-' ) \n",
    "# defaults: Ap_exp(1, 1, 0)\n",
    "ax.loglog(wgrid, [Kw(Ap_exp(1, 1, 0), w) for w in wgrid], 'k-' )\n",
    "ax.set_xlabel(r\"$\\omega$ / a.u.\"); ax.set_ylabel(r\"$K(\\omega)$ / a.u.\"); "
   ]
  },
  {
   "cell_type": "markdown",
   "metadata": {},
   "source": [
    "An important idea that makes it easy to reuse GLE parameters for different systems is that it is possible to \"translate\" the shape of $K(\\omega)$ by scaling it by a factor $\\alpha$. This is essentially a change of units, so scaling the kernel moves the curve right and up in the $(\\omega, K)$ plane"
   ]
  },
  {
   "cell_type": "code",
   "execution_count": null,
   "metadata": {},
   "outputs": [],
   "source": [
    "wgrid = np.geomspace(1e-3,1e3,200)\n",
    "fig, ax = plt.subplots(1,1,figsize=(5,3), constrained_layout=True)\n",
    "ax.loglog(wgrid, [Kw(Ap_delta_alt(1,1,1,1e-4), w) for w in wgrid], 'r-' )\n",
    "ax.loglog(wgrid, [Kw(0.1*Ap_delta_alt(1,1,1,1e-4), w) for w in wgrid], 'r:' )\n",
    "ax.loglog(wgrid, [Kw(10*Ap_delta_alt(1,1,1,1e-4), w) for w in wgrid], 'r--' )\n",
    "ax.set_xlabel(r\"$\\omega$ / a.u.\"); ax.set_ylabel(r\"$K(\\omega)$ / a.u.\"); "
   ]
  },
  {
   "cell_type": "markdown",
   "metadata": {},
   "source": [
    "<p style=\"color:blue; font-weight:bold\">\n",
    "In the case of the analytical memory functions above, you can actually also mimic the effect of scaling by changing the value of the parameters. What parameters should you use for Ap_delta below, so that the blue curve becomes identical to the red curve?\n",
    "</p>"
   ]
  },
  {
   "cell_type": "code",
   "execution_count": null,
   "metadata": {},
   "outputs": [],
   "source": [
    "fig, ax = plt.subplots(1,1,figsize=(5,3), constrained_layout=True)\n",
    "ax.loglog(wgrid, [Kw(0.1*Ap_delta(1,1,0.1,1e-4), w) for w in wgrid], 'r--' )\n",
    "\n",
    "# modify the parameters below ↓ ↓ ↓ ↓, corresponding to gamma, omega0, domega, app\n",
    "ax.loglog(wgrid, [Kw(Ap_delta(1,1,1,0), w) for w in wgrid], 'b:' )"
   ]
  },
  {
   "cell_type": "markdown",
   "metadata": {},
   "source": [
    "## GLE integration"
   ]
  },
  {
   "cell_type": "markdown",
   "metadata": {},
   "source": [
    "We now see how a GLE can be integrated in its Markovian, extended-phase-space form. The idea is very similar to the integrator for Langevin dynamics: a free-particle propagator that propagates $(p, \\mathbf{s})$ for a finite time step $dt$ without an external potential is combined with a velocity-Verlet integrator for the Hamiltonian part of the equations of motion. The GLE integrator can be formulated as \n",
    "\n",
    "$$\n",
    "(p, \\mathbf{s})^T \\leftarrow \\mathbf{T}_p (p, \\mathbf{s})^T + \\mathbf{S}_p \\boldsymbol{\\xi}^T\n",
    "$$\n",
    "\n",
    "where $\\boldsymbol{\\xi}$ is a vector of uncorrelated random numbers, $\\mathbf{T}_p = e^{-\\mathbf{A}_p dt}$, and $\\mathbf{S}_p\\mathbf{S}_p^T = \\mathbf{C}_p - \\mathbf{T}_p \\mathbf{C}_p \\mathbf{T}_p^T$. "
   ]
  },
  {
   "cell_type": "code",
   "execution_count": null,
   "metadata": {},
   "outputs": [],
   "source": [
    "# Example classes for VV and GLE integration. Should be rather self-explanatory. \n",
    "# We consider a particle with unit mass\n",
    "class VVIntegrator(object):\n",
    "    \"\"\" Velocity-Verlet integrator \"\"\"\n",
    "    def __init__(self, force, dt, q):\n",
    "        \"\"\" force is a function that takes a vector of positions q and returns -dV/dq \"\"\"\n",
    "        self.force = force\n",
    "        self.dt = dt\n",
    "        self.f = force(q)\n",
    "    \n",
    "    def step(self, q, p):        \n",
    "        p[:] += self.f * self.dt *0.5\n",
    "        q[:] += p * self.dt\n",
    "        self.f = self.force(q)\n",
    "        p[:] += self.f * self.dt*0.5            \n",
    "        \n",
    "class GLEIntegrator(object):\n",
    "    \"\"\" Finite time-step GLE integrator for a free particle \"\"\"\n",
    "    def __init__(self, Ap, Cp, dt):\n",
    "        self.ns = len(Ap)-1\n",
    "        self.Ap = Ap\n",
    "        self.Cp = Cp\n",
    "        self.dt = dt\n",
    "        self.T = sp.linalg.expm(-Ap*self.dt*0.5)\n",
    "        self.S = sp.linalg.cholesky(self.Cp - self.T @ self.Cp @self.T.T).T\n",
    "    \n",
    "    def step(self, p, s):        \n",
    "        ps = np.vstack([p,s])\n",
    "        # stores the \"GLE force\" contribution for analysis\n",
    "        self._rf = self.T @ ps - ps + self.S @ np.random.normal(size=(self.ns+1, len(p)))\n",
    "        ps += self._rf        \n",
    "        p[:] = ps[0]\n",
    "        s[:] = ps[1:]"
   ]
  },
  {
   "cell_type": "markdown",
   "metadata": {},
   "source": [
    "We can then run a trajectory for a free particle, using an exponential memory kernel. We run a 2D trajectory, but the two directions are equivalent"
   ]
  },
  {
   "cell_type": "code",
   "execution_count": null,
   "metadata": {},
   "outputs": [],
   "source": [
    "# initialize the trajectory\n",
    "q = np.asarray([0.,0.])\n",
    "p = np.asarray([0.,0.])\n",
    "s = np.asarray([[0.,0.]])\n",
    "dt = 0.1\n",
    "Ap = Ap_exp(0.2, 10, 0.01)  # default value: Ap_exp(0.2, 10, 0.01)\n",
    "GLE = GLEIntegrator(Ap, np.eye(s.shape[0]+1), dt)\n",
    "VV = VVIntegrator(lambda x:0.*x, dt, q)"
   ]
  },
  {
   "cell_type": "code",
   "execution_count": null,
   "metadata": {},
   "outputs": [],
   "source": [
    "nstep = 40000 # default value: 40000\n",
    "traj_q = np.zeros((nstep, len(q)))\n",
    "traj_p = np.zeros((nstep, len(p)))\n",
    "traj_f = np.zeros((nstep, len(p)))\n",
    "for istep in range(nstep):\n",
    "    traj_q[istep] = q; traj_p[istep] = p\n",
    "    GLE.step(p,s)\n",
    "    traj_f[istep] = GLE._rf[0]/(0.5*dt) # this is \\dot{p} + V'(q), see the exercise in the lecture notes\n",
    "    VV.step(q,p)\n",
    "    GLE.step(p,s)    "
   ]
  },
  {
   "cell_type": "code",
   "execution_count": null,
   "metadata": {},
   "outputs": [],
   "source": [
    "fig, ax = plt.subplots(1,1,figsize=(4,4), constrained_layout=True)\n",
    "ax.plot(traj_q[:,0], traj_q[:,1], 'r-')\n",
    "ax.set_xlabel(\"$q_1$\"); ax.set_ylabel(\"$q_2$\");"
   ]
  },
  {
   "cell_type": "markdown",
   "metadata": {},
   "source": [
    "The trajectory of the particle is quite different from what you would get with a white-noise Langevin run. Experiment with different parameters and types of the `Ap` matrix. \n",
    "<p style=\"color:blue; font-weight:bold\">\n",
    "Run a white-noise simulation with a_pp = 0.2 (you can achieve this by manually constructing an Ap matrix, or by setting gamma=0 in the exponential kernel). Observe the difference in the trajectory behavior: can you recognize this out of several trajectories generated with colored noise?\n",
    "</p>"
   ]
  },
  {
   "cell_type": "markdown",
   "metadata": {},
   "source": [
    "<a id=\"equilibrium\"> </a>"
   ]
  },
  {
   "cell_type": "markdown",
   "metadata": {},
   "source": [
    "# Equilibrium GLE sampling"
   ]
  },
  {
   "cell_type": "markdown",
   "metadata": {},
   "source": [
    "This section requires use of i-PI, so make sure you have it installed and have familiarized yourself with how to run it in the [getting started](0-getting_started.ipynb) section. \n",
    "\n",
    "We will set up and run a molecular dynamics simulation of liquid water using a \"smart-sampling\" GLE thermostat, using the parameter generator from the [GLE4MD website](https://gle4md.org). Given that we will compare the sampling efficiency to that obtained from white-noise Langevin simulations, you may want to run the exercises from section 4 of the [sampling and MD notebook](1-md_sampling.ipynb). \n",
    "\n",
    "For reference, these are the values of the correlation times for $V$ and $K$ obtained from a long simulation with different white noise thermostat relaxation time $\\tau=1/\\gamma$\n",
    "\n",
    "\n",
    "|  $\\tau$ / fs   |    $\\tau_V$ / ps  |   $\\tau_K$ / ps   |\n",
    "|----------------|-------------------|-------------------|\n",
    "|     1          |        10         |      0.0009       |\n",
    "|    100         |        0.8        |      0.04         |\n",
    "|   10000        |        4.6        |      1.5          |\n",
    "\n",
    "We also load some reference data that was generated with those trajectories, that contains the correlation functions of potential and kinetic energy at different Langevin $\\tau$ (format: `[time{ps}, acf_V(tau=1fs),   acf_K(tau=1fs), acf_V(tau=100fs), acf_K(tau=100fs), acf_V(tau=10ps), acf_K(tau=10ps)]`)"
   ]
  },
  {
   "cell_type": "code",
   "execution_count": null,
   "metadata": {},
   "outputs": [],
   "source": [
    "ref_data = np.loadtxt('5-gle/ref_langevin_acf.dat')"
   ]
  },
  {
   "attachments": {},
   "cell_type": "markdown",
   "metadata": {},
   "source": [
    "Now we can prepare the GLE trajectory. Make a copy of the template file\n",
    "\n",
    "```\n",
    "$ cd pimd-mooc/5-gle\n",
    "$ cp template_gle.xml input.xml\n",
    "```\n",
    "\n",
    "and modify it to use a GLE thermostat. We will use a \"smart-sampling\" GLE, so set the prefix to `md-gle_smart`, to match the post-processing below.\n",
    "\n",
    "Then, the important part: setting the GLE parameters. We will use the on-line generator on the [GLE4MD](https://gle4md.org) website. The website does not fit parameters from scratch, but uses a library of pre-optimized parameters, and uses scaling rules to adjust them for the range of frequencies of interest. \n",
    "\n",
    "![the input generation interface on gle4md.org](figures/gle4md-screenshot.png)\n",
    "\n",
    "\"Smart\" GLE thermostats are designed to provide optimal sampling efficiency for a characteristic time scale. We set it to 5 ps, given that the example is limited to 20ps and so 5-10ps is the longest time scale we can hope to target. By choosing a parameters preset that targets 3 orders of magnitude in frequency, we get \"as efficient as possible\" sampling up to about 6000 cm<sup>-1</sup>, well above the highest vibrational frequencies in water that are around 3600 cm<sup>-1</sup>. We set the formatting to i-PI output, that generates an XML block that should be copied and pasted within the `<dynamics>` block in the input file. \n",
    "You can get parameters that are suitable for water following [this link](https://gle4md.org/index.html?page=matrix&kind=smart&tslow=5&utslow=ps&smrange=6-3&outmode=ipi)"
   ]
  },
  {
   "cell_type": "markdown",
   "metadata": {},
   "source": [
    "Having set up the input file, you can run it as usual, launching i-PI first, and then the driver code that computes q-TIP4P/f energies and forces. \n",
    "\n",
    "```\n",
    "$ i-pi input.xml &> log &\n",
    "$ i-pi-driver -u -h driver -m qtip4pf \n",
    "```\n",
    "\n",
    "Wait until the run has completed, then load the output trajectory and continue the analysis"
   ]
  },
  {
   "cell_type": "code",
   "execution_count": null,
   "metadata": {},
   "outputs": [],
   "source": [
    "traj_gle = pimdmooc.read_ipi_output('5-gle/md-gle_smart.out')\n",
    "pos_gle = pimdmooc.read_ipi_xyz('5-gle/md-gle_smart.pos_0.xyz')"
   ]
  },
  {
   "cell_type": "markdown",
   "metadata": {},
   "source": [
    "We get the radial distribution functions, to get an idea of the structure of the liquid. These will also be used further down to compare with quantum simulations.\n",
    "_NB: ASE normalizes partial RDF in such a way they do not tend to 1 for a homogeneous system. We correct manually the normalization_"
   ]
  },
  {
   "cell_type": "code",
   "execution_count": null,
   "metadata": {},
   "outputs": [],
   "source": [
    "rbins = get_rdf(pos_gle[0], rmax=4.5, nbins=200, elements=[8, 8])[1] \n",
    "rdf_cls_oo = np.asarray([ get_rdf(f, rmax=4.5, nbins=200, elements=[8, 8])[0] for f in pos_gle[::10]]).mean(axis=0)/(1/3)\n",
    "rdf_cls_oh = np.asarray([ get_rdf(f, rmax=4.5, nbins=200, elements=[8, 1])[0] for f in pos_gle[::10]]).mean(axis=0)/(2/3)\n",
    "rdf_cls_hh = np.asarray([ get_rdf(f, rmax=4.5, nbins=200, elements=[1, 1])[0] for f in pos_gle[::10]]).mean(axis=0)/(2/3)"
   ]
  },
  {
   "cell_type": "code",
   "execution_count": null,
   "metadata": {},
   "outputs": [],
   "source": [
    "fig, ax = plt.subplots(1,1,figsize=(5,3), constrained_layout=True)\n",
    "ax.plot(rbins, rdf_cls_oo, 'r-' )\n",
    "ax.plot(rbins, rdf_cls_oh, c='gray' )\n",
    "ax.plot(rbins, rdf_cls_hh, 'c-' )\n",
    "ax.set_xlabel(r\"$r / \\AA$\"); ax.set_ylabel(r\"RDF\"); \n",
    "ax.set_ylim(-0.1,5)"
   ]
  },
  {
   "cell_type": "markdown",
   "metadata": {},
   "source": [
    "We compute the autocorrelation function of potential and kinetic energy for the trajectory. "
   ]
  },
  {
   "cell_type": "code",
   "execution_count": null,
   "metadata": {},
   "outputs": [],
   "source": [
    "acf_v_gle = pimdmooc.autocorrelate(traj_gle[\"potential\"], normalize=True)\n",
    "acf_k_gle = pimdmooc.autocorrelate(traj_gle[\"kinetic_md\"], normalize=True)"
   ]
  },
  {
   "cell_type": "code",
   "execution_count": null,
   "metadata": {},
   "outputs": [],
   "source": [
    "# integral-by-sum (we truncate at ~5ps because of the high level of noise)\n",
    "tau_v = (acf_v_gle[:5000].sum() - 0.5*acf_v_gle[0])*traj_gle[\"time\"][1]\n",
    "tau_k = (acf_k_gle[:5000].sum() - 0.5*acf_k_gle[0])*traj_gle[\"time\"][1]"
   ]
  },
  {
   "cell_type": "code",
   "execution_count": null,
   "metadata": {},
   "outputs": [],
   "source": [
    "print(\"Autocorrelation time: tau_V = % 10.5f ps,  tau_K = % 10.5f ps\" % (tau_v, tau_k))"
   ]
  },
  {
   "cell_type": "code",
   "execution_count": null,
   "metadata": {},
   "outputs": [],
   "source": [
    "fig, ax = plt.subplots(1,2, figsize=(10,3.5))\n",
    "acf_len = 10000\n",
    "ax[0].plot(ref_data[:acf_len,0], ref_data[:acf_len,2], color=(0.5,0,0,0.5), label=r\"$K, \\tau=1$ fs\")\n",
    "ax[0].plot(ref_data[:acf_len,0], ref_data[:acf_len,4], color=(1,0,0,0.5), label=r\"$K, \\tau=100$ fs\")\n",
    "ax[0].plot(ref_data[:acf_len,0], ref_data[:acf_len,6], color=(1,0.5,0.5,0.5), label=r\"$K, \\tau=10$ ps\")\n",
    "ax[0].plot(ref_data[:acf_len,0], acf_k_gle[:acf_len], color='k', label=r\"$K, $ GLE\")\n",
    "ax[1].plot(ref_data[:acf_len,0], ref_data[:acf_len,1], color=(0,0,0.5,0.5), label=r\"$V, \\tau=1$ fs\")\n",
    "ax[1].plot(ref_data[:acf_len,0], ref_data[:acf_len,3], color=(0,0,1,0.5), label=r\"$V, \\tau=100$ fs\")\n",
    "ax[1].plot(ref_data[:acf_len,0], ref_data[:acf_len,5], color=(0.5,0.5,1,0.5), label=r\"$V, \\tau=10$ ps\")\n",
    "ax[1].plot(ref_data[:acf_len,0], acf_v_gle[:acf_len], color='k', label=r\"$V, $ GLE\")\n",
    "for a in ax:\n",
    "    a.legend(ncol=1)\n",
    "    a.legend(ncol=1)\n",
    "    a.set_xlabel(\"time / ps\"); a.set_ylabel(\"energy / a.u.\");"
   ]
  },
  {
   "cell_type": "markdown",
   "metadata": {},
   "source": [
    "<p style=\"color:blue; font-weight:bold\">\n",
    "Observe the autocorrelation functions, and compare them with those obtained by white-noise thermostats. \n",
    "</p>\n",
    "<em>NB: the reference trajectories are obtained from much longer simulations, so they have smaller error in the asymptotic regime. Those from the GLE run will be noisier so you have to use a bit of \"mental filtering\". You can set up the GLE run to be longer, if you can afford the wait!</em>"
   ]
  },
  {
   "cell_type": "markdown",
   "metadata": {},
   "source": [
    "<p style=\"color:blue; font-weight:bold\">\n",
    "Imagine what would happen if you set the masses of all the atoms to be 100 times larger. What would you change in the setup of the simulation, what would change in the results and what will not?\n",
    "</p>"
   ]
  },
  {
   "cell_type": "markdown",
   "metadata": {},
   "source": [
    "<a id=\"non-equilibrium\"> </a>"
   ]
  },
  {
   "cell_type": "markdown",
   "metadata": {},
   "source": [
    "# Non-equilibrium GLE sampling"
   ]
  },
  {
   "cell_type": "markdown",
   "metadata": {},
   "source": [
    "Let's now see what happens when using a GLE simulation that does not fulfill the classical fluctuation-dissipation theorem, $k_B T(\\mathbf{A}_p+\\mathbf{A}_p^T)\\ne \\mathbf{B}_p \\mathbf{B}_p^T$. \n",
    "In fact, the GLE still reaches (in the free-particle limit) a stationary state for which the covariance matrix $\\mathbf{C}_p$ is not diagonal, and is consistent with $\\mathbf{A}_p \\mathbf{C}_p+\\mathbf{C}_p\\mathbf{A}_p^T = \\mathbf{B}_p \\mathbf{B}_p^T$: in practice, one usually considers $\\mathbf{C}_p$ as the GLE parameter, given also that $\\mathbf{B}_p$ is not needed to compute the finite-time propagator. "
   ]
  },
  {
   "cell_type": "markdown",
   "metadata": {},
   "source": [
    "We demonstrate the use of a _quantum thermostat_, in which $\\mathbf{A}_p$ and $\\mathbf{C}_p$ are optimized to yield a distribution of $\\langle q\\rangle^2$ and  $\\langle p\\rangle^2$ consistent with the quantum expectation values for a harmonic oscillator of frequency $\\omega_0$. \n",
    "\n",
    "Similar to the equilibrium case, several pre-optimized GLE parameters (that also balance sampling efficiency and zero-point energy leakage) can be obtained from the [GLE4MD website](https://gle4md.org). Scaling rules make it possible to adjust the target temperature, and the most important parameter is the maximum frequency for which the quantum fluctuations are guaranteed to be correct in the harmonic limit. "
   ]
  },
  {
   "cell_type": "markdown",
   "metadata": {},
   "source": [
    "## Quantum thermostat for a harmonic oscillator"
   ]
  },
  {
   "cell_type": "markdown",
   "metadata": {},
   "source": [
    "As a demonstration, we run a simulation for a 3D harmonic oscillator. Everything is expressed in atomic units, the target temperature is $T=1$ and the frequencies are $\\omega_0 = 0.25, 1, 4$: the lowest frequency is in the classical regime, the intermediate one is at the turning point between classical and quantum, and the highest frequency is strongly quantized.  Given that for the highest frequency $\\hbar\\omega\\beta=4$, the presets which fits fluctuations up to $\\hbar\\omega\\beta=20$ is more than sufficient. \n",
    "The GLE parameters below are obtained from the [online GLE input generator](https://gle4md.org/index.html?page=matrix&kind=quantum&parset=20_6&temp=1&utemp=aue&outmode=python&aunits=aut&cunits=aue)\n",
    "\n",
    "_NB: this uses the subroutines defined in [section 1](#gle)._"
   ]
  },
  {
   "cell_type": "code",
   "execution_count": null,
   "metadata": {},
   "outputs": [],
   "source": [
    "# initialize the trajectory\n",
    "q = np.asarray([0.,0.,0.])\n",
    "p = np.asarray([0.,0.,0.])\n",
    "s = np.zeros(shape=(6,3))\n",
    "dt = 0.1  # default: 0.1\n",
    "# strong bhw=20 quantum thermostat matrices for beta=1 a.u., from the GLE4MD website\n",
    "Ap = np.asarray([\n",
    "[   9.940227881069e-3,    1.191832744031e+0,    7.841346537680e-1,    1.127422061083e+0,    1.287760047739e+0,    6.597371849521e-1,    3.854520538662e-1, ],\n",
    "[  -1.219402549722e+0,    5.187757030411e-1,    1.679849599124e+0,   -2.171362088679e-1,   -5.679884059178e-2,    1.678648983902e-1,   -1.694069965777e+0, ],\n",
    "[  -7.396592199758e-1,   -1.679849599124e+0,    5.313365730649e-1,    2.916457167952e-1,    7.922023001118e-1,    2.804659293960e-1,   -8.312829730079e-1, ],\n",
    "[  -1.129202488515e+0,    2.171362088679e-1,   -2.916457167952e-1,    6.075528350225e-1,    2.238529963876e-2,    7.625335027833e-1,    3.896382327408e-1, ],\n",
    "[  -1.251885757500e+0,    5.679884059178e-2,   -7.922023001118e-1,   -2.238529963876e-2,    6.636392814216e-1,   -8.806083934866e-1,    2.480987428195e+0, ],\n",
    "[  -3.314567459043e-1,   -1.678648983902e-1,   -2.804659293960e-1,   -7.625335027833e-1,    8.806083934866e-1,    6.023159253293e+0,   -8.283882517564e+0, ],\n",
    "[  -7.647113842221e-1,    1.694069965777e+0,    8.312829730079e-1,   -3.896382327408e-1,   -2.480987428195e+0,    8.283882517564e+0,    9.760847161873e+0, ],\n",
    "])\n",
    "Cp = np.asarray([\n",
    "[   9.999953047000e-1,    1.979197779000e-2,    7.147922505000e-1,    1.961018636000e-1,   -3.732679220000e-1,   -2.264460588000e-1,    4.599299108000e-2, ],\n",
    "[   1.979197779000e-2,    1.260617101000e+0,   -1.931506174000e-1,   -7.262575605000e-1,   -5.497702197000e-1,   -2.185704484000e-1,    1.277943581000e-1, ],\n",
    "[   7.147922505000e-1,   -1.931506174000e-1,    2.441919995000e+0,    7.295025710000e-1,   -1.234862177000e+0,   -1.128397955000e-1,   -1.609235586000e-2, ],\n",
    "[   1.961018636000e-1,   -7.262575605000e-1,    7.295025710000e-1,    2.320143840000e+0,   -1.210057031000e+0,    5.676469950000e-1,   -2.024421968000e-1, ],\n",
    "[  -3.732679220000e-1,   -5.497702197000e-1,   -1.234862177000e+0,   -1.210057031000e+0,    4.792907650000e+0,    3.749158013000e-1,    1.177918093000e-2, ],\n",
    "[  -2.264460588000e-1,   -2.185704484000e-1,   -1.128397955000e-1,    5.676469950000e-1,    3.749158013000e-1,    4.964464101000e+0,   -5.358672711000e-1, ],\n",
    "[   4.599299108000e-2,    1.277943581000e-1,   -1.609235586000e-2,   -2.024421968000e-1,    1.177918093000e-2,   -5.358672711000e-1,    1.481694550000e+0, ],\n",
    "]\n",
    ")\n",
    "\n",
    "GLE = GLEIntegrator(Ap, Cp, dt)\n",
    "omega = np.asarray([0.25,1,4])   # default: [0.25,1,4]\n",
    "VV = VVIntegrator(lambda x: -x*omega**2, dt, q) # harmonic force as a lambda function ^_^"
   ]
  },
  {
   "cell_type": "code",
   "execution_count": null,
   "metadata": {},
   "outputs": [],
   "source": [
    "nstep = 200000 # default value: 200000\n",
    "traj_q = np.zeros((nstep, len(q)))\n",
    "traj_p = np.zeros((nstep, len(p)))\n",
    "for istep in range(nstep):\n",
    "    traj_q[istep] = q; traj_p[istep] = p\n",
    "    GLE.step(p,s)\n",
    "    VV.step(q,p)\n",
    "    GLE.step(p,s)    "
   ]
  },
  {
   "cell_type": "markdown",
   "metadata": {},
   "source": [
    "... do you recognize the expressions for the distribution of $q$ for a harmonic oscillator?"
   ]
  },
  {
   "cell_type": "code",
   "execution_count": null,
   "metadata": {},
   "outputs": [],
   "source": [
    "def cho_pq(w, beta, q):\n",
    "    \"\"\" Distribution of q for a classical harmonic oscillator. \"\"\"\n",
    "    q2 = beta/w**2\n",
    "    return np.exp(-0.5*q**2/q2)/np.sqrt(2*np.pi*q2)\n",
    "def qho_pq(w, beta, q):\n",
    "    \"\"\" Distribution of q for a quantum harmonic oscillator. \"\"\"\n",
    "    q2 = 0.5*beta/w /np.tanh(beta*w/2)\n",
    "    return np.exp(-0.5*q**2/q2)/np.sqrt(2*np.pi*q2)"
   ]
  },
  {
   "cell_type": "markdown",
   "metadata": {},
   "source": [
    "The distribution of positions sampled by the quantum thermostat follows closely the _quantum_ distribution, as it can be seen by plotting the histogram of positions (note that statistical convergence might be a problem, you can try increase the duration of the simulation to obtain more precise convergence). "
   ]
  },
  {
   "cell_type": "code",
   "execution_count": null,
   "metadata": {},
   "outputs": [],
   "source": [
    "qgrid = np.linspace(-15,15,1000)\n",
    "fig, ax = plt.subplots(1,3,figsize=(11,3), constrained_layout=True)\n",
    "for i in range(3):\n",
    "    ax[i].hist(traj_q[:,i], bins=100, density=True, label=\"quantum thermostat\", color=\"gray\");\n",
    "    ax[i].plot(qgrid, qho_pq(omega[i], 1, qgrid), 'r-', label=\"quantum HO\")\n",
    "    ax[i].plot(qgrid, cho_pq(omega[i], 1, qgrid), 'b--', label=\"classical HO\")\n",
    "    ax[i].set_xlim(-5/omega[i], 5/omega[i])\n",
    "    ax[i].set_title(r\"$\\omega=$\"+str(omega[i]))\n",
    "    ax[i].set_xlabel(r\"$q$ / a.u.\")\n",
    "ax[2].legend()"
   ]
  },
  {
   "cell_type": "markdown",
   "metadata": {},
   "source": [
    "Try to run with higher frequencies. Is the simulation still accurate when $\\omega>20$? \n",
    "_NB: as you increase the oscillator frequency you may have to reduce the time step._"
   ]
  },
  {
   "cell_type": "markdown",
   "metadata": {},
   "source": [
    "## Quantum thermostat for liquid water"
   ]
  },
  {
   "cell_type": "markdown",
   "metadata": {},
   "source": [
    "Now modify the `template_gle.xml` input file (after copying it to a different name) to perform a quantum thermostat simulation for water at 300K. It is recommended that you use `prefix='md-gle_qt'`, to be consistent with the post-processing code below.\n",
    "Try to choose the parameters on [GLE4MD website](https://gle4md.org/index.html?page=matrix). Strongly coupled matrices that guarantee quantum behavior up to a cutoff frequency around 4000 cm<sup>-1</sup> should be suitable. \n",
    "If you are uncertain or want to check your selection, compare it with [the recommended parameters](https://gle4md.org/index.html?page=matrix&kind=quantum&parset=20_6&temp=300&utemp=k&outmode=ipi).\n",
    "\n",
    "After having run the simulations, we can look at the results"
   ]
  },
  {
   "cell_type": "code",
   "execution_count": null,
   "metadata": {},
   "outputs": [],
   "source": [
    "traj_qt = pimdmooc.read_ipi_output('5-gle/md-gle_qt.out')\n",
    "pos_qt = pimdmooc.read_ipi_xyz('5-gle/md-gle_qt.pos_0.xyz')"
   ]
  },
  {
   "cell_type": "markdown",
   "metadata": {},
   "source": [
    "We print out separately the kinetic temperature of oxygen and hydrogen atoms. This is a striking indication of the non-equilibrium nature of the thermostat, if seen in a classical sense: the kinetic energy of H atoms differs dramatically from that of the O atoms, and the overall kinetic energy is much higher than that one would expect from classical equipartition at $T=300$ K.\n",
    "\n",
    "_NB: let us reiterate that the temperature computed from the kinetic energy is *not* a valid proxy of the thermodynamic temperature in a quantum simulation, because the relationship between mean kinetic energy per degree of freedom and $T$ only holds in the classical case._"
   ]
  },
  {
   "cell_type": "code",
   "execution_count": null,
   "metadata": {},
   "outputs": [],
   "source": [
    "fig, ax = plt.subplots(1,1,figsize=(5,3), constrained_layout=True)\n",
    "ax.plot(traj_qt[\"time\"], traj_qt[\"temperature(O)\"], 'r', ls=\"-\" , label=\"O\")\n",
    "ax.plot(traj_qt[\"time\"], traj_qt[\"temperature(H)\"], 'c', ls=\"-\", label=\"H\" )\n",
    "ax.plot(traj_qt[\"time\"], traj_qt[\"temperature\"], 'k', ls=\"-\", label=\"all\" )\n",
    "ax.set_xlabel(r\"$t$ / ps\"); ax.set_ylabel(r\"T / K\"); \n",
    "ax.legend();"
   ]
  },
  {
   "cell_type": "markdown",
   "metadata": {},
   "source": [
    "We can then look at the radial distribution functions."
   ]
  },
  {
   "cell_type": "code",
   "execution_count": null,
   "metadata": {},
   "outputs": [],
   "source": [
    "rbins = get_rdf(pos_qt[0], rmax=4.5, nbins=200, elements=[8, 8])[1] \n",
    "rdf_qt_oo = np.asarray([ get_rdf(f, rmax=4.5, nbins=200, elements=[8, 8])[0] for f in pos_qt[1000::10]]).mean(axis=0)/(1/3)\n",
    "rdf_qt_oh = np.asarray([ get_rdf(f, rmax=4.5, nbins=200, elements=[8, 1])[0] for f in pos_qt[1000::10]]).mean(axis=0)/(2/3)\n",
    "rdf_qt_hh = np.asarray([ get_rdf(f, rmax=4.5, nbins=200, elements=[1, 1])[0] for f in pos_qt[1000::10]]).mean(axis=0)/(2/3)"
   ]
  },
  {
   "cell_type": "markdown",
   "metadata": {},
   "source": [
    "One sees that the long-range parts of the RDF, and most of the O-O pair distribution, are not affected by the quantum thermostat. This is very similar to the result of PIMD simulations with this potential. On the other hand, intra-molecular degrees of freedom, identified by the first peak in the O-H and H-H RDF, are much broader, reflecting the larger quantum fluctuations driven by the GLE, that simulates the effect of zero-point energy motion. "
   ]
  },
  {
   "cell_type": "code",
   "execution_count": null,
   "metadata": {},
   "outputs": [],
   "source": [
    "# note that this reuses the classical RDF from section 2\n",
    "fig, ax = plt.subplots(1,1,figsize=(5,3), constrained_layout=True)\n",
    "ax.plot(rbins, rdf_cls_oo, 'r', ls=\":\" )\n",
    "ax.plot(rbins, rdf_cls_oh, c='gray', ls=\":\" )\n",
    "ax.plot(rbins, rdf_cls_hh, 'c', ls=\":\" )\n",
    "ax.plot(rbins, rdf_qt_oo, 'r', ls=\"-\" )\n",
    "ax.plot(rbins, rdf_qt_oh, c='gray', ls=\"-\" )\n",
    "ax.plot(rbins, rdf_qt_hh, 'c', ls=\"-\" )\n",
    "ax.set_xlabel(r\"$r / \\AA$\"); ax.set_ylabel(r\"RDF\"); \n",
    "ax.set_ylim(-0.1,5)"
   ]
  },
  {
   "cell_type": "markdown",
   "metadata": {},
   "source": [
    "<p style=\"color:blue; font-weight:bold\">\n",
    "Plot the potential energy (or compute directly the mean), for both this trajectory and the classical GLE simulation in section 2. How much energy per water molecule is present in the system?\n",
    "</p>"
   ]
  },
  {
   "cell_type": "markdown",
   "metadata": {},
   "source": [
    "**Something more:** _Re-run these simulations using the \"weak coupling\" GLE. You should observe colder H, hotter O, and loss of structure in the long-range part of the RDF, that are all indications of zero-point energy leakage from high-frequency to low-frequency vibrations_"
   ]
  }
 ],
 "metadata": {
  "kernelspec": {
   "display_name": "Python 3",
   "language": "python",
   "name": "python3"
  },
  "language_info": {
   "codemirror_mode": {
    "name": "ipython",
    "version": 3
   },
   "file_extension": ".py",
   "mimetype": "text/x-python",
   "name": "python",
   "nbconvert_exporter": "python",
   "pygments_lexer": "ipython3",
   "version": "3.8.10"
  },
  "toc": {
   "base_numbering": 1,
   "nav_menu": {},
   "number_sections": true,
   "sideBar": true,
   "skip_h1_title": false,
   "title_cell": "Table of Contents",
   "title_sidebar": "Contents",
   "toc_cell": false,
   "toc_position": {},
   "toc_section_display": true,
   "toc_window_display": true
  }
 },
 "nbformat": 4,
 "nbformat_minor": 4
}
