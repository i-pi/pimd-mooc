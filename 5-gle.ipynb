{
 "cells": [
  {
   "cell_type": "markdown",
   "metadata": {},
   "source": [
    "<p style=\"font-size:32px; font-weight: bolder; text-align: center\"> Colored-noise methods </p>"
   ]
  },
  {
   "cell_type": "markdown",
   "metadata": {},
   "source": [
    "This notebook provides a hands-on counterpart to the \"Colored-noise methods\" lecture for the MOOC \"Path Integrals in Atomistic Modeling\". If you haven't done so already, check the [getting started](0-getting_started.ipynb) notebook to make sure that the software infrastructure is up and running. \n",
    "\n",
    "The different sections in this notebook match the parts this lecture is divided into:\n",
    "\n",
    "1. [Generalized Langevin Equations](#gle)\n",
    "2. [Equilibrium GLE sanpling](#equilibrium)\n",
    "3. [Non-Equilibrium GLE sanpling](#non-equilibrium)\n",
    "4. [Combining GLE and PIMD](#pi-gle)\n",
    "5. [Dynamical properties](#dynamics)"
   ]
  },
  {
   "cell_type": "code",
   "execution_count": null,
   "metadata": {},
   "outputs": [],
   "source": [
    "import numpy as np\n",
    "import scipy as sp\n",
    "import matplotlib.pyplot as plt\n",
    "import ase, ase.io\n",
    "import chemiscope\n",
    "import pimdmooc\n",
    "pimdmooc.add_ipi_paths()"
   ]
  },
  {
   "cell_type": "markdown",
   "metadata": {},
   "source": [
    "<a id=\"gle\"> </a>"
   ]
  },
  {
   "cell_type": "markdown",
   "metadata": {},
   "source": [
    "# Generalized Langevin Equations "
   ]
  },
  {
   "cell_type": "markdown",
   "metadata": {},
   "source": [
    "This section provides a brief demonstration of the possibility of computing properties of a generalized Langevin equation written in the extended-phase-space form, as a function of the drift matrix $\\mathbf{A}_p$ and the diffusion matrix $\\mathbf{B}_p$ (the latter being usually fixed by a fluctuation-dissipation relation."
   ]
  },
  {
   "cell_type": "markdown",
   "metadata": {},
   "source": [
    "A matrix $\\mathbf{M}_p$ coupling physical momentum $p$ and extended momenta $\\mathbf{s}$ can be written down as a combination of blocks, following the convention\n",
    "\n",
    "$$\n",
    "\\begin{array}{c|cc}\n",
    "      &    p   &   \\mathbf{s} \\\\ \\hline\n",
    "   p  & m_{pp} &  \\mathbf{m}_p^T \\\\\n",
    "\\mathbf{s} & \\bar{\\mathbf{m}}_p &  \\mathbf{M}\\\\\n",
    "\\end{array}\n",
    "$$"
   ]
  },
  {
   "cell_type": "code",
   "execution_count": null,
   "metadata": {},
   "outputs": [],
   "source": [
    "# this splits up a Mp matrix into the four blocks describing interactions between p and s\n",
    "def gle_split(Mp):\n",
    "    \"\"\" Splits a matrix in the various blocks \"\"\"\n",
    "    return Mp[:1,:1], Mp[:1, 1:], Mp[1:, :1], Mp[1:,1:]"
   ]
  },
  {
   "cell_type": "markdown",
   "metadata": {},
   "source": [
    "The simplest property that can be computed from the GLE matrices are the memory kernels of the associated non-Markovian formulation. The friction kernel reads\n",
    "\n",
    "$$\n",
    "K(t) = a_{pp} \\delta(t) - \\mathbf{a}_p^T e^{-t \\mathbf{A}} \\bar{\\mathbf{a}}_p\n",
    "$$\n",
    "\n",
    "and its Fourier transform \n",
    "\n",
    "$$\n",
    "K(\\omega) = 2 a_{pp} -2 \\mathbf{a}_p^T \\frac{\\mathbf{A}}{\\mathbf{A}^2+\\omega^2} \\bar{\\mathbf{a}}_p\n",
    "$$"
   ]
  },
  {
   "cell_type": "code",
   "execution_count": null,
   "metadata": {},
   "outputs": [],
   "source": [
    "def Kt(Ap, t, with_delta=False):\n",
    "    app, ap, bap, A = gle_split(Ap)\n",
    "    return (app[0,0] if with_delta and t==0 else 0) - (ap@sp.linalg.expm(-A*t)@bap)[0,0]\n",
    "\n",
    "def Kw(Ap, w):\n",
    "    app, ap, bap, A = gle_split(Ap)\n",
    "    return (2*app  - 2*(ap@A)@np.linalg.solve(A@A+np.eye(len(A))*w**2,bap))[0,0]"
   ]
  },
  {
   "cell_type": "markdown",
   "metadata": {},
   "source": [
    "## Memory kernels"
   ]
  },
  {
   "cell_type": "markdown",
   "metadata": {},
   "source": [
    "Different analytical forms of memory kernel can be obtained with appropriate parameterizations of the drift matrix. The ones given below yield $K(t)$ that are exponential, $K(t)=\\gamma e^{-t/\\tau}$ or different types of Dirac-$\\delta$-like functions, that give a peaked memory kernel in the frequency domain (the corresponding functional form is rather cumbersome, you can find a thorough discussion [here](https://www.research-collection.ethz.ch/bitstream/handle/20.500.11850/152344/eth-2145-02.pdf)) - the functional form has been slightly modified to give more intuitive link between the parameters and the shape of $K(\\omega)$. In all these cases, the parameter `app`, corresponding to $a_{pp}$, introduces a non-Markovian term in the kernel."
   ]
  },
  {
   "cell_type": "code",
   "execution_count": null,
   "metadata": {},
   "outputs": [],
   "source": [
    "def Ap_exp(gamma, tau, app=0):\n",
    "    \"\"\" Drift matrix for an exponential memory kernel.\n",
    "    gamma: intensity of the friction\n",
    "    tau: time scale of the exponential decay\n",
    "    app: Markovian term\n",
    "    \"\"\"\n",
    "    return np.asarray( [ [app,-np.sqrt(gamma/tau) ], [np.sqrt(gamma/tau), 1/tau ]])\n",
    "def Ap_delta(gamma, omega0, domega, app=0):\n",
    "    \"\"\" Drift matrix for a delta-like memory kernel.  \n",
    "    gamma: intensity of the friction\n",
    "    omega0: frequency-domain center of the K(w) peak\n",
    "    domega: width of the peak\n",
    "    app: Markovian term\n",
    "    \"\"\"\n",
    "    return np.asarray( [ [app, np.sqrt(gamma*domega/2), np.sqrt(gamma*domega/2) ], \n",
    "                         [-np.sqrt(gamma*domega/2),  domega, omega0 ],\n",
    "                         [-np.sqrt(gamma*domega/2), -omega0, domega ]\n",
    "                       ])\n",
    "def Ap_delta_alt(gamma, omega0, domega, app=0):\n",
    "    \"\"\" Drift matrix for a delta-like memory kernel. Alternative form with K(0)=0. \n",
    "    gamma: intensity of the friction\n",
    "    omega0: frequency-domain center of the K(w) peak\n",
    "    domega: width of the peak\n",
    "    app: Markovian term\n",
    "    \"\"\"\n",
    "    return np.asarray( [ [app,np.sqrt(gamma*domega/2), 0 ], \n",
    "                         [-np.sqrt(gamma*domega/2),  domega, omega0 ],\n",
    "                         [0, -omega0, 0 ]\n",
    "                       ])"
   ]
  },
  {
   "cell_type": "markdown",
   "metadata": {},
   "source": [
    "Below you can plot $K(\\omega)$ for the three functional forms above. Play around with the parameters to verify their effect on the shape of the memory kernel spectrum. "
   ]
  },
  {
   "cell_type": "code",
   "execution_count": null,
   "metadata": {},
   "outputs": [],
   "source": [
    "wgrid = np.geomspace(1e-3,1e3,200)\n",
    "fig, ax = plt.subplots(1,1,figsize=(5,3), constrained_layout=True)\n",
    "# defaults: Ap_delta_alt(1, 1, 1, 1e-8)\n",
    "ax.loglog(wgrid, [Kw(Ap_delta_alt(1, 1, 0.1, 1e-8), w) for w in wgrid], 'r-' )  \n",
    "# defaults: Ap_delta(1, 0.1, 0.01, 1e-8)\n",
    "ax.loglog(wgrid, [Kw(Ap_delta(1, 0.1, 0.01, 1e-8), w) for w in wgrid], 'b-' ) \n",
    "# defaults: Ap_exp(1, 1, 0)\n",
    "ax.loglog(wgrid, [Kw(Ap_exp(1, 1, 0), w) for w in wgrid], 'k-' )\n",
    "ax.set_xlabel(r\"$\\omega$ / a.u.\"); ax.set_ylabel(r\"$K(\\omega)$ / a.u.\"); \n",
    "fig.savefig(\"/tmp/gle-exp-delta.pdf\")"
   ]
  },
  {
   "cell_type": "markdown",
   "metadata": {},
   "source": [
    "An important idea that makes it easy to reuse GLE parameters for different systems is that it is possible to \"translate\" the shape of $K(\\omega)$ by scaling it by a factor $\\alpha$. This is essentially a change of units, so scaling the kernel moves the curve right and up in the $(\\omega, K)$ plane"
   ]
  },
  {
   "cell_type": "code",
   "execution_count": null,
   "metadata": {},
   "outputs": [],
   "source": [
    "wgrid = np.geomspace(1e-3,1e3,200)\n",
    "fig, ax = plt.subplots(1,1,figsize=(5,3), constrained_layout=True)\n",
    "ax.loglog(wgrid, [Kw(Ap_delta_alt(1,1,1,1e-4), w) for w in wgrid], 'r-' )\n",
    "ax.loglog(wgrid, [Kw(0.1*Ap_delta_alt(1,1,1,1e-4), w) for w in wgrid], 'r:' )\n",
    "ax.loglog(wgrid, [Kw(10*Ap_delta_alt(1,1,1,1e-4), w) for w in wgrid], 'r--' )\n",
    "ax.set_xlabel(r\"$\\omega$ / a.u.\"); ax.set_ylabel(r\"$K(\\omega)$ / a.u.\"); \n",
    "fig.savefig(\"/tmp/gle-alpha-shift.pdf\")"
   ]
  },
  {
   "cell_type": "markdown",
   "metadata": {},
   "source": [
    "<p style=\"color:blue; font-weight:bold\">\n",
    "In the case of the analytical memory functions above, you can actually also mimic the effect of scaling by changing the value of the parameters. What parameters should you use for `Ap_delta` below, so that the blue curve becomes identical to the red curve?\n",
    "</p>"
   ]
  },
  {
   "cell_type": "code",
   "execution_count": null,
   "metadata": {},
   "outputs": [],
   "source": [
    "fig, ax = plt.subplots(1,1,figsize=(5,3), constrained_layout=True)\n",
    "ax.loglog(wgrid, [Kw(0.1*Ap_delta(1,1,0.1,1e-4), w) for w in wgrid], 'r--' )\n",
    "\n",
    "# modify the parameters below ↓ ↓ ↓ ↓, corresponding to gamma, omega0, domega, app\n",
    "ax.loglog(wgrid, [Kw(Ap_delta(1,1,1,0), w) for w in wgrid], 'b:' )"
   ]
  },
  {
   "cell_type": "markdown",
   "metadata": {},
   "source": [
    "## GLE integration"
   ]
  },
  {
   "cell_type": "code",
   "execution_count": null,
   "metadata": {},
   "outputs": [],
   "source": [
    "class VVIntegrator(object):\n",
    "    \"\"\" Velocity-Verlet integrator \"\"\"\n",
    "    def __init__(self, force, dt, q):\n",
    "        \n",
    "        self.force = force\n",
    "        self.dt = dt\n",
    "        self.f = force(q)\n",
    "    \n",
    "    def step(self, q, p):\n",
    "        \n",
    "        p[:] += self.f * self.dt *0.5\n",
    "        q[:] += p * self.dt\n",
    "        self.f = self.force(q)\n",
    "        p[:] += self.f * self.dt*0.5            \n",
    "        \n",
    "class GLEIntegrator(object):\n",
    "    \"\"\" Finite time-step GLE integrator for a free particle \"\"\"\n",
    "    def __init__(self, Ap, Cp, dt):\n",
    "        self.ns = len(Ap)-1\n",
    "        self.Ap = Ap\n",
    "        self.Cp = Cp\n",
    "        self.dt = dt\n",
    "        self.T = sp.linalg.expm(-Ap*self.dt*0.5)\n",
    "        self.S = sp.linalg.cholesky(self.Cp - self.T @ self.Cp @self.T.T).T\n",
    "    \n",
    "    def step(self, p, s):        \n",
    "        ps = np.vstack([p,s])\n",
    "        # stores the \"GLE force\" contribution for analysis\n",
    "        self._rf = self.T @ ps - ps + self.S @ np.random.normal(size=(self.ns+1, len(p)))\n",
    "        ps += self._rf        \n",
    "        p[:] = ps[0]\n",
    "        s[:] = ps[1:]"
   ]
  },
  {
   "cell_type": "code",
   "execution_count": null,
   "metadata": {},
   "outputs": [],
   "source": [
    "q = np.asarray([0.,0.,0.])\n",
    "p = np.asarray([0.,0.,0.])\n",
    "s = np.asarray([[0.,0.,0.]])"
   ]
  },
  {
   "cell_type": "code",
   "execution_count": null,
   "metadata": {},
   "outputs": [],
   "source": [
    "lq = []\n",
    "lp = []\n",
    "Ap = Ap_exp(0.2, 0.5, 0.2)\n",
    "GLE = GLEIntegrator(Ap, np.eye(2), 0.1)\n",
    "VV = VVIntegrator(lambda x:0.*x, 0.1, q)"
   ]
  },
  {
   "cell_type": "code",
   "execution_count": null,
   "metadata": {},
   "outputs": [],
   "source": [
    "nstep = 40000\n",
    "lq = np.zeros((nstep, len(q)))\n",
    "lp = np.zeros((nstep, len(p)))\n",
    "lf = np.zeros((nstep, len(p)))\n",
    "for istep in range(nstep):\n",
    "    lq[istep] = q; lp[istep] = p\n",
    "    GLE.step(p,s)\n",
    "    lf[istep] = GLE._rf[0]/(0.5*GLE.dt)\n",
    "    VV.step(q,p)\n",
    "    GLE.step(p,s)    \n",
    "lq = np.asarray(lq)\n",
    "lp = np.asarray(lp)"
   ]
  },
  {
   "cell_type": "code",
   "execution_count": null,
   "metadata": {},
   "outputs": [],
   "source": [
    "plt.plot(lp[:,0])"
   ]
  },
  {
   "cell_type": "code",
   "execution_count": null,
   "metadata": {},
   "outputs": [],
   "source": [
    "np.std(lp[:,0])"
   ]
  },
  {
   "cell_type": "code",
   "execution_count": null,
   "metadata": {},
   "outputs": [],
   "source": [
    "plt.plot(lf[-200:,0])"
   ]
  },
  {
   "cell_type": "code",
   "execution_count": null,
   "metadata": {},
   "outputs": [],
   "source": []
  },
  {
   "cell_type": "code",
   "execution_count": null,
   "metadata": {},
   "outputs": [],
   "source": [
    "cvv = autocorrelate(lp[(nstep//10):,0], 0)"
   ]
  },
  {
   "cell_type": "code",
   "execution_count": null,
   "metadata": {},
   "outputs": [],
   "source": [
    "vv = correlate(lp[(nstep//10):,0], lp[(nstep//10):,0], 0, 0)\n",
    "vf = -(correlate(lf[(nstep//10):,0], lp[(nstep//10):,0], 0, 0) - correlate(lp[(nstep//10):,0],lf[(nstep//10):,0], 0, 0))/2"
   ]
  },
  {
   "cell_type": "code",
   "execution_count": null,
   "metadata": {},
   "outputs": [],
   "source": [
    "Kt(Ap, 0)"
   ]
  },
  {
   "cell_type": "code",
   "execution_count": null,
   "metadata": {},
   "outputs": [],
   "source": [
    "kk = np.asarray([Kt(Ap, VV.dt*t) for t in range(len(vv))])"
   ]
  },
  {
   "cell_type": "code",
   "execution_count": null,
   "metadata": {},
   "outputs": [],
   "source": [
    "ee = np.asarray( [ GLE.dt*(vv[:i]*kk[:i][::-1]).sum() for i in range(len(kk))] )"
   ]
  },
  {
   "cell_type": "code",
   "execution_count": null,
   "metadata": {},
   "outputs": [],
   "source": [
    "#plt.plot(vf[:100], 'b')\n",
    "plt.plot(vv[:100], 'r')\n",
    "plt.plot(kk[:100]*1e4, 'k')\n",
    "plt.plot(vf[:100], 'b.')\n",
    "plt.plot((vf - Ap[0,0]*vv)[:100], 'g.')\n",
    "plt.plot(ee[:100], 'k--')"
   ]
  }
 ],
 "metadata": {
  "kernelspec": {
   "display_name": "Python 3",
   "language": "python",
   "name": "python3"
  },
  "language_info": {
   "codemirror_mode": {
    "name": "ipython",
    "version": 3
   },
   "file_extension": ".py",
   "mimetype": "text/x-python",
   "name": "python",
   "nbconvert_exporter": "python",
   "pygments_lexer": "ipython3",
   "version": "3.8.10"
  },
  "toc": {
   "base_numbering": 1,
   "nav_menu": {},
   "number_sections": true,
   "sideBar": true,
   "skip_h1_title": false,
   "title_cell": "Table of Contents",
   "title_sidebar": "Contents",
   "toc_cell": false,
   "toc_position": {},
   "toc_section_display": true,
   "toc_window_display": false
  }
 },
 "nbformat": 4,
 "nbformat_minor": 4
}
