{
 "cells": [
  {
   "cell_type": "markdown",
   "metadata": {},
   "source": [
    "# Getting started"
   ]
  },
  {
   "cell_type": "markdown",
   "metadata": {},
   "source": [
    "This notebook provides an introduction to the tools that will be used for the _hands-on_ sessions of the MOOC \"Path Integrals in Atomistic Modeling\". Please follow the instructions to make sure that you have all the necessary components in place, and that you understand the basic mechanism to run simulations and analyze their outcome.  "
   ]
  },
  {
   "cell_type": "markdown",
   "metadata": {},
   "source": [
    "## Installation"
   ]
  },
  {
   "cell_type": "markdown",
   "metadata": {},
   "source": [
    "The notebooks associated with this course rely on some basic Python packages. If executing the following cell returns any errors, you should install the corresponding packages, e.g. using \n",
    "\n",
    "```\n",
    "pip install -U numpy matplotlib ase chemiscope\n",
    "```\n",
    "\n",
    "`pimdmooc.py` is a small utility package that is present in the root folder of this repository."
   ]
  },
  {
   "cell_type": "code",
   "execution_count": 1,
   "metadata": {},
   "outputs": [
    {
     "ename": "ModuleNotFoundError",
     "evalue": "No module named 'chemiscope'",
     "output_type": "error",
     "traceback": [
      "\u001b[0;31m---------------------------------------------------------------------------\u001b[0m",
      "\u001b[0;31mModuleNotFoundError\u001b[0m                       Traceback (most recent call last)",
      "\u001b[0;32m/tmp/ipykernel_79/685184055.py\u001b[0m in \u001b[0;36m<module>\u001b[0;34m\u001b[0m\n\u001b[1;32m      2\u001b[0m \u001b[0;32mimport\u001b[0m \u001b[0mmatplotlib\u001b[0m\u001b[0;34m.\u001b[0m\u001b[0mpyplot\u001b[0m \u001b[0;32mas\u001b[0m \u001b[0mplt\u001b[0m\u001b[0;34m\u001b[0m\u001b[0;34m\u001b[0m\u001b[0m\n\u001b[1;32m      3\u001b[0m \u001b[0;32mimport\u001b[0m \u001b[0mase\u001b[0m\u001b[0;34m,\u001b[0m \u001b[0mase\u001b[0m\u001b[0;34m.\u001b[0m\u001b[0mio\u001b[0m\u001b[0;34m\u001b[0m\u001b[0;34m\u001b[0m\u001b[0m\n\u001b[0;32m----> 4\u001b[0;31m \u001b[0;32mimport\u001b[0m \u001b[0mchemiscope\u001b[0m\u001b[0;34m\u001b[0m\u001b[0;34m\u001b[0m\u001b[0m\n\u001b[0m\u001b[1;32m      5\u001b[0m \u001b[0;32mimport\u001b[0m \u001b[0mpimdmooc\u001b[0m\u001b[0;34m\u001b[0m\u001b[0;34m\u001b[0m\u001b[0m\n\u001b[1;32m      6\u001b[0m \u001b[0mpimdmooc\u001b[0m\u001b[0;34m.\u001b[0m\u001b[0madd_ipi_paths\u001b[0m\u001b[0;34m(\u001b[0m\u001b[0;34m)\u001b[0m\u001b[0;34m\u001b[0m\u001b[0;34m\u001b[0m\u001b[0m\n",
      "\u001b[0;31mModuleNotFoundError\u001b[0m: No module named 'chemiscope'"
     ]
    }
   ],
   "source": [
    "import numpy as np\n",
    "import matplotlib.pyplot as plt\n",
    "import ase, ase.io\n",
    "import chemiscope\n",
    "import pimdmooc\n",
    "pimdmooc.add_ipi_paths()"
   ]
  },
  {
   "cell_type": "markdown",
   "metadata": {},
   "source": [
    "You should also have [i-PI](https://ipi-code.org) installed, and accessible from the path. This might require some more effort: if everything is configured correctly the following cell should return a prompt, and a message stating that \n",
    "\n",
    "```Simulation has already run for total_steps, will not even start. Modify total_steps or step counter to continue.```"
   ]
  },
  {
   "cell_type": "code",
   "execution_count": null,
   "metadata": {},
   "outputs": [],
   "source": [
    "!i-pi 0-getting_started/do_nothing.xml"
   ]
  },
  {
   "cell_type": "markdown",
   "metadata": {},
   "source": [
    "... and the following cell should generate a help string explaining the syntax for running `i-pi-driver`"
   ]
  },
  {
   "cell_type": "code",
   "execution_count": null,
   "metadata": {},
   "outputs": [],
   "source": [
    "!i-pi-driver"
   ]
  },
  {
   "cell_type": "markdown",
   "metadata": {},
   "source": [
    "If you get an error stating that the command has not been found, please open a terminal and follow these instructions.\n",
    "\n",
    "_NB: this will install i-PI in your home folder, which will make these notebooks work out-of-the-box. if you know what you are doing, you can personalize the installation as long as `i-pi` and `i-pi-driver` are accessible from the path_\n",
    "\n",
    "1. clone the i-PI repository\n",
    "\n",
    "``` \n",
    "$ git clone https://github.com/i-pi/i-pi.git \n",
    "```\n",
    "\n",
    "2. add the i-pi folder to the default path\n",
    "\n",
    "```\n",
    "$ echo \". ~/i-pi/env.sh\" >> .bashrc\n",
    "```\n",
    "\n",
    "3. compile the driver files \n",
    "\n",
    "```\n",
    "$ cd i-pi/drivers/f90/ & make\n",
    "```\n",
    "\n",
    "4. try to execute again the cells above"
   ]
  },
  {
   "cell_type": "markdown",
   "metadata": {},
   "source": [
    "## Running i-PI"
   ]
  },
  {
   "cell_type": "markdown",
   "metadata": {},
   "source": [
    "i-PI functions following a client-server protocol, in which i-PI acts as the server, executing advanced MD simulations, while the evaluation of energies and forces is delegated to an external code, that acts as the client\n",
    "\n",
    "![a scheme of the i-PI client-server model](figures/ipi-scheme.png)\n",
    "\n",
    "Thus, to run i-PI you need to launch (at least) two processes: `i-pi` and a driver -- here we use a minimalistic FORTRAN tool that can compute energy and forces according to a number of simple potential energy models. \n",
    "\n",
    "1. open *two* terminals\n",
    "2. in the first terminal launch `i-pi`\n",
    "\n",
    "```\n",
    "$ cd pimd-mooc/0-getting_started\n",
    "$ i-pi input.xml\n",
    "```\n",
    "\n",
    "3. in the second terminal, launch the driver\n",
    "\n",
    "```\n",
    "$ i-pi-driver -u -h driver -m pswater -v\n",
    "```\n",
    "\n",
    "_NB: `i-pi-driver` does not need input files nor generate outputs, so you can run it from any folder_"
   ]
  },
  {
   "cell_type": "markdown",
   "metadata": {},
   "source": [
    "Both programs run in verbose mode, so you can see the communication logs between the two. \n",
    "\n",
    "```\n",
    " @SOCKET:   Client asked for connection from . Now hand-shaking.\n",
    " @SOCKET:   Handshaking was successful. Added to the client list.\n",
    " @SOCKET: 21/09/17-15:49:35 Assigning [ none] request id    0 to client with last-id None (  0/  1 : )\n",
    " @SOCKET: 21/09/17-15:49:35 Assigning [match] request id    0 to client with last-id    0 (  0/  1 : )\n",
    " # Average timings at MD step       0. t/step: 4.08595e-02\n",
    " @SOCKET: 21/09/17-15:49:35 Assigning [match] request id    0 to client with last-id    0 (  0/  1 : )\n",
    " # Average timings at MD step       1. t/step: 3.96178e-02\n",
    " @SOCKET: 21/09/17-15:49:35 Assigning [match] request id    0 to client with last-id    0 (  0/  1 : )\n",
    "```\n",
    "\n",
    "and \n",
    "\n",
    "```\n",
    "  Message from server: STATUS\n",
    "  Message from server: POSDATA\n",
    "  Message from server: STATUS\n",
    "  Message from server: GETFORCE\n",
    "  Message from server: STATUS\n",
    "  Message from server: STATUS\n",
    "  Message from server: POSDATA\n",
    "  Message from server: STATUS\n",
    "  Message from server: GETFORCE\n",
    "  Message from server: STATUS\n",
    "```"
   ]
  },
  {
   "cell_type": "markdown",
   "metadata": {},
   "source": [
    "You can try to kill the driver with `CTRL+C` and see what happens. `i-pi` should stop and wait for the connection of another client: if you launch `i-pi-driver` again, the simulation will continue. This robust management of multiple client allows the implementation of a trivial level of parallelism when the advanced MD simulation require the calculation of multiple replicas, as we will see in the following exercises."
   ]
  },
  {
   "cell_type": "markdown",
   "metadata": {},
   "source": [
    "_NB: if `i-pi` exits abruptly (e.g. by closing down a shell) it will leave a UNIX domain socket file in `/tmp/`, named `/tmp/ipi-NAME`. If you launch again i-PI it will exit with an error message similar to_\n",
    "\n",
    "```\n",
    "Error opening unix socket. Check if a file /tmp/ipi_driver exists, and remove it if unused.\n",
    "```\n",
    "\n",
    "_needless to say: if you are reasonably confident this has been left around by a previous run, follow the instructions and remove the file._"
   ]
  },
  {
   "cell_type": "markdown",
   "metadata": {},
   "source": [
    "### i-PI input file format"
   ]
  },
  {
   "cell_type": "markdown",
   "metadata": {},
   "source": [
    "i-PI uses XML-formatted input files, that describe how the simulation is set up, where to get energy and forces from, and how to output the results of the simulation. in this course we will mostly use prepared input files, where the meaning of the parameters for each specific application will be explained only in relation to the concepts being covered. If you want to learn more about i-PI, you can visit the [website](https://ipi-code.org) or read the [documentation](https://ipi-code.org/i-pi/)."
   ]
  },
  {
   "cell_type": "code",
   "execution_count": null,
   "metadata": {},
   "outputs": [],
   "source": [
    "!cat 0-getting_started/input.xml   # the meaning of most of these options will become clear as the course progresses"
   ]
  },
  {
   "cell_type": "markdown",
   "metadata": {},
   "source": [
    "## Analyzing the results"
   ]
  },
  {
   "cell_type": "markdown",
   "metadata": {},
   "source": [
    "After you have run your simulations, you can look into the output files, load them and visualize them straight from the notebooks. i-PI does not have a pre-defined output format, and each run can be configured to output multiple files with different content and strides. "
   ]
  },
  {
   "cell_type": "markdown",
   "metadata": {},
   "source": [
    "The `<properties>` outputs contain properties of the system as a whole, such as the timestamp, temperature or potential energy of the system. The header of the file contains a summary of its content. In this simple example, the output is printed to `simulation.out`. _NB: Unless explicitly specified, *all* quantities read and output by i-PI are in Hartree atomic units_"
   ]
  },
  {
   "cell_type": "code",
   "execution_count": null,
   "metadata": {},
   "outputs": [],
   "source": [
    "!head 0-getting_started/simulation.out"
   ]
  },
  {
   "cell_type": "code",
   "execution_count": null,
   "metadata": {},
   "outputs": [],
   "source": [
    "simulation_data = np.loadtxt(\"0-getting_started/simulation.out\")"
   ]
  },
  {
   "cell_type": "code",
   "execution_count": null,
   "metadata": {},
   "outputs": [],
   "source": [
    "plt.plot(simulation_data[:,0], simulation_data[:,1])\n",
    "plt.xlabel(\"time / ps\"); plt.ylabel(\"temperature / K\")"
   ]
  },
  {
   "cell_type": "markdown",
   "metadata": {},
   "source": [
    "Atomic positions and properties are dumped to files based on the settings given in a `<trajectory>` tag. \n",
    "Here we use a combined visualizer called `chemiscope`, but obviously you can use alternative tools for this purpose."
   ]
  },
  {
   "cell_type": "code",
   "execution_count": null,
   "metadata": {},
   "outputs": [],
   "source": [
    "trajectory_data = pimdmooc.read_ipi_xyz(\"0-getting_started/simulation.pos_0.xyz\")"
   ]
  },
  {
   "cell_type": "markdown",
   "metadata": {},
   "source": [
    "`chemiscope` allows you to visualize simultaneously properties and configurations"
   ]
  },
  {
   "cell_type": "code",
   "execution_count": null,
   "metadata": {},
   "outputs": [],
   "source": [
    "chemiscope.show(frames=trajectory_data, \n",
    "                properties=dict(\n",
    "                    time=simulation_data[::10,0], \n",
    "                    temperature=simulation_data[::10,1],\n",
    "                    potential=simulation_data[::10,3]\n",
    "                               )\n",
    "               )"
   ]
  },
  {
   "cell_type": "markdown",
   "metadata": {},
   "source": [
    "given that sometimes it is not trivial to set up a jupyter widget to load properly, if you have problems opening the visualization above you can also export the visualization as a .json file, that can be loaded on [chemiscope.org](https://chemiscope.org)"
   ]
  },
  {
   "cell_type": "code",
   "execution_count": null,
   "metadata": {},
   "outputs": [],
   "source": [
    "chemiscope.write_input(\"0-example.json.gz\",\n",
    "                frames=trajectory_data, \n",
    "                properties=dict(\n",
    "                    time=simulation_data[::10,0], \n",
    "                    temperature=simulation_data[::10,1],\n",
    "                    potential=simulation_data[::10,3]\n",
    "                               )\n",
    "               )"
   ]
  },
  {
   "cell_type": "code",
   "execution_count": 4,
   "metadata": {},
   "outputs": [
    {
     "ename": "ModuleNotFoundError",
     "evalue": "No module named 'ase'",
     "output_type": "error",
     "traceback": [
      "\u001b[0;31m---------------------------------------------------------------------------\u001b[0m",
      "\u001b[0;31mModuleNotFoundError\u001b[0m                       Traceback (most recent call last)",
      "\u001b[0;32m/tmp/ipykernel_419/1547616736.py\u001b[0m in \u001b[0;36m<module>\u001b[0;34m\u001b[0m\n\u001b[0;32m----> 1\u001b[0;31m \u001b[0;32mimport\u001b[0m \u001b[0mase\u001b[0m\u001b[0;34m\u001b[0m\u001b[0;34m\u001b[0m\u001b[0m\n\u001b[0m",
      "\u001b[0;31mModuleNotFoundError\u001b[0m: No module named 'ase'"
     ]
    }
   ],
   "source": [
    "import ase"
   ]
  },
  {
   "cell_type": "code",
   "execution_count": 5,
   "metadata": {},
   "outputs": [],
   "source": [
    "import chemiscope"
   ]
  },
  {
   "cell_type": "code",
   "execution_count": 7,
   "metadata": {},
   "outputs": [],
   "source": [
    "import ase.io"
   ]
  },
  {
   "cell_type": "code",
   "execution_count": 13,
   "metadata": {},
   "outputs": [],
   "source": [
    "frames = ase.io.read(\"0-getting_started/simulation.pos_0.xyz\", \":\")"
   ]
  },
  {
   "cell_type": "code",
   "execution_count": 16,
   "metadata": {},
   "outputs": [
    {
     "data": {
      "application/vnd.jupyter.widget-view+json": {
       "model_id": "6486e85a797640f2b284c39e7a4a4e5d",
       "version_major": 2,
       "version_minor": 0
      },
      "text/plain": [
       "ChemiscopeWidget(value=None, data='{\"meta\": {\"name\": \" \"}, \"structures\": [{\"size\": 3, \"names\": [\"O\", \"H\", \"H\"]…"
      ]
     },
     "metadata": {},
     "output_type": "display_data"
    }
   ],
   "source": [
    "chemiscope.show(frames)"
   ]
  },
  {
   "cell_type": "code",
   "execution_count": 12,
   "metadata": {},
   "outputs": [
    {
     "data": {
      "text/plain": [
       "[]"
      ]
     },
     "execution_count": 12,
     "metadata": {},
     "output_type": "execute_result"
    }
   ],
   "source": [
    "frames"
   ]
  },
  {
   "cell_type": "code",
   "execution_count": null,
   "metadata": {},
   "outputs": [],
   "source": []
  }
 ],
 "metadata": {
  "kernelspec": {
   "display_name": "Python",
   "language": "python",
   "name": "python3"
  },
  "language_info": {
   "codemirror_mode": {
    "name": "ipython",
    "version": 3
   },
   "file_extension": ".py",
   "mimetype": "text/x-python",
   "name": "python",
   "nbconvert_exporter": "python",
   "pygments_lexer": "ipython3",
   "version": "3.8.10"
  },
  "toc": {
   "base_numbering": 1,
   "nav_menu": {},
   "number_sections": true,
   "sideBar": true,
   "skip_h1_title": false,
   "title_cell": "Table of Contents",
   "title_sidebar": "Contents",
   "toc_cell": false,
   "toc_position": {},
   "toc_section_display": true,
   "toc_window_display": false
  }
 },
 "nbformat": 4,
 "nbformat_minor": 4
}
