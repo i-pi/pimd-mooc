{
 "cells": [
  {
   "cell_type": "markdown",
   "metadata": {},
   "source": [
    "<p style=\"font-size:32px; font-weight: bolder; text-align: center\"> Getting started </p>"
   ]
  },
  {
   "cell_type": "markdown",
   "metadata": {},
   "source": [
    "This notebook provides an introduction to the tools that will be used for the _hands-on_ sessions of the MOOC \"Path Integrals in Atomistic Modeling\". Please follow the instructions to make sure that you have all the necessary components in place, and that you understand the basic mechanism to run simulations and analyze their outcome.  "
   ]
  },
  {
   "cell_type": "markdown",
   "metadata": {},
   "source": [
    "## Hold on, what is a J-u-p-y-t-e-r notebook?"
   ]
  },
  {
   "cell_type": "markdown",
   "metadata": {},
   "source": [
    "Basic knowledge of Python, and being able to run command from the terminal, are prerequisites to fully enjoy these interactive exercises. However, there is very little programming you actually have to do: the main purpose of these resources is to show the different techniques in action, and most of the exercises only require you to change a parameter and run existing code.\n",
    "\n",
    "If you have never used a Jupyter notebook before, all you need to know is that it is a document that integrates text and explanations, such as this, with computable cells, that contain Python code and can generate data and visualize them. You can execute these cells, such as the one below, by selecting them and pressing `shift+enter`."
   ]
  },
  {
   "cell_type": "code",
   "execution_count": 1,
   "metadata": {},
   "outputs": [
    {
     "name": "stdout",
     "output_type": "stream",
     "text": [
      "4\n"
     ]
    }
   ],
   "source": [
    "a = 2\n",
    "b = a + 2\n",
    "print(b)"
   ]
  },
  {
   "cell_type": "markdown",
   "metadata": {},
   "source": [
    "In addition to exercises in Python, you will also run simulations using the i-PI software. Instructions to install it are given below: if you are running this notebook directly on your computer, you will need to open a terminal and perform the installation relative to the path where you have installed the notebooks. \n",
    "If you are running this in a JupyterLab installation (e.g. from a MOOC environment) you usually can open a terminal and install packages in your user folder within the JupyterLab environment (`File > New > Terminal`). "
   ]
  },
  {
   "cell_type": "markdown",
   "metadata": {},
   "source": [
    "## Installation"
   ]
  },
  {
   "cell_type": "markdown",
   "metadata": {},
   "source": [
    "The notebooks associated with this course rely on some basic Python packages. If executing the following cell returns any errors, you should install the corresponding packages, e.g. using \n",
    "\n",
    "```\n",
    "pip install -U numpy matplotlib ase chemiscope\n",
    "```\n",
    "\n",
    "`pimdmooc.py` is a small utility package that is present in the root folder of this repository.\n",
    "\n",
    "_NB: at present chemiscope widgets don't work in a JupyterLab environment, but they are not essential to these exercises._"
   ]
  },
  {
   "cell_type": "code",
   "execution_count": 2,
   "metadata": {},
   "outputs": [],
   "source": [
    "import numpy as np\n",
    "import matplotlib.pyplot as plt\n",
    "import ase, ase.io\n",
    "import chemiscope\n",
    "import pimdmooc\n",
    "pimdmooc.add_ipi_paths()"
   ]
  },
  {
   "cell_type": "markdown",
   "metadata": {},
   "source": [
    "You should also have [i-PI](https://ipi-code.org) installed, and accessible from the path. This might require some more effort: if everything is configured correctly the following cell should return a prompt, and a message stating that \n",
    "\n",
    "```Simulation has already run for total_steps, will not even start. Modify total_steps or step counter to continue.```"
   ]
  },
  {
   "cell_type": "code",
   "execution_count": 3,
   "metadata": {},
   "outputs": [
    {
     "name": "stdout",
     "output_type": "stream",
     "text": [
      "\n",
      " ____       ____       ____       ____\n",
      "/    \\     /    \\     /    \\     /    \\\n",
      "|  #################################  |\n",
      "\\__#_/     \\____/     \\____/     \\_#__/\n",
      "   #    _        _______  _____    #\n",
      "   #   (_)      |_   __ \\|_   _|   #      -*-     v 2.0    -*-\n",
      "   #   __  ______ | |__) | | |     #\n",
      "   Y  [  ||______||  ___/  | |     #      A Universal Force Engine\n",
      "  0 0  | |       _| |_    _| |_    #\n",
      "   #  [___]     |_____|  |_____|   #\n",
      " __#_       ____       ____       _#__\n",
      "/  # \\     /    \\     /    \\     / #  \\\n",
      "|  #################################  |\n",
      "\\____/     \\____/     \\____/     \\____/\n",
      "\n",
      "    \n",
      " # Initializing simulation object \n",
      "Traceback (most recent call last):\n",
      "  File \"/home/i-pi//bin/i-pi\", line 105, in <module>\n",
      "    main(args[0], options)\n",
      "  File \"/home/i-pi//bin/i-pi\", line 48, in main\n",
      "    simulation = Simulation.load_from_xml(fn_input, request_banner=True, custom_verbosity=options.verbosity)\n",
      "  File \"/home/i-pi/ipi/engine/simulation.py\", line 97, in load_from_xml\n",
      "    simulation.bind(read_only)\n",
      "  File \"/home/i-pi/ipi/engine/simulation.py\", line 179, in bind\n",
      "    raise ValueError(\n",
      "ValueError: Simulation has already run for total_steps, will not even start. Modify total_steps or step counter to continue.\n"
     ]
    }
   ],
   "source": [
    "!i-pi 0-getting_started/do_nothing.xml"
   ]
  },
  {
   "cell_type": "markdown",
   "metadata": {},
   "source": [
    "... and the following cell should generate a help string explaining the syntax for running `i-pi-driver`"
   ]
  },
  {
   "cell_type": "code",
   "execution_count": 4,
   "metadata": {},
   "outputs": [
    {
     "name": "stdout",
     "output_type": "stream",
     "text": [
      "/bin/bash: i-pi-driver: command not found\n"
     ]
    }
   ],
   "source": [
    "!i-pi-driver"
   ]
  },
  {
   "cell_type": "markdown",
   "metadata": {},
   "source": [
    "If you get an error stating that the command has not been found, please open a terminal (`File > New > Terminal` if you are in Jupyterlab) and follow these instructions.\n",
    "\n",
    "_NB: this will install i-PI in your home folder, which will make these notebooks work out-of-the-box. if you know what you are doing, you can personalize the installation as long as `i-pi` and `i-pi-driver` are accessible from the path_\n",
    "\n",
    "1. clone the i-PI repository (might take a few minutes, depending on network speed)\n",
    "\n",
    "``` \n",
    "$ git clone https://github.com/i-pi/i-pi.git \n",
    "```\n",
    "\n",
    "2. add the i-pi folder to the default path\n",
    "\n",
    "```\n",
    "$ echo \". ~/i-pi/env.sh\" >> .bashrc\n",
    "```\n",
    "\n",
    "_NB: you can also `source ~/i-pi/env.sh` from open terminals to set correctly the paths to i-PI_\n",
    "\n",
    "3. compile the driver files \n",
    "\n",
    "```\n",
    "$ cd i-pi/drivers/f90/\n",
    "$ make\n",
    "```\n",
    "\n",
    "_NB: if you get an error, you need to install a Fortran compiler. If you are running in a didactic JupyterLab environment it should be there, otherwise ask your administrator_\n",
    "\n",
    "4. try to execute again the cells above"
   ]
  },
  {
   "cell_type": "markdown",
   "metadata": {},
   "source": [
    "## Running i-PI"
   ]
  },
  {
   "cell_type": "markdown",
   "metadata": {},
   "source": [
    "i-PI functions following a client-server protocol, in which i-PI acts as the server, executing advanced MD simulations, while the evaluation of energies and forces is delegated to an external code, that acts as the client\n",
    "\n",
    "![a scheme of the i-PI client-server model](figures/ipi-scheme.png)\n",
    "\n",
    "Thus, to run i-PI you need to launch (at least) two processes: `i-pi` and a driver -- here we use a minimalistic FORTRAN tool that can compute energy and forces according to a number of simple potential energy models. \n",
    "\n",
    "1. open *two* terminals\n",
    "2. in the first terminal launch `i-pi`\n",
    "\n",
    "```\n",
    "$ cd pimd-mooc/0-getting_started\n",
    "$ i-pi input.xml\n",
    "```\n",
    "\n",
    "3. in the second terminal, launch the driver\n",
    "\n",
    "```\n",
    "$ i-pi-driver -u -h driver -m pswater -v\n",
    "```\n",
    "\n",
    "_NB: `i-pi-driver` does not need input files nor generate outputs, so you can run it from any folder_"
   ]
  },
  {
   "cell_type": "markdown",
   "metadata": {},
   "source": [
    "Both programs run in verbose mode, so you can see the communication logs between the two. \n",
    "\n",
    "```\n",
    " @SOCKET:   Client asked for connection from . Now hand-shaking.\n",
    " @SOCKET:   Handshaking was successful. Added to the client list.\n",
    " @SOCKET: 21/09/17-15:49:35 Assigning [ none] request id    0 to client with last-id None (  0/  1 : )\n",
    " @SOCKET: 21/09/17-15:49:35 Assigning [match] request id    0 to client with last-id    0 (  0/  1 : )\n",
    " # Average timings at MD step       0. t/step: 4.08595e-02\n",
    " @SOCKET: 21/09/17-15:49:35 Assigning [match] request id    0 to client with last-id    0 (  0/  1 : )\n",
    " # Average timings at MD step       1. t/step: 3.96178e-02\n",
    " @SOCKET: 21/09/17-15:49:35 Assigning [match] request id    0 to client with last-id    0 (  0/  1 : )\n",
    "```\n",
    "\n",
    "and \n",
    "\n",
    "```\n",
    "  Message from server: STATUS\n",
    "  Message from server: POSDATA\n",
    "  Message from server: STATUS\n",
    "  Message from server: GETFORCE\n",
    "  Message from server: STATUS\n",
    "  Message from server: STATUS\n",
    "  Message from server: POSDATA\n",
    "  Message from server: STATUS\n",
    "  Message from server: GETFORCE\n",
    "  Message from server: STATUS\n",
    "```"
   ]
  },
  {
   "cell_type": "markdown",
   "metadata": {},
   "source": [
    "You can try to kill the driver with `CTRL+C` and see what happens. `i-pi` should stop and wait for the connection of another client: if you launch `i-pi-driver` again, the simulation will continue. This robust management of multiple client allows the implementation of a trivial level of parallelism when the advanced MD simulation require the calculation of multiple replicas, as we will see in the following exercises."
   ]
  },
  {
   "cell_type": "markdown",
   "metadata": {},
   "source": [
    "_NB: if `i-pi` exits abruptly (e.g. by closing down a shell) it will leave a UNIX domain socket file in `/tmp/`, named `/tmp/ipi-NAME`. If you launch again i-PI it will exit with an error message similar to_\n",
    "\n",
    "```\n",
    "Error opening unix socket. Check if a file /tmp/ipi_driver exists, and remove it if unused.\n",
    "```\n",
    "\n",
    "_needless to say: if you are reasonably confident this has been left around by a previous run, follow the instructions and remove the file._"
   ]
  },
  {
   "cell_type": "markdown",
   "metadata": {},
   "source": [
    "### i-PI input file format"
   ]
  },
  {
   "cell_type": "markdown",
   "metadata": {},
   "source": [
    "i-PI uses XML-formatted input files, that describe how the simulation is set up, where to get energy and forces from, and how to output the results of the simulation. in this course we will mostly use prepared input files, where the meaning of the parameters for each specific application will be explained only in relation to the concepts being covered. If you want to learn more about i-PI, you can visit the [website](https://ipi-code.org) or read the [documentation](https://ipi-code.org/i-pi/)."
   ]
  },
  {
   "cell_type": "code",
   "execution_count": 5,
   "metadata": {},
   "outputs": [
    {
     "name": "stdout",
     "output_type": "stream",
     "text": [
      "<simulation verbosity='high'>\n",
      "  <output prefix='simulation'>\n",
      "    <properties stride='1' filename='out'>  [ time{picosecond}, temperature{kelvin}, kinetic_md, potential, conserved ] </properties>\n",
      "    <trajectory filename='pos' format='xyz' stride='10'> positions{angstrom} </trajectory>  </output>\n",
      "  <total_steps>1000</total_steps>\n",
      "  <prng>\n",
      "    <seed>23658</seed>\n",
      "  </prng>\n",
      "  <ffsocket mode='unix' pbc='false' name='driver'>\n",
      "    <address>driver</address>\n",
      "    <port>31400</port>\n",
      "    <latency>0.02</latency>\n",
      "    <timeout>400</timeout>\n",
      "  </ffsocket>\n",
      "  <system>\n",
      "    <initialize nbeads='1'>\n",
      "      <file mode='xyz' units='angstrom'> h2o.xyz </file>\n",
      "      <cell mode='abc' units='angstrom'> [ 10.0, 10.0, 10.0 ] </cell>\n",
      "      <velocities mode='thermal' units='kelvin'> 300 </velocities>\n",
      "    </initialize>\n",
      "    <forces>\n",
      "      <force forcefield='driver'/>\n",
      "    </forces>\n",
      "    <ensemble>\n",
      "      <temperature units='kelvin'>300</temperature>\n",
      "    </ensemble>\n",
      "    <motion mode='dynamics'>\n",
      "      <fixcom>True</fixcom>\n",
      "      <dynamics mode='nvt'>\n",
      "        <timestep units='femtosecond'>0.5</timestep>\n",
      "        <thermostat mode='langevin'>\n",
      "          <tau units='femtosecond'> 10</tau>\n",
      "        </thermostat>\n",
      "      </dynamics>\n",
      "    </motion>\n",
      "  </system>\n",
      "</simulation>\n"
     ]
    }
   ],
   "source": [
    "!cat 0-getting_started/input.xml   # the meaning of most of these options will become clear as the course progresses"
   ]
  },
  {
   "cell_type": "markdown",
   "metadata": {},
   "source": [
    "## Analyzing the results"
   ]
  },
  {
   "cell_type": "markdown",
   "metadata": {},
   "source": [
    "After you have run your simulations (it might take a few minutes), you can look into the output files, load them and visualize them straight from the notebooks. i-PI does not have a pre-defined output format, and each run can be configured to output multiple files with different content and strides. "
   ]
  },
  {
   "cell_type": "markdown",
   "metadata": {},
   "source": [
    "The `<properties>` outputs contain properties of the system as a whole, such as the timestamp, temperature or potential energy of the system. The header of the file contains a summary of its content. In this simple example, the output is printed to `simulation.out`. _NB: Unless explicitly specified, *all* quantities read and output by i-PI are in Hartree atomic units_"
   ]
  },
  {
   "cell_type": "code",
   "execution_count": 8,
   "metadata": {},
   "outputs": [
    {
     "name": "stdout",
     "output_type": "stream",
     "text": [
      "# column   1     --> time{picosecond} : The elapsed simulation time.\n",
      "# column   2     --> temperature{kelvin} : The current temperature, as obtained from the MD kinetic energy.\n",
      "# column   3     --> kinetic_md : The kinetic energy of the (extended) classical system.\n",
      "# column   4     --> potential : The physical system potential energy.\n",
      "# column   5     --> conserved : The value of the conserved energy quantity per bead.\n",
      "    0.00000000e+00     4.70238687e+02     5.27614876e-03     1.54786476e-02     2.08325459e-02   \n",
      "    5.00000000e-04     2.83533681e+02     2.61547763e-03     1.69571451e-02     2.08605763e-02   \n",
      "    1.00000000e-03     3.17185381e+02     3.09503685e-03     1.59465474e-02     2.08504741e-02   \n",
      "    1.50000000e-03     4.86067953e+02     5.50172638e-03     1.22649446e-02     2.07969472e-02   \n",
      "    2.00000000e-03     8.42812495e+02     1.05855746e-02     7.80478791e-03     2.07088221e-02   \n"
     ]
    }
   ],
   "source": [
    "!head 0-getting_started/simulation.out"
   ]
  },
  {
   "cell_type": "code",
   "execution_count": 9,
   "metadata": {},
   "outputs": [],
   "source": [
    "simulation_data = pimdmooc.read_ipi_output(\"0-getting_started/simulation.out\")"
   ]
  },
  {
   "cell_type": "code",
   "execution_count": 10,
   "metadata": {},
   "outputs": [
    {
     "data": {
      "text/plain": [
       "Text(0, 0.5, 'temperature / K')"
      ]
     },
     "execution_count": 10,
     "metadata": {},
     "output_type": "execute_result"
    },
    {
     "data": {
      "image/png": "[encoded data removed]",
      "text/plain": [
       "<Figure size 640x480 with 1 Axes>"
      ]
     },
     "metadata": {},
     "output_type": "display_data"
    }
   ],
   "source": [
    "plt.plot(simulation_data[\"time\"], simulation_data[\"temperature\"])\n",
    "plt.xlabel(\"time / ps\"); plt.ylabel(\"temperature / K\")"
   ]
  },
  {
   "cell_type": "markdown",
   "metadata": {},
   "source": [
    "Atomic positions and properties are dumped to files based on the settings given in a `<trajectory>` tag. \n",
    "Here we use a combined visualizer called `chemiscope`, but obviously you can use alternative tools for this purpose."
   ]
  },
  {
   "cell_type": "code",
   "execution_count": 11,
   "metadata": {},
   "outputs": [],
   "source": [
    "trajectory_data = pimdmooc.read_ipi_xyz(\"0-getting_started/simulation.pos_0.xyz\")"
   ]
  },
  {
   "cell_type": "markdown",
   "metadata": {},
   "source": [
    "`chemiscope` allows you to visualize simultaneously properties and configurations"
   ]
  },
  {
   "cell_type": "code",
   "execution_count": 12,
   "metadata": {},
   "outputs": [
    {
     "data": {
      "application/vnd.jupyter.widget-view+json": {
       "model_id": "b02a18f4fb6742afbb860a51b8bbe389",
       "version_major": 2,
       "version_minor": 0
      },
      "text/plain": [
       "ChemiscopeWidget(value='{\"meta\": {\"name\": \" \"}, \"settings\": {\"structure\": [{\"keepOrientation\": true, \"playback…"
      ]
     },
     "execution_count": 12,
     "metadata": {},
     "output_type": "execute_result"
    }
   ],
   "source": [
    "chemiscope.show(frames=trajectory_data, \n",
    "                properties=dict(\n",
    "                    time=simulation_data[\"time\"][::10], \n",
    "                    temperature=simulation_data[\"temperature\"][::10],\n",
    "                    potential=simulation_data[\"potential\"][::10]\n",
    "                               ),\n",
    "                settings = {'structure': [{ 'keepOrientation': True, 'playbackDelay': 10}]}\n",
    "               )"
   ]
  },
  {
   "cell_type": "markdown",
   "metadata": {},
   "source": [
    "given that sometimes it is not trivial to set up a jupyter widget to load properly, if you have problems opening the visualization above you can also export the visualization as a .json file, that can be loaded on [chemiscope.org](https://chemiscope.org)"
   ]
  },
  {
   "cell_type": "code",
   "execution_count": 13,
   "metadata": {},
   "outputs": [],
   "source": [
    "chemiscope.write_input(\"0-example.json.gz\",\n",
    "                frames=trajectory_data, \n",
    "                properties=dict(\n",
    "                    time=simulation_data[\"time\"][::10], \n",
    "                    temperature=simulation_data[\"temperature\"][::10],\n",
    "                    potential=simulation_data[\"potential\"][::10]\n",
    "                               )\n",
    "               )"
   ]
  },
  {
   "cell_type": "code",
   "execution_count": null,
   "metadata": {},
   "outputs": [],
   "source": []
  },
  {
   "cell_type": "code",
   "execution_count": null,
   "metadata": {},
   "outputs": [],
   "source": []
  }
 ],
 "metadata": {
  "kernelspec": {
   "display_name": "Python",
   "language": "python",
   "name": "python3"
  },
  "language_info": {
   "codemirror_mode": {
    "name": "ipython",
    "version": 3
   },
   "file_extension": ".py",
   "mimetype": "text/x-python",
   "name": "python",
   "nbconvert_exporter": "python",
   "pygments_lexer": "ipython3",
   "version": "3.8.10"
  },
  "toc": {
   "base_numbering": 1,
   "nav_menu": {},
   "number_sections": true,
   "sideBar": true,
   "skip_h1_title": false,
   "title_cell": "Table of Contents",
   "title_sidebar": "Contents",
   "toc_cell": false,
   "toc_position": {},
   "toc_section_display": true,
   "toc_window_display": false
  }
 },
 "nbformat": 4,
 "nbformat_minor": 4
}
