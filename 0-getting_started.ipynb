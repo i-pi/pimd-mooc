{
 "cells": [
  {
   "cell_type": "markdown",
   "metadata": {},
   "source": [
    "# Getting started"
   ]
  },
  {
   "cell_type": "markdown",
   "metadata": {},
   "source": [
    "This notebook provides an introduction to the tools that will be used for the _hands-on_ sessions of the MOOC \"Path Integrals in Atomistic Modeling\". Please follow the instructions to make sure that you have all the necessary components in place. "
   ]
  },
  {
   "cell_type": "markdown",
   "metadata": {},
   "source": [
    "## Installation"
   ]
  },
  {
   "cell_type": "markdown",
   "metadata": {},
   "source": [
    "The notebooks associated with this course rely on some basic Python packages. If executing the following cell returns any errors, you should install the corresponding packages"
   ]
  },
  {
   "cell_type": "code",
   "execution_count": null,
   "metadata": {},
   "outputs": [],
   "source": [
    "import numpy as np\n",
    "import matplotlib.pyplot as plt\n",
    "import pimdmooc\n",
    "pimdmooc.add_ipi_paths()"
   ]
  },
  {
   "cell_type": "markdown",
   "metadata": {},
   "source": [
    "You should also have [i-PI](https://ipi-code.org) installed, and accessible from the path. This might require some more effort: if everything is configured correctly the following cell should return a prompt, and a message stating that \n",
    "\n",
    "```Simulation has already run for total_steps, will not even start. Modify total_steps or step counter to continue.```"
   ]
  },
  {
   "cell_type": "code",
   "execution_count": null,
   "metadata": {},
   "outputs": [],
   "source": [
    "!i-pi 0-getting_started/do_nothing.xml"
   ]
  },
  {
   "cell_type": "markdown",
   "metadata": {},
   "source": [
    "... and the following cell should generate a help string explaining the syntax for running `i-pi-driver`"
   ]
  },
  {
   "cell_type": "code",
   "execution_count": null,
   "metadata": {},
   "outputs": [],
   "source": [
    "!i-pi-driver"
   ]
  },
  {
   "cell_type": "markdown",
   "metadata": {},
   "source": [
    "If you get an error stating that the command has not been found, please open a terminal and follow these instructions.\n",
    "\n",
    "_NB: this will install i-PI in your home folder, which will make these notebooks work out-of-the-box. if you know what you are doing, you can personalize the installation as long as `i-pi` and `i-pi-driver` are accessible from the path_\n",
    "\n",
    "1. clone the i-PI repository\n",
    "\n",
    "``` \n",
    "$ git clone https://github.com/i-pi/i-pi.git \n",
    "```\n",
    "\n",
    "2. add the i-pi folder to the default path\n",
    "\n",
    "```\n",
    "$ echo \". ~/i-pi/env.sh\" >> .bashrc\n",
    "```\n",
    "\n",
    "3. compile the driver files \n",
    "\n",
    "```\n",
    "$ cd i-pi/drivers/f90/ & make\n",
    "```\n",
    "\n",
    "4. try to execute again the cells above"
   ]
  },
  {
   "cell_type": "markdown",
   "metadata": {},
   "source": [
    "## Running i-PI"
   ]
  },
  {
   "cell_type": "markdown",
   "metadata": {},
   "source": [
    "i-PI functions following a client-server protocol, in which i-PI acts as the server, executing advanced MD simulations, while the evaluation of energies and forces is delegated to an external code, that acts as the client\n",
    "\n",
    "![a scheme of the i-PI client-server model](figures/ipi-scheme.png)\n",
    "\n",
    "Thus, to run i-PI you need to launch (at least) two processes: `i-pi` and a driver -- here we use a minimalistic FORTRAN tool that can compute energy and forces according to a number of simple potential energy models. \n",
    "\n",
    "1. open *two* terminals\n",
    "2. in the first terminal launch `i-pi`\n",
    "\n",
    "```\n",
    "$ cd pimd-mooc/0-getting_started\n",
    "$ i-pi input.xml\n",
    "```\n",
    "\n",
    "3. in the second terminal, launch the driver\n",
    "\n",
    "```\n",
    "$ i-pi-driver -u -h driver -m pswater -v\n",
    "```"
   ]
  },
  {
   "cell_type": "markdown",
   "metadata": {},
   "source": [
    "Both programs run in verbose mode, so you can see the communication logs between the two. \n",
    "\n",
    "```\n",
    " @SOCKET:   Client asked for connection from . Now hand-shaking.\n",
    " @SOCKET:   Handshaking was successful. Added to the client list.\n",
    " @SOCKET: 21/09/17-15:49:35 Assigning [ none] request id    0 to client with last-id None (  0/  1 : )\n",
    " @SOCKET: 21/09/17-15:49:35 Assigning [match] request id    0 to client with last-id    0 (  0/  1 : )\n",
    " # Average timings at MD step       0. t/step: 4.08595e-02\n",
    " @SOCKET: 21/09/17-15:49:35 Assigning [match] request id    0 to client with last-id    0 (  0/  1 : )\n",
    " # Average timings at MD step       1. t/step: 3.96178e-02\n",
    " @SOCKET: 21/09/17-15:49:35 Assigning [match] request id    0 to client with last-id    0 (  0/  1 : )\n",
    "```\n",
    "\n",
    "and \n",
    "\n",
    "```\n",
    "  Message from server: STATUS\n",
    "  Message from server: POSDATA\n",
    "  Message from server: STATUS\n",
    "  Message from server: GETFORCE\n",
    "  Message from server: STATUS\n",
    "  Message from server: STATUS\n",
    "  Message from server: POSDATA\n",
    "  Message from server: STATUS\n",
    "  Message from server: GETFORCE\n",
    "  Message from server: STATUS\n",
    "```"
   ]
  },
  {
   "cell_type": "code",
   "execution_count": null,
   "metadata": {},
   "outputs": [],
   "source": []
  },
  {
   "cell_type": "code",
   "execution_count": null,
   "metadata": {},
   "outputs": [],
   "source": [
    "! cd 0-getting_started/ && i-pi input.xml & "
   ]
  },
  {
   "cell_type": "code",
   "execution_count": null,
   "metadata": {},
   "outputs": [],
   "source": []
  }
 ],
 "metadata": {
  "kernelspec": {
   "display_name": "Python 3",
   "language": "python",
   "name": "python3"
  },
  "language_info": {
   "codemirror_mode": {
    "name": "ipython",
    "version": 3
   },
   "file_extension": ".py",
   "mimetype": "text/x-python",
   "name": "python",
   "nbconvert_exporter": "python",
   "pygments_lexer": "ipython3",
   "version": "3.8.10"
  },
  "toc": {
   "base_numbering": 1,
   "nav_menu": {},
   "number_sections": true,
   "sideBar": true,
   "skip_h1_title": false,
   "title_cell": "Table of Contents",
   "title_sidebar": "Contents",
   "toc_cell": false,
   "toc_position": {},
   "toc_section_display": true,
   "toc_window_display": false
  }
 },
 "nbformat": 4,
 "nbformat_minor": 4
}
