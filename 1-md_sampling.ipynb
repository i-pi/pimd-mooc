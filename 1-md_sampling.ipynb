{
 "cells": [
  {
   "cell_type": "markdown",
   "metadata": {},
   "source": [
    "<p style=\"font-size:32px; font-weight: bolder; text-align: center\"> Molecular dynamics and sampling </p>"
   ]
  },
  {
   "cell_type": "markdown",
   "metadata": {},
   "source": [
    "This notebook provides a hands-on counterpart to the \"Molecular dynamics and sampling\" lecture for the MOOC \"Path Integrals in Atomistic Modeling\". If you haven't done so already, check the [getting started](0-getting_started.ipynb) notebook to make sure that the software infrastructure is up and running. \n",
    "\n",
    "The different sections in this notebook match the parts this lecture is divided into:\n",
    "\n",
    "1. [Thermodynamics and phase-space sampling](#thermo-and-sampling)\n",
    "2. [Molecular dynamics and integrators](#integrators)\n",
    "3. [Efficiency of sampling](#sampling-efficiency)\n",
    "4. [Langevin dynamics](#langevin)"
   ]
  },
  {
   "cell_type": "code",
   "execution_count": null,
   "metadata": {},
   "outputs": [],
   "source": [
    "import numpy as np\n",
    "import matplotlib.pyplot as plt\n",
    "import ase, ase.io\n",
    "import chemiscope\n",
    "import pimdmooc\n",
    "pimdmooc.add_ipi_paths()"
   ]
  },
  {
   "cell_type": "markdown",
   "metadata": {},
   "source": [
    "<a id=\"thermo-and-sampling\"> </a>"
   ]
  },
  {
   "cell_type": "markdown",
   "metadata": {},
   "source": [
    "# Thermodynamics and phase-space sampling"
   ]
  },
  {
   "cell_type": "markdown",
   "metadata": {},
   "source": [
    "We consider a (classical) harmonic oscillator with frequency $\\omega$ and unit mass, in the constant-temperature ensemble at inverse temperature $\\beta$"
   ]
  },
  {
   "cell_type": "code",
   "execution_count": null,
   "metadata": {},
   "outputs": [],
   "source": [
    "def pot_sho(q, omega=1):\n",
    "    \"\"\" The potential for a simple harmonic oscillator with frequency omega and unit mass\"\"\"\n",
    "    return omega**2*q**2/2\n",
    "def kin_sho(p):\n",
    "    \"\"\" The kinetic energy for a particle with unit mass\"\"\"\n",
    "    return p**2/2\n",
    "def ham_sho(p, q, omega=1):\n",
    "    \"\"\" The Hamiltonian for the simple harmonic oscillator \"\"\"\n",
    "    return kin_sho(p) + pot_sho(q, omega)"
   ]
  },
  {
   "cell_type": "code",
   "execution_count": null,
   "metadata": {},
   "outputs": [],
   "source": [
    "# defaults: beta=1; omega0=2\n",
    "beta = 1\n",
    "omega0 = 2"
   ]
  },
  {
   "cell_type": "markdown",
   "metadata": {},
   "source": [
    "## Integration on a grid"
   ]
  },
  {
   "cell_type": "markdown",
   "metadata": {},
   "source": [
    "First, we compute the partition function and observables using explicit integration on a grid - using the simplest rectangle integration"
   ]
  },
  {
   "cell_type": "code",
   "execution_count": null,
   "metadata": {},
   "outputs": [],
   "source": [
    "# defaults: ngrid=16\n",
    "ngrid = 16\n",
    "\n",
    "pgrid = np.linspace(-10,10,ngrid)\n",
    "dp = pgrid[1]-pgrid[0]\n",
    "\n",
    "qgrid = np.linspace(-10,10,ngrid)\n",
    "dq = qgrid[1]-qgrid[0]\n",
    "\n",
    "pqgrid = np.meshgrid(pgrid, qgrid)"
   ]
  },
  {
   "cell_type": "code",
   "execution_count": null,
   "metadata": {},
   "outputs": [],
   "source": [
    "ham_grid = ham_sho(pqgrid[0], pqgrid[1], omega=omega0)"
   ]
  },
  {
   "cell_type": "code",
   "execution_count": null,
   "metadata": {},
   "outputs": [],
   "source": [
    "Z = np.exp(-ham_grid*beta).sum()*dp*dq\n",
    "print(\"Partition function: \", Z)"
   ]
  },
  {
   "cell_type": "markdown",
   "metadata": {},
   "source": [
    "note that the partition function (and the probability) can be factorized"
   ]
  },
  {
   "cell_type": "code",
   "execution_count": null,
   "metadata": {},
   "outputs": [],
   "source": [
    "pot_grid = pot_sho(qgrid, omega=omega0)\n",
    "kin_grid = kin_sho(pgrid)\n",
    "Zp = np.exp(-kin_grid*beta).sum()*dp\n",
    "Zq = np.exp(-pot_grid*beta).sum()*dq\n",
    "Z - Zp*Zq"
   ]
  },
  {
   "cell_type": "markdown",
   "metadata": {},
   "source": [
    "The mean potential and kinetic energy can be computed as a weighted mean, and again one can equally well compute it on just the relevant variables"
   ]
  },
  {
   "cell_type": "code",
   "execution_count": null,
   "metadata": {},
   "outputs": [],
   "source": [
    "pot_mean = (pot_sho(pqgrid[1], omega=omega0)* np.exp(-ham_grid*beta)).sum()*dp*dq/Z\n",
    "print(\"Average potential: \", pot_mean)\n",
    "\n",
    "kin_mean = (kin_sho(pqgrid[0])* np.exp(-ham_grid*beta)).sum()*dp*dq/Z\n",
    "print(\"Average kinetic:   \", kin_mean)"
   ]
  },
  {
   "cell_type": "code",
   "execution_count": null,
   "metadata": {},
   "outputs": [],
   "source": [
    "pot_mean_q = (pot_grid*np.exp(-pot_sho(qgrid, omega=omega0)*beta)).sum()*dq/Zq\n",
    "pot_mean - pot_mean_q"
   ]
  },
  {
   "cell_type": "code",
   "execution_count": null,
   "metadata": {},
   "outputs": [],
   "source": [
    "kin_mean_p = (kin_grid*np.exp(-kin_sho(pgrid)*beta)).sum()*dp/Zp\n",
    "kin_mean - kin_mean_p"
   ]
  },
  {
   "cell_type": "markdown",
   "metadata": {},
   "source": [
    "<p style=\"color:blue; font-weight:bold\"> What is the expected value of $Z$, $\\langle V \\rangle$, $\\langle K \\rangle$? Experiment with different `ngrid` parameters. How many grid points you need to converge the values to roughly 1%. </p>"
   ]
  },
  {
   "cell_type": "markdown",
   "metadata": {},
   "source": [
    "## Stochastic integration"
   ]
  },
  {
   "cell_type": "markdown",
   "metadata": {},
   "source": [
    "Naively, we can generate uniform random samples over a large interval, and compute the average by Monte Carlo integration"
   ]
  },
  {
   "cell_type": "code",
   "execution_count": null,
   "metadata": {},
   "outputs": [],
   "source": [
    "# defaults: nmc=1000\n",
    "nmc = 1000"
   ]
  },
  {
   "cell_type": "code",
   "execution_count": null,
   "metadata": {},
   "outputs": [],
   "source": [
    "qmc = np.random.uniform(-10,10,size=(nmc))"
   ]
  },
  {
   "cell_type": "code",
   "execution_count": null,
   "metadata": {},
   "outputs": [],
   "source": [
    "pot_mc = pot_sho(qmc, omega=omega0)\n",
    "prob_mc = np.exp(-pot_mc * beta)\n",
    "pot_mean = (prob_mc*pot_mc).mean() / prob_mc.mean()\n",
    "print(\"Average potential: \", pot_mean)"
   ]
  },
  {
   "cell_type": "markdown",
   "metadata": {},
   "source": [
    "Most of the samples are \"wasted\" over low-probability regions"
   ]
  },
  {
   "cell_type": "code",
   "execution_count": null,
   "metadata": {},
   "outputs": [],
   "source": [
    "plt.hist(prob_mc, bins=100)\n",
    "plt.xlabel(\"weight\"); plt.ylabel(\"counts\");"
   ]
  },
  {
   "cell_type": "markdown",
   "metadata": {},
   "source": [
    "<p style=\"color:blue; font-weight:bold\">Repeat the calculation with different numbers of random samples, to get a feeling for the statistical uncertainty and the convergence behavior. What would happen if you reduced the range of the grid to a narrower region around $0$?</p>\n",
    "\n",
    "You could also rather easily wrap the generation and evaluation in a function to compute more quantitatively the uncertainty over multiple executions."
   ]
  },
  {
   "cell_type": "markdown",
   "metadata": {},
   "source": [
    "## Importance sampling"
   ]
  },
  {
   "cell_type": "markdown",
   "metadata": {},
   "source": [
    "To avoid wasting samples on low-probability regions, we can generate a sequence of configurations that are distributed according to the target probability. \n",
    "This uses a Metropolis Monte Carlo scheme, which is not explained in the course. The [original publication](http://doi.org//10.1063/1.1699114) is a classic, and very accessible.\n",
    "\n",
    "In short, the algorithm works by first _proposing_ a change to the configuration, in a way that is symmetric $u(q_0 \\rightarrow q_1) = u(q_1\\rightarrow q_0)$. Here we take a random step between $-\\Delta q$ and $\\Delta q$. \n",
    "\n",
    "The probabilities in the initial and final state are then compared, and an _acceptance_ criterion is applied to actually update the position, or to keep the system in $q_0$. The overall probability of making a move is the product of the proposal and acceptance probabilities, $p(q_0\\rightarrow q_1) = u(q_0\\rightarrow q_1) a(q_0\\rightarrow q_1)$.\n",
    "The criterion is designed so satisfy the detailed-balance condition $P(q_0) p(q_0\\rightarrow q_1) = P(q_1) p(q_1\\rightarrow q_0)$."
   ]
  },
  {
   "cell_type": "code",
   "execution_count": null,
   "metadata": {},
   "outputs": [],
   "source": [
    "def metropolis_step(q0, step=1):\n",
    "    \"\"\"\"Performs one step in a Monte Carlo procedure, following the Metropolis scheme, cf.\n",
    "    N. Metropolis, A. W. Rosenbluth, M. N. Rosenbluth, A. H. Teller, and E. Teller, \n",
    "    \"Equation of State Calculations by Fast Computing Machines,\" \n",
    "    Journal of Chemical Physics 21(6), 1087–1092 (1953).\n",
    "    \"\"\"\n",
    "    \n",
    "    # NB: this implementation recomputes the potential at each step, which is \n",
    "    # very wasteful - potential could be stored and reused between steps\n",
    "    pot0 = pot_sho(q0, omega=omega0)\n",
    "    \n",
    "    # generates a random displacement (with symmetric probability)\n",
    "    q1 = q0 + np.random.uniform(-1,1)*step\n",
    "        \n",
    "    pot1 = pot_sho(q1, omega=omega0)\n",
    "    \n",
    "    # computes the ratio of initial and final probabilities        \n",
    "    pratio = np.exp((pot0-pot1)*beta)\n",
    "    \n",
    "    # accepts or rejects the move to enforce a detailed balance condition\n",
    "    if (pratio > np.random.uniform(0,1)):\n",
    "        return q1\n",
    "    else:\n",
    "        return q0"
   ]
  },
  {
   "cell_type": "code",
   "execution_count": null,
   "metadata": {},
   "outputs": [],
   "source": [
    "# defaults: q=0, nstep=1000, mcstep=1\n",
    "q = 0\n",
    "nstep = 1000\n",
    "mcstep = 1\n",
    "\n",
    "traj_q = np.zeros(nstep)\n",
    "for i in range(nstep):    \n",
    "    q = metropolis_step(q, step=mcstep)\n",
    "    traj_q[i] = q"
   ]
  },
  {
   "cell_type": "markdown",
   "metadata": {},
   "source": [
    "The position fluctuates around equilibrium, and is distributed according to $P(q)$. Note that strictly speaking one should discard the first few steps as they are needed to reach equilibrium.   "
   ]
  },
  {
   "cell_type": "code",
   "execution_count": null,
   "metadata": {},
   "outputs": [],
   "source": [
    "plt.plot(traj_q)\n",
    "plt.xlabel(\"step\"); plt.ylabel(\"q / a.u.\");"
   ]
  },
  {
   "cell_type": "code",
   "execution_count": null,
   "metadata": {},
   "outputs": [],
   "source": [
    "plt.hist(traj_q[10:], bins=100)\n",
    "plt.xlabel(\"weight\")\n",
    "plt.ylabel(\"counts\")"
   ]
  },
  {
   "cell_type": "code",
   "execution_count": null,
   "metadata": {},
   "outputs": [],
   "source": [
    "pot_mean = pot_sho(traj_q, omega = omega0).mean()\n",
    "print(\"Average potential: \", pot_mean)"
   ]
  },
  {
   "cell_type": "markdown",
   "metadata": {},
   "source": [
    "<p style=\"color:blue; font-weight:bold\">\n",
    "Change the magnitude of the step (variable `mcstep`) to 0.01 and to 100. \n",
    "What consideration can you make on the efficiency of the probability sampling process?\n",
    "</p>\n",
    "\n",
    "This topic will be investigated further in [section 3](#sampling-efficiency)"
   ]
  },
  {
   "cell_type": "markdown",
   "metadata": {},
   "source": [
    "<a id=\"integrators\"></a>"
   ]
  },
  {
   "cell_type": "markdown",
   "metadata": {},
   "source": [
    "# Molecular dynamics and integrators"
   ]
  },
  {
   "cell_type": "markdown",
   "metadata": {},
   "source": [
    "This section requires use of i-PI, so make sure you have it installed and have familiarized yourself with how to run it in the [getting started](0-getting_started.ipynb) section. \n",
    "\n",
    "Here we will modify an existing i-PI input to run constant-energy simulations for a small simulation of liquid water, based on the q-TIP4P/f forcefield ([original paper](http://doi.org/10.1063/1.3167790)), run short trajectories and inspect the output.  "
   ]
  },
  {
   "cell_type": "markdown",
   "metadata": {},
   "source": [
    "We will first go to the appropriate folder, create a copy of the template and edit it.  You will need to open a terminal and execute\n",
    "\n",
    "```\n",
    "$ cd pimd-mooc/1-getting_started\n",
    "$ cp template_integrator.xml input.xml\n",
    "```\n",
    "\n",
    "Edit the `input.xml` file. You can use `vi` in the terminal, or open the file with the file editing interface of Jupyter/Jupyterlab. \n",
    "\n",
    "First, we are going to set up a rather \"by the book\" simulation - a conservative time step for liquid water is of the order of 0.5 fs. Look for the time step specification and edit it so it reads `<timestep units='femtosecond'> 0.5  </timestep>`. You should also set the output prefix to a memorable name - it is recommended to use `<output prefix='md-ts_0.5'>` to be compatible with the postprocessing in this notebook.\n",
    "\n",
    "Then launch i-PI and the driver - either using two terminals or putting i-PI in the background.\n",
    "\n",
    "```\n",
    "$ i-pi input.xml &> log &\n",
    "$ i-pi-driver -u -h driver -m qtip4pf \n",
    "```"
   ]
  },
  {
   "cell_type": "markdown",
   "metadata": {},
   "source": [
    "we can load the output and plot it. One sees how potential and kinetic energy fluctuate wildly (over an energy scale of a significant fraction of a Hartree, while "
   ]
  },
  {
   "cell_type": "code",
   "execution_count": null,
   "metadata": {},
   "outputs": [],
   "source": [
    "ts_05 = pimdmooc.read_ipi_output('1-md_sampling/md-ts_0.5.out')"
   ]
  },
  {
   "cell_type": "code",
   "execution_count": null,
   "metadata": {},
   "outputs": [],
   "source": [
    "plt.plot(ts_05[\"time\"], ts_05[\"potential\"], label=\"V\")\n",
    "plt.plot(ts_05[\"time\"], ts_05[\"conserved\"], label=\"H\")\n",
    "plt.plot(ts_05[\"time\"], ts_05[\"kinetic_md\"], label=\"K\")\n",
    "plt.xlabel(\"time / ps\"); plt.ylabel(\"energy / a.u.\"); \n",
    "plt.legend()"
   ]
  },
  {
   "cell_type": "markdown",
   "metadata": {},
   "source": [
    "Now modify `input.xml` to run a simulation with timestep of 1.0 fs, 1.5 fs and 2.0 fs, running each time a separate simulation; make sure to also change the output `prefix` accordingly - use e.g. `'md-ts_2.0'` as format, or adjust the plotting cells below to reflect your naming scheme. \n",
    "\n",
    "_NB: wait for each calculation to be finished before launching another one - otherwise, you will have to give different names to each of the socket files_"
   ]
  },
  {
   "cell_type": "markdown",
   "metadata": {},
   "source": [
    "After running the simulations, we can inspect the behavior of the conserved quantity to check for the accuracy of integration"
   ]
  },
  {
   "cell_type": "code",
   "execution_count": null,
   "metadata": {},
   "outputs": [],
   "source": [
    "ts_10 = pimdmooc.read_ipi_output('1-md_sampling/md-ts_1.0.out')\n",
    "ts_15 = pimdmooc.read_ipi_output('1-md_sampling/md-ts_1.5.out')\n",
    "ts_20 = pimdmooc.read_ipi_output('1-md_sampling/md-ts_2.0.out')"
   ]
  },
  {
   "cell_type": "code",
   "execution_count": null,
   "metadata": {},
   "outputs": [],
   "source": [
    "plt.plot(ts_20[\"time\"], ts_20[\"conserved\"], label=r\"$\\Delta t = 2.0$ fs\")\n",
    "plt.plot(ts_15[\"time\"], ts_15[\"conserved\"], label=r\"$\\Delta t = 1.5$ fs\")\n",
    "plt.plot(ts_10[\"time\"], ts_10[\"conserved\"], label=r\"$\\Delta t = 1.0$ fs\")\n",
    "plt.plot(ts_05[\"time\"], ts_05[\"conserved\"], label=r\"$\\Delta t = 0.5$ fs\")\n",
    "plt.xlabel(\"time / ps\"); plt.ylabel(\"energy / a.u.\"); \n",
    "plt.ylim(-0.04,-0.02)\n",
    "plt.legend()"
   ]
  },
  {
   "cell_type": "markdown",
   "metadata": {},
   "source": [
    "<p style=\"color:blue; font-weight:bold\">\n",
    "Note the sharp change in behavior of the conserved quantity. Plot also separately the potential and the kinetic energy. Is the dependence of the curves on $\\Delta t$ equally telling?\n",
    "</p>"
   ]
  },
  {
   "cell_type": "markdown",
   "metadata": {},
   "source": [
    "You can also spot the most dramatic problems by plotting the trajectories. Many MD problems manifest themselves in quite dramatic ways when looking at the motion of the atoms!"
   ]
  },
  {
   "cell_type": "code",
   "execution_count": null,
   "metadata": {},
   "outputs": [],
   "source": [
    "trajectory_05 = pimdmooc.read_ipi_xyz(\"1-md_sampling/md-ts_0.5.pos_0.xyz\")"
   ]
  },
  {
   "cell_type": "code",
   "execution_count": null,
   "metadata": {},
   "outputs": [],
   "source": [
    "chemiscope.show(frames = trajectory_05, properties = dict(\n",
    "   time = ts_05[\"time\"][::10],\n",
    "   potential = ts_05[\"potential\"][::10],\n",
    "   conserved = ts_05[\"conserved\"][::10]\n",
    "))"
   ]
  },
  {
   "cell_type": "markdown",
   "metadata": {},
   "source": [
    "_NB: molecules appear to be spread all over the place because they can move outside of the periodic boundaries (show the unit cell by selecting the appropriate option in the visualization menu)_"
   ]
  },
  {
   "cell_type": "code",
   "execution_count": null,
   "metadata": {},
   "outputs": [],
   "source": [
    "# try to fold the atoms back into the supercell, and replot above\n",
    "for f in trajectory_05:\n",
    "    f.wrap(pbc=[1,1,1])    "
   ]
  },
  {
   "cell_type": "markdown",
   "metadata": {},
   "source": [
    "for the large timestep frames, the positions quickly go into NaN territory. you might be able to see the first stages of the explosion in the last valid frame in the trajectory"
   ]
  },
  {
   "cell_type": "code",
   "execution_count": null,
   "metadata": {},
   "outputs": [],
   "source": [
    "trajectory_20 = pimdmooc.read_ipi_xyz(\"1-md_sampling/md-ts_2.0.pos_0.xyz\")\n",
    "n_ok = 0\n",
    "for f in trajectory_20:\n",
    "    if not np.isnan(f.positions.sum()):\n",
    "        n_ok+=1"
   ]
  },
  {
   "cell_type": "code",
   "execution_count": null,
   "metadata": {},
   "outputs": [],
   "source": [
    "chemiscope.show(frames = trajectory_20[:n_ok], properties = dict(\n",
    "   time = ts_20[\"time\"][::10][:n_ok],\n",
    "   potential = ts_20[\"potential\"][::10][:n_ok],\n",
    "   conserved = ts_20[\"conserved\"][::10][:n_ok]\n",
    "))"
   ]
  },
  {
   "cell_type": "markdown",
   "metadata": {},
   "source": [
    "<p style=\"color:blue; font-weight:bold\">\n",
    "What would be an optimal time step for your simulation? What considerations would you make?\n",
    "</p>"
   ]
  },
  {
   "cell_type": "markdown",
   "metadata": {},
   "source": [
    "<a id=\"sampling-efficiency\"></a>"
   ]
  },
  {
   "cell_type": "markdown",
   "metadata": {},
   "source": [
    "# Efficiency of sampling"
   ]
  },
  {
   "cell_type": "markdown",
   "metadata": {},
   "source": [
    "We now consider more quantitatively the convergence of averages with Monte Carlo sampling. You need the definitions in [section 1](#thermo-and-sampling) so if you haven't executed that section yet, go back and run through the cells once."
   ]
  },
  {
   "cell_type": "code",
   "execution_count": null,
   "metadata": {},
   "outputs": [],
   "source": [
    "def mc_traj(nstep, mcstep, q0=0):\n",
    "    q=q0\n",
    "    traj_q = np.zeros(nstep)\n",
    "    for i in range(nstep):    \n",
    "        q = metropolis_step(q, step=mcstep)\n",
    "        traj_q[i] = q\n",
    "    return traj_q"
   ]
  },
  {
   "cell_type": "markdown",
   "metadata": {},
   "source": [
    "We compute the accuracy of sampling for $\\langle V \\rangle$, for which we know that the exact value has to be $1/2\\beta$.\n",
    "We repeat many times independent trajectories of the same length, and store the average potential along each trajectory."
   ]
  },
  {
   "cell_type": "code",
   "execution_count": null,
   "metadata": {},
   "outputs": [],
   "source": [
    "# defaults: ntraj=100; nsteps=10000; mcstep=0.05\n",
    "ntraj = 100\n",
    "nsteps = 10000\n",
    "mcstep = 10"
   ]
  },
  {
   "cell_type": "code",
   "execution_count": null,
   "metadata": {},
   "outputs": [],
   "source": [
    "vmean = np.zeros(ntraj)\n",
    "for i in range(ntraj):\n",
    "    traj_q = mc_traj(nsteps, mcstep, q0=0)\n",
    "    vmean[i] =  pot_sho(traj_q, omega=omega0).mean()"
   ]
  },
  {
   "cell_type": "markdown",
   "metadata": {},
   "source": [
    "The error _of one trajectory_ can be computed as the standard deviation of the means. "
   ]
  },
  {
   "cell_type": "code",
   "execution_count": null,
   "metadata": {},
   "outputs": [],
   "source": [
    "print(\"Best estimate: <V>=%8.4f ± %8.4f\" % (vmean.mean(), vmean.std()) )"
   ]
  },
  {
   "cell_type": "markdown",
   "metadata": {},
   "source": [
    "... this is much larger than if we used the textbook formula for the standard error in the mean of a trajectory with `nsteps` samples"
   ]
  },
  {
   "cell_type": "code",
   "execution_count": null,
   "metadata": {},
   "outputs": [],
   "source": [
    "# defaults: nsteps=100000; mcstep=0.05\n",
    "nsteps = 100000\n",
    "mcstep = 0.05\n",
    "traj_v = pot_sho(mc_traj(nsteps, mcstep, q0=0), omega=omega0)\n",
    "print(\"Naive estimate:  <V>=%8.4f ± %8.4f\" % (traj_v.mean(), traj_v.std()/np.sqrt(nsteps)) )"
   ]
  },
  {
   "cell_type": "markdown",
   "metadata": {},
   "source": [
    "Now we compute the autocorrelation function and use it to get a better estimate of the error on a single trajectory"
   ]
  },
  {
   "cell_type": "code",
   "execution_count": null,
   "metadata": {},
   "outputs": [],
   "source": [
    "def autocorrelate(x, xbar=None):\n",
    "    \"\"\" Computes the autocorrelation function of a trajectory. \n",
    "    It can be given the exact average as a parameter\"\"\"\n",
    "    if xbar is None:\n",
    "        xbar = x.mean()\n",
    "    acf = np.correlate(x - xbar, x-xbar, mode='same')/((x-xbar)**2).sum()\n",
    "    return acf[len(x)//2:]"
   ]
  },
  {
   "cell_type": "markdown",
   "metadata": {},
   "source": [
    "we use the known analytical model of $\\langle V \\rangle$"
   ]
  },
  {
   "cell_type": "code",
   "execution_count": null,
   "metadata": {},
   "outputs": [],
   "source": [
    "c_vv = autocorrelate(traj_v, 0.5)"
   ]
  },
  {
   "cell_type": "code",
   "execution_count": null,
   "metadata": {},
   "outputs": [],
   "source": [
    "plt.plot(c_vv)\n",
    "plt.ylim(-0.1,1.1);\n",
    "plt.xlabel(r\"$\\Delta$ steps\"); plt.ylabel(r\"$c_{VV}$\")"
   ]
  },
  {
   "cell_type": "markdown",
   "metadata": {},
   "source": [
    "Compute the autocorrelation time and use it to correct the standard error in the mean to account for the correlation between samples"
   ]
  },
  {
   "cell_type": "code",
   "execution_count": null,
   "metadata": {},
   "outputs": [],
   "source": [
    "tau_v = 2*c_vv[:nsteps//10].sum()"
   ]
  },
  {
   "cell_type": "code",
   "execution_count": null,
   "metadata": {},
   "outputs": [],
   "source": [
    "print(\"Autocorrelation time: %8.4f steps \" %(tau_v))\n",
    "print(\"From autocorrelation estimate:  <V>=%8.4f ± %8.4f\" % (traj_v.mean(), traj_v.std()/np.sqrt(nsteps/tau_v)) )"
   ]
  },
  {
   "cell_type": "markdown",
   "metadata": {},
   "source": [
    "<p style=\"color:blue; font-weight:bold\">\n",
    "Repeat calculations for different values of `mcstep` between 0.01 and 1000. Keep note of the error and make a plot of $\\epsilon_V(\\Delta q)$.\n",
    "</p>"
   ]
  },
  {
   "cell_type": "code",
   "execution_count": null,
   "metadata": {},
   "outputs": [],
   "source": [
    "MC = [0.01, 0.1, 1, 10, 100, 1000]\n",
    "EV = [  ]  # enter the values you obtain here \n",
    "plt.loglog(MC, EV)\n",
    "plt.xlabel(r\"$\\Delta q$ / a.u.\"); plt.ylabel(r\"$\\epsilon_V$ / a.u.\")"
   ]
  },
  {
   "cell_type": "markdown",
   "metadata": {},
   "source": [
    "_NB: particularly when trajectories are not super-converged, using the mean from the trajectory to estimate the offset in computing $c_{VV}$ leads to a gross underestimation of the autocorrelation time and the error_"
   ]
  },
  {
   "cell_type": "code",
   "execution_count": null,
   "metadata": {},
   "outputs": [],
   "source": [
    "c_vv_trajmean = autocorrelate(traj_v, None)\n",
    "tau_v_trajmean = 2*c_vv_trajmean[:nsteps//10].sum()"
   ]
  },
  {
   "cell_type": "code",
   "execution_count": null,
   "metadata": {},
   "outputs": [],
   "source": [
    "plt.plot(c_vv, label=r\"exact $\\langle V\\rangle$\")\n",
    "plt.plot(c_vv_trajmean, label=r\"traj. $\\langle V\\rangle$\")\n",
    "plt.ylim(-0.1,1.1); plt.legend()\n",
    "plt.xlabel(r\"$\\Delta$ steps\"); plt.ylabel(r\"$c_{VV}$\")\n",
    "print(\"Autocorrelation time (exact mean): %8.4f steps \" %(tau_v))\n",
    "print(\"Autocorrelation time (traj. mean): %8.4f steps \" %(tau_v_trajmean))"
   ]
  },
  {
   "cell_type": "markdown",
   "metadata": {},
   "source": [
    "# Langevin dynamics"
   ]
  },
  {
   "cell_type": "markdown",
   "metadata": {},
   "source": [
    "In this section we run and analyze simulations that use Langevin dynamics to sample the canonical ensemble. If you have any problem running the i-PI trajectories you may want to check [section 2](#integrators) in which some of the practical steps are introduced."
   ]
  },
  {
   "cell_type": "markdown",
   "metadata": {},
   "source": [
    "We will first go to the appropriate folder, create a copy of the template and edit it.  You will need to open a terminal and execute\n",
    "\n",
    "```\n",
    "$ cd pimd-mooc/1-getting_started\n",
    "$ cp template_langevin.xml input.xml\n",
    "```\n",
    "\n",
    "Edit the `input.xml` file. You can use `vi` in the terminal, or open the file with the file editing interface of Jupyter/Jupyterlab. \n",
    "\n",
    "First, we are going to set up a rather \"by the book\" simulation - a conservative time step for liquid water is of the order of 0.5 fs. Look for the time step specification and edit it so it reads `<timestep units='femtosecond'> 0.5  </timestep>`. You should also set the output prefix to a memorable name - it is recommended to use `<output prefix='md-ts_0.5'>` to be compatible with the postprocessing in this notebook.\n",
    "\n",
    "Then launch i-PI and the driver - either using two terminals or putting i-PI in the background.\n",
    "\n",
    "```\n",
    "$ i-pi input.xml &> log &\n",
    "$ i-pi-driver -u -h driver -m qtip4pf \n",
    "```"
   ]
  },
  {
   "cell_type": "code",
   "execution_count": null,
   "metadata": {},
   "outputs": [],
   "source": []
  },
  {
   "cell_type": "code",
   "execution_count": null,
   "metadata": {},
   "outputs": [],
   "source": []
  },
  {
   "cell_type": "code",
   "execution_count": null,
   "metadata": {},
   "outputs": [],
   "source": []
  },
  {
   "cell_type": "code",
   "execution_count": null,
   "metadata": {},
   "outputs": [],
   "source": []
  }
 ],
 "metadata": {
  "kernelspec": {
   "display_name": "Python 3",
   "language": "python",
   "name": "python3"
  },
  "language_info": {
   "codemirror_mode": {
    "name": "ipython",
    "version": 3
   },
   "file_extension": ".py",
   "mimetype": "text/x-python",
   "name": "python",
   "nbconvert_exporter": "python",
   "pygments_lexer": "ipython3",
   "version": "3.8.10"
  },
  "toc": {
   "base_numbering": 1,
   "nav_menu": {},
   "number_sections": true,
   "sideBar": true,
   "skip_h1_title": false,
   "title_cell": "Table of Contents",
   "title_sidebar": "Contents",
   "toc_cell": false,
   "toc_position": {},
   "toc_section_display": true,
   "toc_window_display": false
  }
 },
 "nbformat": 4,
 "nbformat_minor": 4
}
